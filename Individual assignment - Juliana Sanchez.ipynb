{
 "cells": [
  {
   "cell_type": "markdown",
   "id": "f3f8b0dd",
   "metadata": {},
   "source": [
    "# Benchmark experiment - Juliana Sanchez"
   ]
  },
  {
   "cell_type": "code",
   "execution_count": 51,
   "id": "31ae1dfa",
   "metadata": {},
   "outputs": [],
   "source": [
    "#Importing required libraries\n",
    "import numpy as np\n",
    "import pandas as pd\n",
    "from sklearn.model_selection import train_test_split\n",
    "from sklearn.impute import SimpleImputer\n",
    "from sklearn.feature_selection import mutual_info_classif, VarianceThreshold\n",
    "import matplotlib.pyplot as plt\n",
    "from sklearn.linear_model import LogisticRegression\n",
    "from sklearn import metrics\n",
    "from sklearn.model_selection import cross_val_score\n",
    "from sklearn.model_selection import StratifiedKFold\n",
    "from sklearn.metrics import RocCurveDisplay\n",
    "from sklearn.metrics import auc\n",
    "from sklearn.preprocessing import StandardScaler\n",
    "from sklearn.discriminant_analysis import LinearDiscriminantAnalysis as LDA\n",
    "from sklearn.neighbors import KNeighborsClassifier\n",
    "from sklearn.ensemble import RandomForestClassifier\n",
    "from sklearn.svm import SVC\n",
    "from sklearn.preprocessing import MinMaxScaler\n"
   ]
  },
  {
   "cell_type": "code",
   "execution_count": 52,
   "id": "318acc0e",
   "metadata": {},
   "outputs": [
    {
     "data": {
      "text/html": [
       "<div>\n",
       "<style scoped>\n",
       "    .dataframe tbody tr th:only-of-type {\n",
       "        vertical-align: middle;\n",
       "    }\n",
       "\n",
       "    .dataframe tbody tr th {\n",
       "        vertical-align: top;\n",
       "    }\n",
       "\n",
       "    .dataframe thead th {\n",
       "        text-align: right;\n",
       "    }\n",
       "</style>\n",
       "<table border=\"1\" class=\"dataframe\">\n",
       "  <thead>\n",
       "    <tr style=\"text-align: right;\">\n",
       "      <th></th>\n",
       "      <th>client_id</th>\n",
       "      <th>age</th>\n",
       "      <th>job</th>\n",
       "      <th>marital</th>\n",
       "      <th>education</th>\n",
       "      <th>default</th>\n",
       "      <th>housing</th>\n",
       "      <th>loan</th>\n",
       "      <th>contact</th>\n",
       "      <th>month</th>\n",
       "      <th>...</th>\n",
       "      <th>campaign</th>\n",
       "      <th>pdays</th>\n",
       "      <th>previous</th>\n",
       "      <th>poutcome</th>\n",
       "      <th>emp.var.rate</th>\n",
       "      <th>cons.price.idx</th>\n",
       "      <th>cons.conf.idx</th>\n",
       "      <th>euribor3m</th>\n",
       "      <th>nr.employed</th>\n",
       "      <th>subscribe</th>\n",
       "    </tr>\n",
       "  </thead>\n",
       "  <tbody>\n",
       "    <tr>\n",
       "      <th>0</th>\n",
       "      <td>29925</td>\n",
       "      <td>42.0</td>\n",
       "      <td>management</td>\n",
       "      <td>married</td>\n",
       "      <td>basic.9y</td>\n",
       "      <td>no</td>\n",
       "      <td>no</td>\n",
       "      <td>no</td>\n",
       "      <td>cellular</td>\n",
       "      <td>jul</td>\n",
       "      <td>...</td>\n",
       "      <td>1.0</td>\n",
       "      <td>999.0</td>\n",
       "      <td>0.0</td>\n",
       "      <td>nonexistent</td>\n",
       "      <td>1.4</td>\n",
       "      <td>93.918</td>\n",
       "      <td>-42.7</td>\n",
       "      <td>4.968</td>\n",
       "      <td>5228.1</td>\n",
       "      <td>0</td>\n",
       "    </tr>\n",
       "    <tr>\n",
       "      <th>1</th>\n",
       "      <td>37529</td>\n",
       "      <td>35.0</td>\n",
       "      <td>unemployed</td>\n",
       "      <td>married</td>\n",
       "      <td>university.degree</td>\n",
       "      <td>no</td>\n",
       "      <td>yes</td>\n",
       "      <td>no</td>\n",
       "      <td>telephone</td>\n",
       "      <td>jun</td>\n",
       "      <td>...</td>\n",
       "      <td>4.0</td>\n",
       "      <td>999.0</td>\n",
       "      <td>0.0</td>\n",
       "      <td>nonexistent</td>\n",
       "      <td>1.4</td>\n",
       "      <td>94.465</td>\n",
       "      <td>-41.8</td>\n",
       "      <td>4.960</td>\n",
       "      <td>5228.1</td>\n",
       "      <td>0</td>\n",
       "    </tr>\n",
       "    <tr>\n",
       "      <th>2</th>\n",
       "      <td>2757</td>\n",
       "      <td>44.0</td>\n",
       "      <td>technician</td>\n",
       "      <td>married</td>\n",
       "      <td>basic.9y</td>\n",
       "      <td>no</td>\n",
       "      <td>yes</td>\n",
       "      <td>yes</td>\n",
       "      <td>cellular</td>\n",
       "      <td>may</td>\n",
       "      <td>...</td>\n",
       "      <td>1.0</td>\n",
       "      <td>999.0</td>\n",
       "      <td>0.0</td>\n",
       "      <td>nonexistent</td>\n",
       "      <td>-1.8</td>\n",
       "      <td>92.893</td>\n",
       "      <td>-46.2</td>\n",
       "      <td>1.264</td>\n",
       "      <td>5099.1</td>\n",
       "      <td>0</td>\n",
       "    </tr>\n",
       "    <tr>\n",
       "      <th>3</th>\n",
       "      <td>9642</td>\n",
       "      <td>45.0</td>\n",
       "      <td>services</td>\n",
       "      <td>married</td>\n",
       "      <td>high.school</td>\n",
       "      <td>no</td>\n",
       "      <td>yes</td>\n",
       "      <td>no</td>\n",
       "      <td>cellular</td>\n",
       "      <td>apr</td>\n",
       "      <td>...</td>\n",
       "      <td>1.0</td>\n",
       "      <td>999.0</td>\n",
       "      <td>0.0</td>\n",
       "      <td>nonexistent</td>\n",
       "      <td>-1.8</td>\n",
       "      <td>93.075</td>\n",
       "      <td>-47.1</td>\n",
       "      <td>1.453</td>\n",
       "      <td>5099.1</td>\n",
       "      <td>0</td>\n",
       "    </tr>\n",
       "    <tr>\n",
       "      <th>4</th>\n",
       "      <td>14183</td>\n",
       "      <td>45.0</td>\n",
       "      <td>unknown</td>\n",
       "      <td>married</td>\n",
       "      <td>unknown</td>\n",
       "      <td>unknown</td>\n",
       "      <td>unknown</td>\n",
       "      <td>unknown</td>\n",
       "      <td>telephone</td>\n",
       "      <td>may</td>\n",
       "      <td>...</td>\n",
       "      <td>1.0</td>\n",
       "      <td>999.0</td>\n",
       "      <td>0.0</td>\n",
       "      <td>nonexistent</td>\n",
       "      <td>1.1</td>\n",
       "      <td>93.994</td>\n",
       "      <td>-36.4</td>\n",
       "      <td>4.859</td>\n",
       "      <td>5191.0</td>\n",
       "      <td>0</td>\n",
       "    </tr>\n",
       "  </tbody>\n",
       "</table>\n",
       "<p>5 rows × 21 columns</p>\n",
       "</div>"
      ],
      "text/plain": [
       "   client_id   age         job  marital          education  default  housing  \\\n",
       "0      29925  42.0  management  married           basic.9y       no       no   \n",
       "1      37529  35.0  unemployed  married  university.degree       no      yes   \n",
       "2       2757  44.0  technician  married           basic.9y       no      yes   \n",
       "3       9642  45.0    services  married        high.school       no      yes   \n",
       "4      14183  45.0     unknown  married            unknown  unknown  unknown   \n",
       "\n",
       "      loan    contact month  ... campaign  pdays  previous     poutcome  \\\n",
       "0       no   cellular   jul  ...      1.0  999.0       0.0  nonexistent   \n",
       "1       no  telephone   jun  ...      4.0  999.0       0.0  nonexistent   \n",
       "2      yes   cellular   may  ...      1.0  999.0       0.0  nonexistent   \n",
       "3       no   cellular   apr  ...      1.0  999.0       0.0  nonexistent   \n",
       "4  unknown  telephone   may  ...      1.0  999.0       0.0  nonexistent   \n",
       "\n",
       "  emp.var.rate  cons.price.idx  cons.conf.idx  euribor3m  nr.employed  \\\n",
       "0          1.4          93.918          -42.7      4.968       5228.1   \n",
       "1          1.4          94.465          -41.8      4.960       5228.1   \n",
       "2         -1.8          92.893          -46.2      1.264       5099.1   \n",
       "3         -1.8          93.075          -47.1      1.453       5099.1   \n",
       "4          1.1          93.994          -36.4      4.859       5191.0   \n",
       "\n",
       "   subscribe  \n",
       "0          0  \n",
       "1          0  \n",
       "2          0  \n",
       "3          0  \n",
       "4          0  \n",
       "\n",
       "[5 rows x 21 columns]"
      ]
     },
     "execution_count": 52,
     "metadata": {},
     "output_type": "execute_result"
    }
   ],
   "source": [
    "# Read data\n",
    "data = pd.read_csv('Dataset 1_Bank Marketing/bank_mkt_train.csv')\n",
    "#Split train and test\n",
    "train, test = train_test_split(data, test_size=0.2, random_state=42)\n",
    "data.head()"
   ]
  },
  {
   "cell_type": "code",
   "execution_count": 53,
   "id": "21bb72eb",
   "metadata": {},
   "outputs": [
    {
     "name": "stdout",
     "output_type": "stream",
     "text": [
      "<class 'pandas.core.frame.DataFrame'>\n",
      "Int64Index: 16000 entries, 5894 to 15795\n",
      "Data columns (total 21 columns):\n",
      " #   Column          Non-Null Count  Dtype  \n",
      "---  ------          --------------  -----  \n",
      " 0   client_id       16000 non-null  int64  \n",
      " 1   age             15842 non-null  float64\n",
      " 2   job             15860 non-null  object \n",
      " 3   marital         15841 non-null  object \n",
      " 4   education       15865 non-null  object \n",
      " 5   default         15825 non-null  object \n",
      " 6   housing         15837 non-null  object \n",
      " 7   loan            15827 non-null  object \n",
      " 8   contact         15829 non-null  object \n",
      " 9   month           15838 non-null  object \n",
      " 10  day_of_week     15852 non-null  object \n",
      " 11  campaign        15844 non-null  float64\n",
      " 12  pdays           15846 non-null  float64\n",
      " 13  previous        15841 non-null  float64\n",
      " 14  poutcome        15861 non-null  object \n",
      " 15  emp.var.rate    15863 non-null  float64\n",
      " 16  cons.price.idx  15851 non-null  float64\n",
      " 17  cons.conf.idx   15841 non-null  float64\n",
      " 18  euribor3m       15842 non-null  float64\n",
      " 19  nr.employed     15852 non-null  float64\n",
      " 20  subscribe       16000 non-null  int64  \n",
      "dtypes: float64(9), int64(2), object(10)\n",
      "memory usage: 2.7+ MB\n"
     ]
    }
   ],
   "source": [
    "#Summary of the data - 1\n",
    "train.info()"
   ]
  },
  {
   "cell_type": "code",
   "execution_count": 54,
   "id": "df0a04fa",
   "metadata": {},
   "outputs": [],
   "source": [
    "#numeric variables\n",
    "num_var = ['age','pdays','previous',\"emp.var.rate\",\"cons.price.idx\",\"cons.conf.idx\",\"euribor3m\",\"nr.employed\",'campaign']\n",
    "#Categorical variables\n",
    "cat_var = [\"job\",'marital','education','default','housing','loan','contact','month','day_of_week','poutcome']"
   ]
  },
  {
   "cell_type": "code",
   "execution_count": 55,
   "id": "723f41ac",
   "metadata": {},
   "outputs": [
    {
     "data": {
      "text/html": [
       "<div>\n",
       "<style scoped>\n",
       "    .dataframe tbody tr th:only-of-type {\n",
       "        vertical-align: middle;\n",
       "    }\n",
       "\n",
       "    .dataframe tbody tr th {\n",
       "        vertical-align: top;\n",
       "    }\n",
       "\n",
       "    .dataframe thead th {\n",
       "        text-align: right;\n",
       "    }\n",
       "</style>\n",
       "<table border=\"1\" class=\"dataframe\">\n",
       "  <thead>\n",
       "    <tr style=\"text-align: right;\">\n",
       "      <th></th>\n",
       "      <th>age</th>\n",
       "      <th>pdays</th>\n",
       "      <th>previous</th>\n",
       "      <th>emp.var.rate</th>\n",
       "      <th>cons.price.idx</th>\n",
       "      <th>cons.conf.idx</th>\n",
       "      <th>euribor3m</th>\n",
       "      <th>nr.employed</th>\n",
       "      <th>campaign</th>\n",
       "    </tr>\n",
       "  </thead>\n",
       "  <tbody>\n",
       "    <tr>\n",
       "      <th>count</th>\n",
       "      <td>15842.000000</td>\n",
       "      <td>15846.000000</td>\n",
       "      <td>15841.000000</td>\n",
       "      <td>15863.000000</td>\n",
       "      <td>15851.000000</td>\n",
       "      <td>15841.000000</td>\n",
       "      <td>15842.000000</td>\n",
       "      <td>15852.000000</td>\n",
       "      <td>15844.000000</td>\n",
       "    </tr>\n",
       "    <tr>\n",
       "      <th>mean</th>\n",
       "      <td>40.084207</td>\n",
       "      <td>961.897892</td>\n",
       "      <td>0.171012</td>\n",
       "      <td>0.095127</td>\n",
       "      <td>93.578654</td>\n",
       "      <td>-40.466189</td>\n",
       "      <td>3.639844</td>\n",
       "      <td>5167.612528</td>\n",
       "      <td>2.589371</td>\n",
       "    </tr>\n",
       "    <tr>\n",
       "      <th>std</th>\n",
       "      <td>10.423776</td>\n",
       "      <td>188.341702</td>\n",
       "      <td>0.500488</td>\n",
       "      <td>1.570787</td>\n",
       "      <td>0.580341</td>\n",
       "      <td>4.607290</td>\n",
       "      <td>1.727993</td>\n",
       "      <td>72.093729</td>\n",
       "      <td>2.831599</td>\n",
       "    </tr>\n",
       "    <tr>\n",
       "      <th>min</th>\n",
       "      <td>17.000000</td>\n",
       "      <td>0.000000</td>\n",
       "      <td>0.000000</td>\n",
       "      <td>-3.400000</td>\n",
       "      <td>92.201000</td>\n",
       "      <td>-50.800000</td>\n",
       "      <td>0.634000</td>\n",
       "      <td>4963.600000</td>\n",
       "      <td>1.000000</td>\n",
       "    </tr>\n",
       "    <tr>\n",
       "      <th>25%</th>\n",
       "      <td>32.000000</td>\n",
       "      <td>999.000000</td>\n",
       "      <td>0.000000</td>\n",
       "      <td>-1.800000</td>\n",
       "      <td>93.075000</td>\n",
       "      <td>-42.700000</td>\n",
       "      <td>1.344000</td>\n",
       "      <td>5099.100000</td>\n",
       "      <td>1.000000</td>\n",
       "    </tr>\n",
       "    <tr>\n",
       "      <th>50%</th>\n",
       "      <td>38.000000</td>\n",
       "      <td>999.000000</td>\n",
       "      <td>0.000000</td>\n",
       "      <td>1.100000</td>\n",
       "      <td>93.876000</td>\n",
       "      <td>-41.800000</td>\n",
       "      <td>4.857000</td>\n",
       "      <td>5191.000000</td>\n",
       "      <td>2.000000</td>\n",
       "    </tr>\n",
       "    <tr>\n",
       "      <th>75%</th>\n",
       "      <td>47.000000</td>\n",
       "      <td>999.000000</td>\n",
       "      <td>0.000000</td>\n",
       "      <td>1.400000</td>\n",
       "      <td>93.994000</td>\n",
       "      <td>-36.400000</td>\n",
       "      <td>4.961000</td>\n",
       "      <td>5228.100000</td>\n",
       "      <td>3.000000</td>\n",
       "    </tr>\n",
       "    <tr>\n",
       "      <th>max</th>\n",
       "      <td>98.000000</td>\n",
       "      <td>999.000000</td>\n",
       "      <td>6.000000</td>\n",
       "      <td>1.400000</td>\n",
       "      <td>94.767000</td>\n",
       "      <td>-26.900000</td>\n",
       "      <td>5.045000</td>\n",
       "      <td>5228.100000</td>\n",
       "      <td>56.000000</td>\n",
       "    </tr>\n",
       "  </tbody>\n",
       "</table>\n",
       "</div>"
      ],
      "text/plain": [
       "                age         pdays      previous  emp.var.rate  cons.price.idx  \\\n",
       "count  15842.000000  15846.000000  15841.000000  15863.000000    15851.000000   \n",
       "mean      40.084207    961.897892      0.171012      0.095127       93.578654   \n",
       "std       10.423776    188.341702      0.500488      1.570787        0.580341   \n",
       "min       17.000000      0.000000      0.000000     -3.400000       92.201000   \n",
       "25%       32.000000    999.000000      0.000000     -1.800000       93.075000   \n",
       "50%       38.000000    999.000000      0.000000      1.100000       93.876000   \n",
       "75%       47.000000    999.000000      0.000000      1.400000       93.994000   \n",
       "max       98.000000    999.000000      6.000000      1.400000       94.767000   \n",
       "\n",
       "       cons.conf.idx     euribor3m   nr.employed      campaign  \n",
       "count   15841.000000  15842.000000  15852.000000  15844.000000  \n",
       "mean      -40.466189      3.639844   5167.612528      2.589371  \n",
       "std         4.607290      1.727993     72.093729      2.831599  \n",
       "min       -50.800000      0.634000   4963.600000      1.000000  \n",
       "25%       -42.700000      1.344000   5099.100000      1.000000  \n",
       "50%       -41.800000      4.857000   5191.000000      2.000000  \n",
       "75%       -36.400000      4.961000   5228.100000      3.000000  \n",
       "max       -26.900000      5.045000   5228.100000     56.000000  "
      ]
     },
     "execution_count": 55,
     "metadata": {},
     "output_type": "execute_result"
    }
   ],
   "source": [
    "#Summary of the data - Numeric variables\n",
    "train[num_var].describe()"
   ]
  },
  {
   "cell_type": "code",
   "execution_count": 56,
   "id": "8d034f1e",
   "metadata": {},
   "outputs": [
    {
     "name": "stdout",
     "output_type": "stream",
     "text": [
      "                job\n",
      "admin.         3985\n",
      "blue-collar    3556\n",
      "technician     2595\n",
      "services       1549\n",
      "management     1139\n",
      "retired         674\n",
      "entrepreneur    586\n",
      "self-employed   557\n",
      "housemaid       431\n",
      "unemployed      374\n",
      "student         304\n",
      "unknown         110\n",
      "          marital\n",
      "married      9559\n",
      "single       4443\n",
      "divorced     1809\n",
      "unknown        30\n",
      "                     education\n",
      "university.degree         4779\n",
      "high.school               3566\n",
      "basic.9y                  2340\n",
      "professional.course       2009\n",
      "basic.4y                  1660\n",
      "basic.6y                   887\n",
      "unknown                    617\n",
      "illiterate                   7\n",
      "         default\n",
      "no         12563\n",
      "unknown     3260\n",
      "yes            2\n",
      "         housing\n",
      "yes         8388\n",
      "no          7101\n",
      "unknown      348\n",
      "          loan\n",
      "no       13053\n",
      "yes       2425\n",
      "unknown    349\n",
      "           contact\n",
      "cellular      9980\n",
      "telephone     5849\n",
      "     month\n",
      "may   5292\n",
      "jul   2813\n",
      "aug   2339\n",
      "jun   2071\n",
      "nov   1619\n",
      "apr    954\n",
      "oct    269\n",
      "sep    225\n",
      "mar    185\n",
      "dec     71\n",
      "     day_of_week\n",
      "thu         3362\n",
      "mon         3309\n",
      "wed         3146\n",
      "tue         3052\n",
      "fri         2983\n",
      "             poutcome\n",
      "nonexistent     13764\n",
      "failure          1551\n",
      "success           546\n"
     ]
    }
   ],
   "source": [
    "#Summary of the data - Categorical variables\n",
    "for col in cat_var:\n",
    "    summary = train[col].value_counts()\n",
    "    print(pd.DataFrame(summary))"
   ]
  },
  {
   "cell_type": "code",
   "execution_count": 57,
   "id": "70d8d79b",
   "metadata": {},
   "outputs": [
    {
     "data": {
      "text/plain": [
       "subscribe\n",
       "0            14213\n",
       "1             1787\n",
       "dtype: int64"
      ]
     },
     "execution_count": 57,
     "metadata": {},
     "output_type": "execute_result"
    }
   ],
   "source": [
    "#Target variable\n",
    "train[['subscribe']].value_counts()"
   ]
  },
  {
   "cell_type": "markdown",
   "id": "8526eb1b",
   "metadata": {},
   "source": [
    "## 1.Data processing"
   ]
  },
  {
   "cell_type": "code",
   "execution_count": 58,
   "id": "756f8d9b",
   "metadata": {},
   "outputs": [
    {
     "name": "stdout",
     "output_type": "stream",
     "text": [
      "Train - # NA of num vars: 1378\n",
      "Train - # NA of cat vars: 1565\n",
      "Test - # NA of num vars: 352\n",
      "Test - # NA of cat vars: 369\n"
     ]
    }
   ],
   "source": [
    "#Checking missing values\n",
    "print('Train - # NA of num vars:', train[num_var].isna().sum().sum())\n",
    "print('Train - # NA of cat vars:', train[cat_var].isna().sum().sum())\n",
    "print('Test - # NA of num vars:', test[num_var].isna().sum().sum())\n",
    "print('Test - # NA of cat vars:', test[cat_var].isna().sum().sum())"
   ]
  },
  {
   "cell_type": "code",
   "execution_count": 59,
   "id": "e7d552da",
   "metadata": {},
   "outputs": [],
   "source": [
    "#Impute missing values for numeric variables\n",
    "for col in num_var:\n",
    "    mean = train[col].mean()\n",
    "    train[col+\"_na\"]=0\n",
    "    train.loc[train[col].isna() == True,col+\"_na\"]=1\n",
    "    train[col] = train[col].fillna(mean)\n",
    "    \n",
    "    test[col+\"_na\"]=0\n",
    "    test.loc[test[col].isna() == True,col+\"_na\"]=1\n",
    "    test[col] = test[col].fillna(mean)\n"
   ]
  },
  {
   "cell_type": "code",
   "execution_count": 60,
   "id": "51104d6f",
   "metadata": {},
   "outputs": [],
   "source": [
    "#Impute missing values for categoric variables\n",
    "train[cat_var] = train[cat_var].fillna('Missing')\n",
    "test[cat_var] = test[cat_var].fillna('Missing')"
   ]
  },
  {
   "cell_type": "code",
   "execution_count": null,
   "id": "a91cb9d3",
   "metadata": {},
   "outputs": [],
   "source": []
  },
  {
   "cell_type": "markdown",
   "id": "9eaedf46",
   "metadata": {},
   "source": [
    "## 2.Feature engineering"
   ]
  },
  {
   "cell_type": "code",
   "execution_count": 61,
   "id": "5f0c20d3",
   "metadata": {},
   "outputs": [],
   "source": [
    "#Dummy variable to check contact\n",
    "train['contacted'] = 0\n",
    "train.loc[train[\"pdays\"]<900,\"contacted\"]=1\n",
    "train = train.drop(['pdays'],axis=1)\n",
    "\n",
    "test['contacted'] = 0\n",
    "test.loc[test[\"pdays\"]<900,\"contacted\"]=1\n",
    "test = test.drop(['pdays'],axis=1)\n",
    "\n",
    "num_var = num_var.remove(\"pdays\")\n"
   ]
  },
  {
   "cell_type": "code",
   "execution_count": 62,
   "id": "d20e03f3",
   "metadata": {},
   "outputs": [],
   "source": [
    "#Age categories per quartiles\n",
    "train[\"buckets_ages\"] = pd.qcut(train['age'], q=4)\n",
    "cat_var = cat_var + ['buckets_ages']\n",
    "\n",
    "test['buckets_ages'] = \"(16.999, 32.0]\"\n",
    "test.loc[test['age']>47,\"buckets_ages\"]=\"(47.0, 98.0]\"\n",
    "test.loc[(test['age']<47) & (test['age']>38),\"buckets_ages\"] = \"(38.0, 47.0]\"\n",
    "test.loc[(test['age']<38) & (test['age']>33),\"buckets_ages\"] = \"(32.0, 38.0]\"\n"
   ]
  },
  {
   "cell_type": "code",
   "execution_count": 63,
   "id": "b87862f9",
   "metadata": {},
   "outputs": [],
   "source": [
    "#Normalizing variables for KNN\n",
    "vars_norm = [\"campaign\",\"previous\",\"emp.var.rate\",\"cons.price.idx\",\"cons.conf.idx\",\"euribor3m\",\"nr.employed\"]\n",
    "enable_normalize = True  # Normalize the data to the same range [0, 1]\n",
    "if enable_normalize:\n",
    "    for var in vars_norm:\n",
    "        # Build the normalizer on train\n",
    "        scaler = MinMaxScaler().fit(train[[var]])\n",
    "        # Apply on train, test\n",
    "        train[var] = scaler.transform(train[[var]])\n",
    "        test[var] = scaler.transform(test[[var]])"
   ]
  },
  {
   "cell_type": "code",
   "execution_count": 64,
   "id": "aef22865",
   "metadata": {},
   "outputs": [],
   "source": [
    "#Creating dummy variables\n",
    "train = pd.get_dummies(train, columns=cat_var, drop_first=False)\n",
    "test = pd.get_dummies(test, columns=cat_var, drop_first=False)"
   ]
  },
  {
   "cell_type": "code",
   "execution_count": 65,
   "id": "4ffbfd4a",
   "metadata": {},
   "outputs": [],
   "source": [
    "train = train.drop(['job_Missing','marital_Missing', 'education_Missing','default_Missing', 'housing_Missing','loan_Missing',\n",
    "       'contact_Missing', 'month_Missing', 'day_of_week_fri','poutcome_failure','buckets_ages_(16.999, 32.0]'],axis=1)\n",
    "\n",
    "test = test.drop(['job_Missing','marital_Missing', 'education_Missing','default_Missing', 'housing_Missing','loan_Missing',\n",
    "       'contact_Missing', 'month_Missing', 'day_of_week_fri','poutcome_failure','buckets_ages_(16.999, 32.0]'],axis=1)"
   ]
  },
  {
   "cell_type": "code",
   "execution_count": 66,
   "id": "980ac358",
   "metadata": {},
   "outputs": [],
   "source": [
    "#Final variables\n",
    "id_var = ['customer_id']\n",
    "target_var = ['subscribe']\n",
    "predictors = [v for v in train.columns if v not in id_var + target_var]\n",
    "\n",
    "target_train = train[[\"subscribe\"]]\n",
    "target_test= test[[\"subscribe\"]]"
   ]
  },
  {
   "cell_type": "markdown",
   "id": "53047daf",
   "metadata": {},
   "source": [
    "## 3. Models benchmark"
   ]
  },
  {
   "cell_type": "markdown",
   "id": "1336c915",
   "metadata": {},
   "source": [
    "### A. Logistic regression"
   ]
  },
  {
   "cell_type": "code",
   "execution_count": 67,
   "id": "d3837f0b",
   "metadata": {},
   "outputs": [],
   "source": [
    "#Fisher score for feature selection\n",
    "def FisherScore(bt, target_var, predictors):\n",
    "    \"\"\"\n",
    "    This function calculate the Fisher score of a variable.\n",
    "\n",
    "    Ref:\n",
    "    ---\n",
    "    Verbeke, W., Dejaeger, K., Martens, D., Hur, J., & Baesens, B. (2012). New insights\n",
    "    into churn prediction in the telecommunication sector: A profit driven data mining\n",
    "    approach. European Journal of Operational Research, 218(1), 211-229.\n",
    "    \"\"\"\n",
    "    \n",
    "    # Get the unique values of dependent variable\n",
    "    target_var_val = bt[target_var].unique()\n",
    "    # Calculate FisherScore for each predictor\n",
    "    predictor_FisherScore = []\n",
    "    for v in predictors:\n",
    "        fs = np.abs(np.mean(bt.loc[bt[target_var]==target_var_val[0], v]) - np.mean(bt.loc[bt[target_var]==target_var_val[1], v])) / \\\n",
    "             np.sqrt(np.var(bt.loc[bt[target_var]==target_var_val[0], v]) + np.var(bt.loc[bt[target_var]==target_var_val[1], v]))\n",
    "        predictor_FisherScore.append(fs)\n",
    "    return predictor_FisherScore"
   ]
  },
  {
   "cell_type": "code",
   "execution_count": 68,
   "id": "e0a2c2b6",
   "metadata": {},
   "outputs": [
    {
     "data": {
      "text/html": [
       "<div>\n",
       "<style scoped>\n",
       "    .dataframe tbody tr th:only-of-type {\n",
       "        vertical-align: middle;\n",
       "    }\n",
       "\n",
       "    .dataframe tbody tr th {\n",
       "        vertical-align: top;\n",
       "    }\n",
       "\n",
       "    .dataframe thead th {\n",
       "        text-align: right;\n",
       "    }\n",
       "</style>\n",
       "<table border=\"1\" class=\"dataframe\">\n",
       "  <thead>\n",
       "    <tr style=\"text-align: right;\">\n",
       "      <th></th>\n",
       "      <th>predictor</th>\n",
       "      <th>fisherscore</th>\n",
       "    </tr>\n",
       "  </thead>\n",
       "  <tbody>\n",
       "    <tr>\n",
       "      <th>8</th>\n",
       "      <td>nr.employed</td>\n",
       "      <td>0.748816</td>\n",
       "    </tr>\n",
       "    <tr>\n",
       "      <th>7</th>\n",
       "      <td>euribor3m</td>\n",
       "      <td>0.714965</td>\n",
       "    </tr>\n",
       "    <tr>\n",
       "      <th>4</th>\n",
       "      <td>emp.var.rate</td>\n",
       "      <td>0.677628</td>\n",
       "    </tr>\n",
       "    <tr>\n",
       "      <th>18</th>\n",
       "      <td>contacted</td>\n",
       "      <td>0.473696</td>\n",
       "    </tr>\n",
       "    <tr>\n",
       "      <th>71</th>\n",
       "      <td>poutcome_success</td>\n",
       "      <td>0.454186</td>\n",
       "    </tr>\n",
       "    <tr>\n",
       "      <th>3</th>\n",
       "      <td>previous</td>\n",
       "      <td>0.398336</td>\n",
       "    </tr>\n",
       "    <tr>\n",
       "      <th>70</th>\n",
       "      <td>poutcome_nonexistent</td>\n",
       "      <td>0.384037</td>\n",
       "    </tr>\n",
       "  </tbody>\n",
       "</table>\n",
       "</div>"
      ],
      "text/plain": [
       "               predictor  fisherscore\n",
       "8            nr.employed     0.748816\n",
       "7              euribor3m     0.714965\n",
       "4           emp.var.rate     0.677628\n",
       "18             contacted     0.473696\n",
       "71      poutcome_success     0.454186\n",
       "3               previous     0.398336\n",
       "70  poutcome_nonexistent     0.384037"
      ]
     },
     "execution_count": 68,
     "metadata": {},
     "output_type": "execute_result"
    }
   ],
   "source": [
    "# Calculate Fisher Score for all variables\n",
    "fs = FisherScore(train, target_var[0], predictors)\n",
    "fs_df = pd.DataFrame({\"predictor\":predictors, \"fisherscore\":fs})\n",
    "fs_df = fs_df.sort_values('fisherscore', ascending=False)\n",
    "fs_df.head(7)"
   ]
  },
  {
   "cell_type": "code",
   "execution_count": 69,
   "id": "7fd9971d",
   "metadata": {},
   "outputs": [],
   "source": [
    "num_var = ['age','previous',\"emp.var.rate\",\"cons.price.idx\",\"cons.conf.idx\",\"euribor3m\",\"nr.employed\",'campaign','job_admin.',\n",
    "       'job_blue-collar', 'job_entrepreneur', 'job_housemaid',\n",
    "       'job_management', 'job_retired', 'job_self-employed', 'job_services',\n",
    "       'job_student', 'job_technician', 'job_unemployed', 'job_unknown',\n",
    "       'marital_divorced', 'marital_married', 'marital_single',\n",
    "       'marital_unknown', 'education_basic.4y', 'education_basic.6y',\n",
    "       'education_basic.9y', 'education_high.school', 'education_illiterate',\n",
    "       'education_professional.course', 'education_university.degree',\n",
    "       'education_unknown', 'default_no', 'default_unknown', 'default_yes',\n",
    "       'housing_no', 'housing_unknown', 'housing_yes', 'loan_no',\n",
    "       'loan_unknown', 'loan_yes', 'contact_cellular', 'contact_telephone',\n",
    "       'month_apr', 'month_aug', 'month_dec', 'month_jul', 'month_jun',\n",
    "       'month_mar', 'month_may', 'month_nov', 'month_oct', 'month_sep',\n",
    "       'day_of_week_Missing', 'day_of_week_mon', 'day_of_week_thu',\n",
    "       'day_of_week_tue', 'day_of_week_wed', 'poutcome_Missing',\n",
    "       'poutcome_nonexistent', 'poutcome_success', 'buckets_ages_(32.0, 38.0]',\n",
    "       'buckets_ages_(38.0, 47.0]', 'buckets_ages_(47.0, 98.0]']\n"
   ]
  },
  {
   "cell_type": "code",
   "execution_count": 70,
   "id": "c00bb255",
   "metadata": {},
   "outputs": [
    {
     "name": "stdout",
     "output_type": "stream",
     "text": [
      "Top 5 vars [+] correlated with target_var :\n",
      "poutcome_success    0.328997\n",
      "previous            0.245107\n",
      "contact_cellular    0.141456\n",
      "month_oct           0.137289\n",
      "month_mar           0.132408\n",
      "Name: subscribe, dtype: float64\n",
      "Top 5 vars [-] correlated with target_var :\n",
      "contact_telephone      -0.143491\n",
      "poutcome_nonexistent   -0.198733\n",
      "emp.var.rate           -0.300462\n",
      "euribor3m              -0.311253\n",
      "nr.employed            -0.357708\n",
      "Name: subscribe, dtype: float64\n"
     ]
    }
   ],
   "source": [
    "# Pearson's correlation for numerical variables\n",
    "corr = train[num_var + ['subscribe']].corr(method='pearson')\n",
    "corr = corr[['subscribe'][0]][:-1].dropna().sort_values(ascending=False)\n",
    "print(\"Top 5 vars [+] correlated with target_var :\"); print(corr[corr > 0][:5])\n",
    "print(\"Top 5 vars [-] correlated with target_var :\"); print(corr[corr < 0][-5:])"
   ]
  },
  {
   "cell_type": "code",
   "execution_count": 71,
   "id": "49ef7f1e",
   "metadata": {},
   "outputs": [],
   "source": [
    "#selected variables\n",
    "#Fisher score\n",
    "logit_vars = ['nr.employed','euribor3m','emp.var.rate','contacted','poutcome_success','previous','poutcome_nonexistent']\n",
    "#Correlation\n",
    "corr_vars = ['nr.employed','euribor3m','emp.var.rate','contacted','poutcome_nonexistent','contact_telephone','poutcome_success','previous','contact_cellular']"
   ]
  },
  {
   "cell_type": "code",
   "execution_count": 72,
   "id": "5412a38f",
   "metadata": {},
   "outputs": [],
   "source": [
    "#Model\n",
    "logisticRegr = LogisticRegression()\n",
    "logisticRegr.fit(train[logit_vars], target_train.values.ravel())\n",
    "#Prediction in test set\n",
    "logit_pred = logisticRegr.predict(test[logit_vars])"
   ]
  },
  {
   "cell_type": "code",
   "execution_count": 73,
   "id": "96793e78",
   "metadata": {},
   "outputs": [
    {
     "name": "stdout",
     "output_type": "stream",
     "text": [
      "Accuracy:  0.891\n",
      "AUC:  0.7555075851596951\n"
     ]
    }
   ],
   "source": [
    "#Performance\n",
    "acc_logit = logisticRegr.score(test[logit_vars], target_test.values.ravel())\n",
    "print(\"Accuracy: \",acc_logit)\n",
    "\n",
    "logit_pred_proba = logisticRegr.predict_proba(test[logit_vars])[::,1]\n",
    "\n",
    "#calculate AUC of model\n",
    "auc_logit = metrics.roc_auc_score(target_test.values.ravel(), logit_pred_proba)\n",
    "\n",
    "#print AUC score\n",
    "print(\"AUC: \",auc_logit)"
   ]
  },
  {
   "cell_type": "code",
   "execution_count": 74,
   "id": "55a233de",
   "metadata": {},
   "outputs": [
    {
     "data": {
      "image/png": "[encoded data removed]",
      "text/plain": [
       "<Figure size 432x288 with 1 Axes>"
      ]
     },
     "metadata": {
      "needs_background": "light"
     },
     "output_type": "display_data"
    }
   ],
   "source": [
    "fpr, tpr, _ = metrics.roc_curve(target_test.values.ravel(),  logit_pred_proba)\n",
    "\n",
    "#create ROC curve\n",
    "plt.plot(fpr,tpr)\n",
    "plt.ylabel('True Positive Rate')\n",
    "plt.xlabel('False Positive Rate')\n",
    "plt.show()"
   ]
  },
  {
   "cell_type": "code",
   "execution_count": 75,
   "id": "ff3eec12",
   "metadata": {},
   "outputs": [
    {
     "data": {
      "text/plain": [
       "array([0.9015, 0.903 , 0.8965, 0.9   , 0.8975])"
      ]
     },
     "execution_count": 75,
     "metadata": {},
     "output_type": "execute_result"
    }
   ],
   "source": [
    "#Cross validation\n",
    "#merge train and test datasets for crossvalidation\n",
    "base_table = train.append(test).reset_index()\n",
    "target_tot = base_table['subscribe']\n",
    "indep_vars = base_table[logit_vars]\n",
    "cv_logit = cross_val_score(logisticRegr, indep_vars, target_tot.values.ravel(), cv=5)\n",
    "cv_logit"
   ]
  },
  {
   "cell_type": "code",
   "execution_count": 76,
   "id": "3385450d",
   "metadata": {},
   "outputs": [
    {
     "data": {
      "text/plain": [
       "[<matplotlib.lines.Line2D at 0x2c29f7a1460>]"
      ]
     },
     "execution_count": 76,
     "metadata": {},
     "output_type": "execute_result"
    },
    {
     "data": {
      "image/png": "[encoded data removed]",
      "text/plain": [
       "<Figure size 432x288 with 1 Axes>"
      ]
     },
     "metadata": {
      "needs_background": "light"
     },
     "output_type": "display_data"
    }
   ],
   "source": [
    "tprs = []\n",
    "aucs = []\n",
    "mean_fpr = np.linspace(0, 1, 100)\n",
    "cv = StratifiedKFold(n_splits=6)\n",
    "fig, ax = plt.subplots()\n",
    "for i, (train_f, test_f) in enumerate(cv.split(indep_vars, target_tot)):\n",
    "    logisticRegr.fit(indep_vars.iloc[train_f], target_tot.iloc[train_f])\n",
    "    viz = RocCurveDisplay.from_estimator(\n",
    "        logisticRegr,\n",
    "        indep_vars.iloc[test_f],\n",
    "        target_tot.iloc[test_f],\n",
    "        name=\"ROC fold {}\".format(i),\n",
    "        alpha=0.3,\n",
    "        lw=1,\n",
    "        ax=ax,\n",
    "    )\n",
    "    interp_tpr = np.interp(mean_fpr, viz.fpr, viz.tpr)\n",
    "    interp_tpr[0] = 0.0\n",
    "    tprs.append(interp_tpr)\n",
    "    aucs.append(viz.roc_auc)\n",
    "\n",
    "ax.plot([0, 1], [0, 1], linestyle=\"--\", lw=2, color=\"r\", label=\"Chance\", alpha=0.8)\n",
    "\n",
    "mean_tpr = np.mean(tprs, axis=0)\n",
    "mean_tpr[-1] = 1.0\n",
    "mean_auc = auc(mean_fpr, mean_tpr)\n",
    "std_auc = np.std(aucs)\n",
    "ax.plot(\n",
    "    mean_fpr,\n",
    "    mean_tpr,\n",
    "    color=\"b\",\n",
    "    label=r\"Mean ROC (AUC = %0.2f $\\pm$ %0.2f)\" % (mean_auc, std_auc),\n",
    "    lw=2,\n",
    "    alpha=0.8,\n",
    ")"
   ]
  },
  {
   "cell_type": "code",
   "execution_count": 77,
   "id": "a536795d",
   "metadata": {},
   "outputs": [
    {
     "name": "stdout",
     "output_type": "stream",
     "text": [
      "nr.employed             4.474087e-70\n",
      "euribor3m               1.166637e-05\n",
      "emp.var.rate            9.569171e-09\n",
      "contacted               3.268629e-06\n",
      "poutcome_success        1.183633e-02\n",
      "previous                6.871153e-02\n",
      "poutcome_nonexistent    1.448323e-04\n",
      "dtype: float64\n"
     ]
    },
    {
     "data": {
      "text/html": [
       "<table class=\"simpletable\">\n",
       "<caption>Logit Regression Results</caption>\n",
       "<tr>\n",
       "  <th>Dep. Variable:</th>           <td>y</td>        <th>  No. Observations:  </th>  <td> 16000</td> \n",
       "</tr>\n",
       "<tr>\n",
       "  <th>Model:</th>                 <td>Logit</td>      <th>  Df Residuals:      </th>  <td> 15993</td> \n",
       "</tr>\n",
       "<tr>\n",
       "  <th>Method:</th>                 <td>MLE</td>       <th>  Df Model:          </th>  <td>     6</td> \n",
       "</tr>\n",
       "<tr>\n",
       "  <th>Date:</th>            <td>Thu, 31 Mar 2022</td> <th>  Pseudo R-squ.:     </th>  <td>0.1872</td> \n",
       "</tr>\n",
       "<tr>\n",
       "  <th>Time:</th>                <td>22:11:06</td>     <th>  Log-Likelihood:    </th> <td> -4552.2</td>\n",
       "</tr>\n",
       "<tr>\n",
       "  <th>converged:</th>             <td>True</td>       <th>  LL-Null:           </th> <td> -5600.5</td>\n",
       "</tr>\n",
       "<tr>\n",
       "  <th>Covariance Type:</th>     <td>nonrobust</td>    <th>  LLR p-value:       </th>  <td> 0.000</td> \n",
       "</tr>\n",
       "</table>\n",
       "<table class=\"simpletable\">\n",
       "<tr>\n",
       "            <td></td>              <th>coef</th>     <th>std err</th>      <th>z</th>      <th>P>|z|</th>  <th>[0.025</th>    <th>0.975]</th>  \n",
       "</tr>\n",
       "<tr>\n",
       "  <th>nr.employed</th>          <td>   -3.2548</td> <td>    0.184</td> <td>  -17.696</td> <td> 0.000</td> <td>   -3.615</td> <td>   -2.894</td>\n",
       "</tr>\n",
       "<tr>\n",
       "  <th>euribor3m</th>            <td>    1.0163</td> <td>    0.232</td> <td>    4.384</td> <td> 0.000</td> <td>    0.562</td> <td>    1.471</td>\n",
       "</tr>\n",
       "<tr>\n",
       "  <th>emp.var.rate</th>         <td>   -1.3304</td> <td>    0.232</td> <td>   -5.738</td> <td> 0.000</td> <td>   -1.785</td> <td>   -0.876</td>\n",
       "</tr>\n",
       "<tr>\n",
       "  <th>contacted</th>            <td>    1.3262</td> <td>    0.285</td> <td>    4.653</td> <td> 0.000</td> <td>    0.768</td> <td>    1.885</td>\n",
       "</tr>\n",
       "<tr>\n",
       "  <th>poutcome_success</th>     <td>    0.7000</td> <td>    0.278</td> <td>    2.517</td> <td> 0.012</td> <td>    0.155</td> <td>    1.245</td>\n",
       "</tr>\n",
       "<tr>\n",
       "  <th>previous</th>             <td>   -0.6540</td> <td>    0.359</td> <td>   -1.820</td> <td> 0.069</td> <td>   -1.358</td> <td>    0.050</td>\n",
       "</tr>\n",
       "<tr>\n",
       "  <th>poutcome_nonexistent</th> <td>    0.3119</td> <td>    0.082</td> <td>    3.800</td> <td> 0.000</td> <td>    0.151</td> <td>    0.473</td>\n",
       "</tr>\n",
       "</table>"
      ],
      "text/plain": [
       "<class 'statsmodels.iolib.summary.Summary'>\n",
       "\"\"\"\n",
       "                           Logit Regression Results                           \n",
       "==============================================================================\n",
       "Dep. Variable:                      y   No. Observations:                16000\n",
       "Model:                          Logit   Df Residuals:                    15993\n",
       "Method:                           MLE   Df Model:                            6\n",
       "Date:                Thu, 31 Mar 2022   Pseudo R-squ.:                  0.1872\n",
       "Time:                        22:11:06   Log-Likelihood:                -4552.2\n",
       "converged:                       True   LL-Null:                       -5600.5\n",
       "Covariance Type:            nonrobust   LLR p-value:                     0.000\n",
       "========================================================================================\n",
       "                           coef    std err          z      P>|z|      [0.025      0.975]\n",
       "----------------------------------------------------------------------------------------\n",
       "nr.employed             -3.2548      0.184    -17.696      0.000      -3.615      -2.894\n",
       "euribor3m                1.0163      0.232      4.384      0.000       0.562       1.471\n",
       "emp.var.rate            -1.3304      0.232     -5.738      0.000      -1.785      -0.876\n",
       "contacted                1.3262      0.285      4.653      0.000       0.768       1.885\n",
       "poutcome_success         0.7000      0.278      2.517      0.012       0.155       1.245\n",
       "previous                -0.6540      0.359     -1.820      0.069      -1.358       0.050\n",
       "poutcome_nonexistent     0.3119      0.082      3.800      0.000       0.151       0.473\n",
       "========================================================================================\n",
       "\"\"\""
      ]
     },
     "execution_count": 77,
     "metadata": {},
     "output_type": "execute_result"
    }
   ],
   "source": [
    "#Excercise to check betas and p values\n",
    "import statsmodels.api as sd\n",
    "sd_model = sd.Logit( target_train.values.ravel(), train[logit_vars]).fit(disp=0)\n",
    "print(sd_model.pvalues)\n",
    "sd_model.summary()\n"
   ]
  },
  {
   "cell_type": "markdown",
   "id": "97e28e42",
   "metadata": {},
   "source": [
    "### B. LDA"
   ]
  },
  {
   "cell_type": "code",
   "execution_count": 78,
   "id": "960c5c83",
   "metadata": {},
   "outputs": [],
   "source": [
    "predictors = [v for v in train.columns if v not in id_var + target_var+[\"default_yes\"]]\n",
    "#Model\n",
    "lda = LDA()\n",
    "lda.fit(train[predictors], target_train.values.ravel())\n",
    "#Prediction in test set\n",
    "lda_pred = lda.predict(test[predictors])"
   ]
  },
  {
   "cell_type": "code",
   "execution_count": 79,
   "id": "23dda7e9",
   "metadata": {},
   "outputs": [
    {
     "data": {
      "text/plain": [
       "array([1.])"
      ]
     },
     "execution_count": 79,
     "metadata": {},
     "output_type": "execute_result"
    }
   ],
   "source": [
    "lda.explained_variance_ratio_"
   ]
  },
  {
   "cell_type": "code",
   "execution_count": 80,
   "id": "5494c645",
   "metadata": {},
   "outputs": [
    {
     "name": "stdout",
     "output_type": "stream",
     "text": [
      "Accuracy:  0.87925\n",
      "AUC:  0.7571467858855386\n"
     ]
    }
   ],
   "source": [
    "#Performance\n",
    "acc_lda = lda.score(test[predictors], target_test.values.ravel())\n",
    "print(\"Accuracy: \",acc_lda)\n",
    "\n",
    "lda_pred_proba = lda.predict_proba(test[predictors])[::,1]\n",
    "\n",
    "#calculate AUC of model\n",
    "auc_lda = metrics.roc_auc_score(target_test.values.ravel(), lda_pred_proba)\n",
    "\n",
    "#print AUC score\n",
    "print(\"AUC: \",auc_lda)"
   ]
  },
  {
   "cell_type": "code",
   "execution_count": 81,
   "id": "364bc647",
   "metadata": {},
   "outputs": [
    {
     "data": {
      "image/png": "[encoded data removed]",
      "text/plain": [
       "<Figure size 432x288 with 1 Axes>"
      ]
     },
     "metadata": {
      "needs_background": "light"
     },
     "output_type": "display_data"
    }
   ],
   "source": [
    "fpr_lda, tpr_lda, _ = metrics.roc_curve(target_test.values.ravel(),  lda_pred_proba)\n",
    "\n",
    "#create ROC curve\n",
    "plt.plot(fpr_lda,tpr_lda)\n",
    "plt.ylabel('True Positive Rate')\n",
    "plt.xlabel('False Positive Rate')\n",
    "plt.show()"
   ]
  },
  {
   "cell_type": "code",
   "execution_count": 82,
   "id": "76fce790",
   "metadata": {},
   "outputs": [
    {
     "data": {
      "text/plain": [
       "array([0.8925 , 0.89375, 0.8835 , 0.89   , 0.88425])"
      ]
     },
     "execution_count": 82,
     "metadata": {},
     "output_type": "execute_result"
    }
   ],
   "source": [
    "#Cross validation\n",
    "#merge train and test datasets for crossvalidation\n",
    "indep_vars = base_table[predictors]\n",
    "cv_lda = cross_val_score(lda, indep_vars, target_tot.values.ravel(), cv=5)\n",
    "cv_lda"
   ]
  },
  {
   "cell_type": "code",
   "execution_count": 83,
   "id": "0297fb31",
   "metadata": {},
   "outputs": [
    {
     "data": {
      "text/plain": [
       "[<matplotlib.lines.Line2D at 0x2c29f881850>]"
      ]
     },
     "execution_count": 83,
     "metadata": {},
     "output_type": "execute_result"
    },
    {
     "data": {
      "image/png": "[encoded data removed]",
      "text/plain": [
       "<Figure size 432x288 with 1 Axes>"
      ]
     },
     "metadata": {
      "needs_background": "light"
     },
     "output_type": "display_data"
    }
   ],
   "source": [
    "tprs = []\n",
    "aucs = []\n",
    "indep_vars = base_table[predictors]\n",
    "mean_fpr = np.linspace(0, 1, 100)\n",
    "cv = StratifiedKFold(n_splits=6)\n",
    "fig, ax = plt.subplots()\n",
    "for i, (train_f, test_f) in enumerate(cv.split(indep_vars, target_tot)):\n",
    "    lda.fit(indep_vars.iloc[train_f], target_tot.iloc[train_f])\n",
    "    viz = RocCurveDisplay.from_estimator(\n",
    "        lda,\n",
    "        indep_vars.iloc[test_f],\n",
    "        target_tot.iloc[test_f],\n",
    "        name=\"ROC fold {}\".format(i),\n",
    "        alpha=0.3,\n",
    "        lw=1,\n",
    "        ax=ax,\n",
    "    )\n",
    "    interp_tpr = np.interp(mean_fpr, viz.fpr, viz.tpr)\n",
    "    interp_tpr[0] = 0.0\n",
    "    tprs.append(interp_tpr)\n",
    "    aucs.append(viz.roc_auc)\n",
    "\n",
    "ax.plot([0, 1], [0, 1], linestyle=\"--\", lw=2, color=\"r\", label=\"Chance\", alpha=0.8)\n",
    "\n",
    "mean_tpr = np.mean(tprs, axis=0)\n",
    "mean_tpr[-1] = 1.0\n",
    "mean_auc = auc(mean_fpr, mean_tpr)\n",
    "std_auc = np.std(aucs)\n",
    "ax.plot(\n",
    "    mean_fpr,\n",
    "    mean_tpr,\n",
    "    color=\"b\",\n",
    "    label=r\"Mean ROC (AUC = %0.2f $\\pm$ %0.2f)\" % (mean_auc, std_auc),\n",
    "    lw=2,\n",
    "    alpha=0.8,\n",
    ")"
   ]
  },
  {
   "cell_type": "markdown",
   "id": "bae72f69",
   "metadata": {},
   "source": [
    "### KNN Classifier"
   ]
  },
  {
   "cell_type": "code",
   "execution_count": 84,
   "id": "fa00e057",
   "metadata": {},
   "outputs": [],
   "source": [
    "#using corr_vars\n",
    "#Model\n",
    "KNN = KNeighborsClassifier(n_neighbors=10)\n",
    "KNN.fit(train[corr_vars].values, target_train.values.ravel())\n",
    "#Prediction in test set\n",
    "knn_pred = KNN.predict(test[corr_vars].values)\n"
   ]
  },
  {
   "cell_type": "code",
   "execution_count": 85,
   "id": "45ef46d2",
   "metadata": {},
   "outputs": [
    {
     "name": "stdout",
     "output_type": "stream",
     "text": [
      "Accuracy:  0.889\n",
      "AUC:  0.7482538501678277\n"
     ]
    }
   ],
   "source": [
    "#Performance\n",
    "acc_knn = KNN.score(test[corr_vars].values, target_test.values.ravel())\n",
    "print(\"Accuracy: \",acc_knn)\n",
    "\n",
    "knn_pred_proba = KNN.predict_proba(test[corr_vars].values)[::,1]\n",
    "\n",
    "#calculate AUC of model\n",
    "auc_knn = metrics.roc_auc_score(target_test.values.ravel(), knn_pred_proba)\n",
    "\n",
    "#print AUC score\n",
    "print(\"AUC: \",auc_knn)"
   ]
  },
  {
   "cell_type": "code",
   "execution_count": 86,
   "id": "f8ba6435",
   "metadata": {},
   "outputs": [
    {
     "data": {
      "image/png": "[encoded data removed]",
      "text/plain": [
       "<Figure size 432x288 with 1 Axes>"
      ]
     },
     "metadata": {
      "needs_background": "light"
     },
     "output_type": "display_data"
    }
   ],
   "source": [
    "fpr_knn, tpr_knn, _ = metrics.roc_curve(target_test.values.ravel(),  knn_pred_proba)\n",
    "\n",
    "#create ROC curve\n",
    "plt.plot(fpr_knn,tpr_knn)\n",
    "plt.ylabel('True Positive Rate')\n",
    "plt.xlabel('False Positive Rate')\n",
    "plt.show()"
   ]
  },
  {
   "cell_type": "code",
   "execution_count": 87,
   "id": "455d1857",
   "metadata": {},
   "outputs": [
    {
     "data": {
      "text/plain": [
       "array([0.89525, 0.9005 , 0.8945 , 0.89875, 0.89425])"
      ]
     },
     "execution_count": 87,
     "metadata": {},
     "output_type": "execute_result"
    }
   ],
   "source": [
    "#Cross validation\n",
    "#merge train and test datasets for crossvalidation\n",
    "indep_vars = base_table[corr_vars]\n",
    "cv_knn = cross_val_score(KNN, indep_vars.values, target_tot.values.ravel(), cv=5)\n",
    "cv_knn"
   ]
  },
  {
   "cell_type": "code",
   "execution_count": 88,
   "id": "5e45a8a4",
   "metadata": {},
   "outputs": [],
   "source": [
    "import warnings\n",
    "warnings.filterwarnings(\"ignore\")"
   ]
  },
  {
   "cell_type": "code",
   "execution_count": 89,
   "id": "e5058f42",
   "metadata": {},
   "outputs": [
    {
     "data": {
      "text/plain": [
       "[<matplotlib.lines.Line2D at 0x2c2a1d790d0>]"
      ]
     },
     "execution_count": 89,
     "metadata": {},
     "output_type": "execute_result"
    },
    {
     "data": {
      "image/png": "[encoded data removed]",
      "text/plain": [
       "<Figure size 432x288 with 1 Axes>"
      ]
     },
     "metadata": {
      "needs_background": "light"
     },
     "output_type": "display_data"
    }
   ],
   "source": [
    "tprs = []\n",
    "aucs = []\n",
    "mean_fpr = np.linspace(0, 1, 100)\n",
    "cv = StratifiedKFold(n_splits=6)\n",
    "fig, ax = plt.subplots()\n",
    "for i, (train_f, test_f) in enumerate(cv.split(indep_vars.values, target_tot.values)):\n",
    "    KNN.fit(indep_vars.iloc[train_f], target_tot.iloc[train_f])\n",
    "    viz = RocCurveDisplay.from_estimator(\n",
    "        KNN,\n",
    "        indep_vars.iloc[test_f].values,\n",
    "        target_tot.iloc[test_f],\n",
    "        name=\"ROC fold {}\".format(i),\n",
    "        alpha=0.3,\n",
    "        lw=1,\n",
    "        ax=ax,\n",
    "    )\n",
    "    interp_tpr = np.interp(mean_fpr, viz.fpr, viz.tpr)\n",
    "    interp_tpr[0] = 0.0\n",
    "    tprs.append(interp_tpr)\n",
    "    aucs.append(viz.roc_auc)\n",
    "\n",
    "ax.plot([0, 1], [0, 1], linestyle=\"--\", lw=2, color=\"r\", label=\"Chance\", alpha=0.8)\n",
    "\n",
    "mean_tpr = np.mean(tprs, axis=0)\n",
    "mean_tpr[-1] = 1.0\n",
    "mean_auc = auc(mean_fpr, mean_tpr)\n",
    "std_auc = np.std(aucs)\n",
    "ax.plot(\n",
    "    mean_fpr,\n",
    "    mean_tpr,\n",
    "    color=\"b\",\n",
    "    label=r\"Mean ROC (AUC = %0.2f $\\pm$ %0.2f)\" % (mean_auc, std_auc),\n",
    "    lw=2,\n",
    "    alpha=0.8,\n",
    ")"
   ]
  },
  {
   "cell_type": "markdown",
   "id": "7f7cde7a",
   "metadata": {},
   "source": [
    "### Random forest"
   ]
  },
  {
   "cell_type": "code",
   "execution_count": 90,
   "id": "62701317",
   "metadata": {},
   "outputs": [],
   "source": [
    "predictors = [v for v in train.columns if v not in id_var + target_var+[\"default_yes\"]]\n",
    "#Model\n",
    "rf =  RandomForestClassifier(max_depth=2, random_state=0)\n",
    "rf.fit(train[predictors], target_train.values.ravel())\n",
    "#Prediction in test set\n",
    "rf_pred = rf.predict(test[predictors])\n"
   ]
  },
  {
   "cell_type": "code",
   "execution_count": 91,
   "id": "257dde4d",
   "metadata": {},
   "outputs": [
    {
     "name": "stdout",
     "output_type": "stream",
     "text": [
      "Accuracy:  0.88325\n",
      "AUC:  0.7632857821152887\n"
     ]
    }
   ],
   "source": [
    "#Performance\n",
    "acc_rf = rf.score(test[predictors], target_test.values.ravel())\n",
    "print(\"Accuracy: \",acc_rf)\n",
    "\n",
    "rf_pred_proba = rf.predict_proba(test[predictors])[::,1]\n",
    "\n",
    "#calculate AUC of model\n",
    "auc_rf = metrics.roc_auc_score(target_test.values.ravel(), rf_pred_proba)\n",
    "\n",
    "#print AUC score\n",
    "print(\"AUC: \",auc_rf)"
   ]
  },
  {
   "cell_type": "code",
   "execution_count": 92,
   "id": "966b02ac",
   "metadata": {},
   "outputs": [
    {
     "data": {
      "image/png": "[encoded data removed]",
      "text/plain": [
       "<Figure size 432x288 with 1 Axes>"
      ]
     },
     "metadata": {
      "needs_background": "light"
     },
     "output_type": "display_data"
    }
   ],
   "source": [
    "fpr_rf, tpr_rf, _ = metrics.roc_curve(target_test.values.ravel(),  rf_pred_proba)\n",
    "\n",
    "#create ROC curve\n",
    "plt.plot(fpr_rf,tpr_rf)\n",
    "plt.ylabel('True Positive Rate')\n",
    "plt.xlabel('False Positive Rate')\n",
    "plt.show()"
   ]
  },
  {
   "cell_type": "code",
   "execution_count": 93,
   "id": "45e712f8",
   "metadata": {},
   "outputs": [
    {
     "data": {
      "text/plain": [
       "nr.employed             0.172447\n",
       "contacted               0.157440\n",
       "euribor3m               0.125909\n",
       "poutcome_success        0.110840\n",
       "emp.var.rate            0.087674\n",
       "cons.conf.idx           0.081895\n",
       "cons.price.idx          0.067843\n",
       "previous                0.046156\n",
       "poutcome_nonexistent    0.030244\n",
       "age                     0.022101\n",
       "dtype: float64"
      ]
     },
     "execution_count": 93,
     "metadata": {},
     "output_type": "execute_result"
    }
   ],
   "source": [
    "#Checking feature importance\n",
    "feature_imp_rf = pd.Series(rf.feature_importances_,index=predictors).sort_values(ascending=False)\n",
    "feature_imp_rf.head(10)"
   ]
  },
  {
   "cell_type": "code",
   "execution_count": 94,
   "id": "7503dc68",
   "metadata": {},
   "outputs": [],
   "source": [
    "rf_variables = ['nr.employed','contacted','euribor3m','poutcome_success','emp.var.rate','cons.conf.idx','cons.price.idx',\n",
    "                'previous','poutcome_nonexistent','age']"
   ]
  },
  {
   "cell_type": "code",
   "execution_count": 95,
   "id": "62aaf7af",
   "metadata": {},
   "outputs": [
    {
     "name": "stdout",
     "output_type": "stream",
     "text": [
      "Accuracy:  0.88975\n",
      "AUC:  0.7568191807933506\n"
     ]
    }
   ],
   "source": [
    "#Model after feature selection\n",
    "rf =  RandomForestClassifier(max_depth=2, random_state=0)\n",
    "rf.fit(train[rf_variables], target_train.values.ravel())\n",
    "#Prediction in test set\n",
    "rf_pred = rf.predict(test[rf_variables])\n",
    "\n",
    "#Performance\n",
    "acc_rf = rf.score(test[rf_variables], target_test.values.ravel())\n",
    "print(\"Accuracy: \",acc_rf)\n",
    "\n",
    "rf_pred_proba = rf.predict_proba(test[rf_variables])[::,1]\n",
    "\n",
    "#calculate AUC of model\n",
    "auc_rf = metrics.roc_auc_score(target_test.values.ravel(), rf_pred_proba)\n",
    "\n",
    "#print AUC score\n",
    "print(\"AUC: \",auc_rf)"
   ]
  },
  {
   "cell_type": "code",
   "execution_count": 96,
   "id": "ab1517b8",
   "metadata": {},
   "outputs": [
    {
     "data": {
      "image/png": "[encoded data removed]",
      "text/plain": [
       "<Figure size 432x288 with 1 Axes>"
      ]
     },
     "metadata": {
      "needs_background": "light"
     },
     "output_type": "display_data"
    }
   ],
   "source": [
    "fpr_rf, tpr_rf, _ = metrics.roc_curve(target_test.values.ravel(),  rf_pred_proba)\n",
    "\n",
    "#create ROC curve\n",
    "plt.plot(fpr_rf,tpr_rf)\n",
    "plt.ylabel('True Positive Rate')\n",
    "plt.xlabel('False Positive Rate')\n",
    "plt.show()"
   ]
  },
  {
   "cell_type": "code",
   "execution_count": 97,
   "id": "4845c5d0",
   "metadata": {},
   "outputs": [
    {
     "data": {
      "text/plain": [
       "array([0.89625, 0.895  , 0.891  , 0.89825, 0.895  ])"
      ]
     },
     "execution_count": 97,
     "metadata": {},
     "output_type": "execute_result"
    }
   ],
   "source": [
    "#Cross validation\n",
    "#merge train and test datasets for crossvalidation\n",
    "indep_vars = base_table[rf_variables]\n",
    "cv_rf = cross_val_score(KNN, indep_vars, target_tot.values.ravel(), cv=5)\n",
    "cv_rf"
   ]
  },
  {
   "cell_type": "code",
   "execution_count": 98,
   "id": "7818b8ef",
   "metadata": {},
   "outputs": [
    {
     "data": {
      "text/plain": [
       "[<matplotlib.lines.Line2D at 0x2c2a45e64f0>]"
      ]
     },
     "execution_count": 98,
     "metadata": {},
     "output_type": "execute_result"
    },
    {
     "data": {
      "image/png": "[encoded data removed]",
      "text/plain": [
       "<Figure size 432x288 with 1 Axes>"
      ]
     },
     "metadata": {
      "needs_background": "light"
     },
     "output_type": "display_data"
    }
   ],
   "source": [
    "tprs = []\n",
    "aucs = []\n",
    "indep_vars = base_table[predictors]\n",
    "mean_fpr = np.linspace(0, 1, 100)\n",
    "cv = StratifiedKFold(n_splits=6)\n",
    "fig, ax = plt.subplots()\n",
    "for i, (train_f, test_f) in enumerate(cv.split(indep_vars, target_tot)):\n",
    "    rf.fit(indep_vars.iloc[train_f], target_tot.iloc[train_f])\n",
    "    viz = RocCurveDisplay.from_estimator(\n",
    "        rf,\n",
    "        indep_vars.iloc[test_f],\n",
    "        target_tot.iloc[test_f],\n",
    "        name=\"ROC fold {}\".format(i),\n",
    "        alpha=0.3,\n",
    "        lw=1,\n",
    "        ax=ax,\n",
    "    )\n",
    "    interp_tpr = np.interp(mean_fpr, viz.fpr, viz.tpr)\n",
    "    interp_tpr[0] = 0.0\n",
    "    tprs.append(interp_tpr)\n",
    "    aucs.append(viz.roc_auc)\n",
    "\n",
    "ax.plot([0, 1], [0, 1], linestyle=\"--\", lw=2, color=\"r\", label=\"Chance\", alpha=0.8)\n",
    "\n",
    "mean_tpr = np.mean(tprs, axis=0)\n",
    "mean_tpr[-1] = 1.0\n",
    "mean_auc = auc(mean_fpr, mean_tpr)\n",
    "std_auc = np.std(aucs)\n",
    "ax.plot(\n",
    "    mean_fpr,\n",
    "    mean_tpr,\n",
    "    color=\"b\",\n",
    "    label=r\"Mean ROC (AUC = %0.2f $\\pm$ %0.2f)\" % (mean_auc, std_auc),\n",
    "    lw=2,\n",
    "    alpha=0.8,\n",
    ")"
   ]
  },
  {
   "cell_type": "markdown",
   "id": "fd0a08cf",
   "metadata": {},
   "source": [
    "### Support vector machine"
   ]
  },
  {
   "cell_type": "code",
   "execution_count": 105,
   "id": "2d31beea",
   "metadata": {},
   "outputs": [],
   "source": [
    "#Fisher score\n",
    "fisher_vars = ['nr.employed','euribor3m','emp.var.rate','contacted','poutcome_success','previous','poutcome_nonexistent']\n",
    "\n",
    "#Model\n",
    "svc_l =  SVC(kernel='linear',gamma='auto',C =0.5, probability=True)\n",
    "svc_l.fit(train[fisher_vars], target_train.values.ravel())\n",
    "#Prediction in test set\n",
    "svcl_pred = svc_l.predict(test[fisher_vars])"
   ]
  },
  {
   "cell_type": "code",
   "execution_count": 106,
   "id": "03da0308",
   "metadata": {},
   "outputs": [
    {
     "name": "stdout",
     "output_type": "stream",
     "text": [
      "Accuracy:  0.888\n",
      "AUC:  0.702742304365404\n"
     ]
    }
   ],
   "source": [
    "#Performance\n",
    "acc_svcl = svc_l.score(test[fisher_vars], target_test.values.ravel())\n",
    "print(\"Accuracy: \",acc_svcl)\n",
    "\n",
    "svcl_pred_proba = svc_l.predict_proba(test[fisher_vars])[::,1]\n",
    "\n",
    "#calculate AUC of model\n",
    "auc_svcl = metrics.roc_auc_score(target_test.values.ravel(), svcl_pred_proba)\n",
    "\n",
    "#print AUC score\n",
    "print(\"AUC: \",auc_svcl)"
   ]
  },
  {
   "cell_type": "code",
   "execution_count": 107,
   "id": "b9c10654",
   "metadata": {},
   "outputs": [
    {
     "data": {
      "image/png": "[encoded data removed]",
      "text/plain": [
       "<Figure size 432x288 with 1 Axes>"
      ]
     },
     "metadata": {
      "needs_background": "light"
     },
     "output_type": "display_data"
    }
   ],
   "source": [
    "fpr_svcl, tpr_svcl, _ = metrics.roc_curve(target_test.values.ravel(),  svcl_pred_proba)\n",
    "\n",
    "#create ROC curve\n",
    "plt.plot(fpr_svcl,tpr_svcl)\n",
    "plt.ylabel('True Positive Rate')\n",
    "plt.xlabel('False Positive Rate')\n",
    "plt.show()"
   ]
  },
  {
   "cell_type": "code",
   "execution_count": 108,
   "id": "14403d7d",
   "metadata": {},
   "outputs": [
    {
     "data": {
      "text/plain": [
       "array([0.89625, 0.895  , 0.891  , 0.89825, 0.895  ])"
      ]
     },
     "execution_count": 108,
     "metadata": {},
     "output_type": "execute_result"
    }
   ],
   "source": [
    "#Cross validation\n",
    "#merge train and test datasets for crossvalidation\n",
    "indep_vars = base_table[rf_variables]\n",
    "cv_rf = cross_val_score(KNN, indep_vars, target_tot.values.ravel(), cv=5)\n",
    "cv_rf"
   ]
  },
  {
   "cell_type": "code",
   "execution_count": null,
   "id": "18b1596e",
   "metadata": {},
   "outputs": [],
   "source": [
    "tprs = []\n",
    "aucs = []\n",
    "indep_vars = base_table[predictors]\n",
    "mean_fpr = np.linspace(0, 1, 100)\n",
    "cv = StratifiedKFold(n_splits=6)\n",
    "fig, ax = plt.subplots()\n",
    "for i, (train_f, test_f) in enumerate(cv.split(indep_vars, target_tot)):\n",
    "    svc_l.fit(indep_vars.iloc[train_f], target_tot.iloc[train_f])\n",
    "    viz = RocCurveDisplay.from_estimator(\n",
    "        svc_l,\n",
    "        indep_vars.iloc[test_f],\n",
    "        target_tot.iloc[test_f],\n",
    "        name=\"ROC fold {}\".format(i),\n",
    "        alpha=0.3,\n",
    "        lw=1,\n",
    "        ax=ax,\n",
    "    )\n",
    "    interp_tpr = np.interp(mean_fpr, viz.fpr, viz.tpr)\n",
    "    interp_tpr[0] = 0.0\n",
    "    tprs.append(interp_tpr)\n",
    "    aucs.append(viz.roc_auc)\n",
    "\n",
    "ax.plot([0, 1], [0, 1], linestyle=\"--\", lw=2, color=\"r\", label=\"Chance\", alpha=0.8)\n",
    "\n",
    "mean_tpr = np.mean(tprs, axis=0)\n",
    "mean_tpr[-1] = 1.0\n",
    "mean_auc = auc(mean_fpr, mean_tpr)\n",
    "std_auc = np.std(aucs)\n",
    "ax.plot(\n",
    "    mean_fpr,\n",
    "    mean_tpr,\n",
    "    color=\"b\",\n",
    "    label=r\"Mean ROC (AUC = %0.2f $\\pm$ %0.2f)\" % (mean_auc, std_auc),\n",
    "    lw=2,\n",
    "    alpha=0.8,\n",
    ")"
   ]
  },
  {
   "cell_type": "code",
   "execution_count": null,
   "id": "369febf6",
   "metadata": {},
   "outputs": [],
   "source": []
  }
 ],
 "metadata": {
  "kernelspec": {
   "display_name": "Python 3 (ipykernel)",
   "language": "python",
   "name": "python3"
  },
  "language_info": {
   "codemirror_mode": {
    "name": "ipython",
    "version": 3
   },
   "file_extension": ".py",
   "mimetype": "text/x-python",
   "name": "python",
   "nbconvert_exporter": "python",
   "pygments_lexer": "ipython3",
   "version": "3.8.8"
  }
 },
 "nbformat": 4,
 "nbformat_minor": 5
}
