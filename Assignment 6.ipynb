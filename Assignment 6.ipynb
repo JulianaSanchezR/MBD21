{
 "cells": [
  {
   "cell_type": "markdown",
   "id": "0c739ba9",
   "metadata": {},
   "source": [
    "# Assignment 6 - Juliana Sanchez Ramirez\n",
    "\n",
    "Exercise 3 (p.414, Chap.10), 8 (p.416, Chap.10), 9 (p.416, Chap.10) and 10 (p.417, \n",
    "Chap.10)\n"
   ]
  },
  {
   "cell_type": "markdown",
   "id": "010837d6",
   "metadata": {},
   "source": [
    "## Excercise 3"
   ]
  },
  {
   "cell_type": "markdown",
   "id": "b300cb0a",
   "metadata": {},
   "source": [
    "In this problem, you will perform K-means clustering manually, with K = 2, on a small example with n = 6 observations and p = 2 features. "
   ]
  },
  {
   "cell_type": "markdown",
   "id": "da89b0aa",
   "metadata": {},
   "source": [
    "(a)Plot the observations.\n",
    "\n",
    "(b) Randomly assign a cluster label to each observation. You can use the sample() command in R to do this. Report the cluster\n",
    "labels for each observation.\n",
    "\n",
    "(c) Compute the centroid for each cluster.\n",
    "\n",
    "(d) Assign each observation to the centroid to which it is closest, in terms of Euclidean distance. Report the cluster labels for each observation.\n",
    "\n",
    "(e) Repeat (c) and (d) until the answers obtained stop changing.\n",
    "\n",
    "(f) In your plot from (a), color the observations according to the cluster labels obtained."
   ]
  },
  {
   "cell_type": "code",
   "execution_count": 38,
   "id": "fce48eaa",
   "metadata": {},
   "outputs": [],
   "source": [
    "x1 <- c(1,1,0,5,6,4)\n",
    "x2 <- c(4,3,4,1,2,0)\n",
    "\n",
    "data <- cbind(x1,x2)"
   ]
  },
  {
   "cell_type": "code",
   "execution_count": 39,
   "id": "3f82cf31",
   "metadata": {},
   "outputs": [
    {
     "data": {
      "text/html": [
       "<table>\n",
       "<thead><tr><th scope=col>x1</th><th scope=col>x2</th></tr></thead>\n",
       "<tbody>\n",
       "\t<tr><td>1</td><td>4</td></tr>\n",
       "\t<tr><td>1</td><td>3</td></tr>\n",
       "\t<tr><td>0</td><td>4</td></tr>\n",
       "\t<tr><td>5</td><td>1</td></tr>\n",
       "\t<tr><td>6</td><td>2</td></tr>\n",
       "\t<tr><td>4</td><td>0</td></tr>\n",
       "</tbody>\n",
       "</table>\n"
      ],
      "text/latex": [
       "\\begin{tabular}{ll}\n",
       " x1 & x2\\\\\n",
       "\\hline\n",
       "\t 1 & 4\\\\\n",
       "\t 1 & 3\\\\\n",
       "\t 0 & 4\\\\\n",
       "\t 5 & 1\\\\\n",
       "\t 6 & 2\\\\\n",
       "\t 4 & 0\\\\\n",
       "\\end{tabular}\n"
      ],
      "text/markdown": [
       "\n",
       "| x1 | x2 |\n",
       "|---|---|\n",
       "| 1 | 4 |\n",
       "| 1 | 3 |\n",
       "| 0 | 4 |\n",
       "| 5 | 1 |\n",
       "| 6 | 2 |\n",
       "| 4 | 0 |\n",
       "\n"
      ],
      "text/plain": [
       "     x1 x2\n",
       "[1,] 1  4 \n",
       "[2,] 1  3 \n",
       "[3,] 0  4 \n",
       "[4,] 5  1 \n",
       "[5,] 6  2 \n",
       "[6,] 4  0 "
      ]
     },
     "metadata": {},
     "output_type": "display_data"
    }
   ],
   "source": [
    "data"
   ]
  },
  {
   "cell_type": "code",
   "execution_count": 40,
   "id": "c5b25e55",
   "metadata": {},
   "outputs": [
    {
     "data": {
      "image/png": "[encoded data removed]",
      "text/plain": [
       "plot without title"
      ]
     },
     "metadata": {},
     "output_type": "display_data"
    }
   ],
   "source": [
    "#a.\n",
    "plot(data)"
   ]
  },
  {
   "cell_type": "code",
   "execution_count": 41,
   "id": "c502bbf1",
   "metadata": {},
   "outputs": [
    {
     "data": {
      "text/html": [
       "<ol class=list-inline>\n",
       "\t<li>1</li>\n",
       "\t<li>1</li>\n",
       "\t<li>1</li>\n",
       "\t<li>2</li>\n",
       "\t<li>1</li>\n",
       "\t<li>2</li>\n",
       "</ol>\n"
      ],
      "text/latex": [
       "\\begin{enumerate*}\n",
       "\\item 1\n",
       "\\item 1\n",
       "\\item 1\n",
       "\\item 2\n",
       "\\item 1\n",
       "\\item 2\n",
       "\\end{enumerate*}\n"
      ],
      "text/markdown": [
       "1. 1\n",
       "2. 1\n",
       "3. 1\n",
       "4. 2\n",
       "5. 1\n",
       "6. 2\n",
       "\n",
       "\n"
      ],
      "text/plain": [
       "[1] 1 1 1 2 1 2"
      ]
     },
     "metadata": {},
     "output_type": "display_data"
    }
   ],
   "source": [
    "#b.\n",
    "set.seed(123)\n",
    "labels <- sample(2, nrow(data), replace = T)\n",
    "labels"
   ]
  },
  {
   "cell_type": "code",
   "execution_count": 42,
   "id": "fa4f6eef",
   "metadata": {},
   "outputs": [
    {
     "ename": "ERROR",
     "evalue": "Error in data[, x1]: subscript out of bounds\n",
     "output_type": "error",
     "traceback": [
      "Error in data[, x1]: subscript out of bounds\nTraceback:\n",
      "1. plot(data[, x1], data[, x2], col = (labels), pch = 20, cex = 2)"
     ]
    }
   ],
   "source": [
    "plot(data[, x1], data[, x2], col = (labels ), pch = 20, cex = 2)"
   ]
  },
  {
   "cell_type": "code",
   "execution_count": 43,
   "id": "c9e054dd",
   "metadata": {},
   "outputs": [],
   "source": [
    "#c\n",
    "centroid_1 <- c(mean(data[labels == 1, 1]), mean(data[labels == 1, 2]))\n",
    "centroid_2 <- c(mean(data[labels == 2, 1]), mean(data[labels == 2, 2]))\n"
   ]
  },
  {
   "cell_type": "code",
   "execution_count": 48,
   "id": "50e32f35",
   "metadata": {},
   "outputs": [
    {
     "name": "stdout",
     "output_type": "stream",
     "text": [
      "[1] 2.00 3.25\n",
      "[1] 4.5 0.5\n"
     ]
    }
   ],
   "source": [
    "print(centroid_1)\n",
    "print(centroid_2)"
   ]
  },
  {
   "cell_type": "code",
   "execution_count": 49,
   "id": "588bc5d9",
   "metadata": {},
   "outputs": [
    {
     "data": {
      "image/png": "[encoded data removed]",
      "text/plain": [
       "plot without title"
      ]
     },
     "metadata": {},
     "output_type": "display_data"
    }
   ],
   "source": [
    "#d\n",
    "labels <- c(1, 1, 1, 2, 2, 2)\n",
    "plot(data[, 1], data[, 2], col = (labels), pch = 20, cex = 2)\n",
    "points(centroid_1[1], centroid_1[2], col = 2, pch = 4)\n",
    "points(centroid_2[1], centroid_2[2], col = 3, pch = 4)\n"
   ]
  },
  {
   "cell_type": "markdown",
   "id": "fade9a44",
   "metadata": {},
   "source": [
    "## Excercise 8"
   ]
  },
  {
   "cell_type": "markdown",
   "id": "5abce76d",
   "metadata": {},
   "source": [
    "In Section 10.2.3, a formula for calculating PVE was given in Equation 10.8. We also saw that the PVE can be obtained using the sdev output of the prcomp() function. On the USArrests data, calculate PVE in two ways:\n",
    "\n",
    "(a) Using the sdev output of the prcomp() function, as was done in Section 10.2.3.\n",
    "\n",
    "(b) By applying Equation 10.8 directly. That is, use the prcomp() function to compute the principal component loadings. Then, use those loadings in Equation 10.8 to obtain the PVE.\n",
    "\n",
    "These two approaches should give the same results"
   ]
  },
  {
   "cell_type": "code",
   "execution_count": 54,
   "id": "e9b84ed9",
   "metadata": {},
   "outputs": [],
   "source": [
    "library(datasets)\n"
   ]
  },
  {
   "cell_type": "code",
   "execution_count": 55,
   "id": "3ae69f0e",
   "metadata": {},
   "outputs": [
    {
     "data": {
      "text/html": [
       "4"
      ],
      "text/latex": [
       "4"
      ],
      "text/markdown": [
       "4"
      ],
      "text/plain": [
       "[1] 4"
      ]
     },
     "metadata": {},
     "output_type": "display_data"
    }
   ],
   "source": [
    "#a.\n",
    "pr_o <- prcomp(USArrests, scale = TRUE)\n",
    "pr_var <- pr_o$sdev^2\n",
    "pve <- pr_var / sum(pr_var)\n",
    "sum(pr_var)"
   ]
  },
  {
   "cell_type": "code",
   "execution_count": 56,
   "id": "c8701857",
   "metadata": {},
   "outputs": [
    {
     "data": {
      "text/html": [
       "<ol class=list-inline>\n",
       "\t<li>0.620060394787374</li>\n",
       "\t<li>0.24744128813496</li>\n",
       "\t<li>0.0891407951452075</li>\n",
       "\t<li>0.0433575219324588</li>\n",
       "</ol>\n"
      ],
      "text/latex": [
       "\\begin{enumerate*}\n",
       "\\item 0.620060394787374\n",
       "\\item 0.24744128813496\n",
       "\\item 0.0891407951452075\n",
       "\\item 0.0433575219324588\n",
       "\\end{enumerate*}\n"
      ],
      "text/markdown": [
       "1. 0.620060394787374\n",
       "2. 0.24744128813496\n",
       "3. 0.0891407951452075\n",
       "4. 0.0433575219324588\n",
       "\n",
       "\n"
      ],
      "text/plain": [
       "[1] 0.62006039 0.24744129 0.08914080 0.04335752"
      ]
     },
     "metadata": {},
     "output_type": "display_data"
    }
   ],
   "source": [
    "pve"
   ]
  },
  {
   "cell_type": "code",
   "execution_count": 57,
   "id": "8a151ca4",
   "metadata": {},
   "outputs": [
    {
     "data": {
      "text/html": [
       "<dl class=dl-horizontal>\n",
       "\t<dt>PC1</dt>\n",
       "\t\t<dd>0.620060394787374</dd>\n",
       "\t<dt>PC2</dt>\n",
       "\t\t<dd>0.24744128813496</dd>\n",
       "\t<dt>PC3</dt>\n",
       "\t\t<dd>0.0891407951452075</dd>\n",
       "\t<dt>PC4</dt>\n",
       "\t\t<dd>0.0433575219324588</dd>\n",
       "</dl>\n"
      ],
      "text/latex": [
       "\\begin{description*}\n",
       "\\item[PC1] 0.620060394787374\n",
       "\\item[PC2] 0.24744128813496\n",
       "\\item[PC3] 0.0891407951452075\n",
       "\\item[PC4] 0.0433575219324588\n",
       "\\end{description*}\n"
      ],
      "text/markdown": [
       "PC1\n",
       ":   0.620060394787374PC2\n",
       ":   0.24744128813496PC3\n",
       ":   0.0891407951452075PC4\n",
       ":   0.0433575219324588\n",
       "\n"
      ],
      "text/plain": [
       "       PC1        PC2        PC3        PC4 \n",
       "0.62006039 0.24744129 0.08914080 0.04335752 "
      ]
     },
     "metadata": {},
     "output_type": "display_data"
    }
   ],
   "source": [
    "#b.\n",
    "loadings <- pr_o$rotation\n",
    "USArrests2 <- scale(USArrests)\n",
    "sumvar <- sum(apply(as.matrix(USArrests2)^2, 2, sum))\n",
    "apply((as.matrix(USArrests2) %*% loadings)^2, 2, sum) / sumvar"
   ]
  },
  {
   "cell_type": "markdown",
   "id": "6f3397b6",
   "metadata": {},
   "source": [
    "## Excercise 9"
   ]
  },
  {
   "cell_type": "markdown",
   "id": "5bb3342b",
   "metadata": {},
   "source": [
    " Consider the USArrests data. We will now perform hierarchical clustering on the states\n",
    "\n",
    "(a) Using hierarchical clustering with complete linkage and Euclidean distance, cluster the states.\n",
    "\n",
    "(b) Cut the dendrogram at a height that results in three distinct clusters. Which states belong to which clusters?\n",
    "\n",
    "(c) Hierarchically cluster the states using complete linkage and Euclidean distance, after scaling the variables to have standard deviation one.\n",
    "\n",
    "(d) What effect does scaling the variables have on the hierarchical clustering obtained? In your opinion, should the variables be\n",
    "scaled before the inter-observation dissimilarities are computed? Provide a justification for your answer"
   ]
  },
  {
   "cell_type": "code",
   "execution_count": 58,
   "id": "e7356568",
   "metadata": {},
   "outputs": [],
   "source": [
    "library(stats)"
   ]
  },
  {
   "cell_type": "code",
   "execution_count": 60,
   "id": "c3eb3362",
   "metadata": {},
   "outputs": [
    {
     "data": {
      "image/png": "[encoded data removed]",
      "text/plain": [
       "Plot with title \"Cluster Dendrogram\""
      ]
     },
     "metadata": {},
     "output_type": "display_data"
    }
   ],
   "source": [
    "#a.\n",
    "set.seed(2)\n",
    "hc_compl <- hclust(dist(USArrests), method = \"complete\")\n",
    "plot(hc_compl)"
   ]
  },
  {
   "cell_type": "code",
   "execution_count": 61,
   "id": "a1bb46f0",
   "metadata": {},
   "outputs": [
    {
     "data": {
      "text/html": [
       "<dl class=dl-horizontal>\n",
       "\t<dt>Alabama</dt>\n",
       "\t\t<dd>1</dd>\n",
       "\t<dt>Alaska</dt>\n",
       "\t\t<dd>1</dd>\n",
       "\t<dt>Arizona</dt>\n",
       "\t\t<dd>1</dd>\n",
       "\t<dt>Arkansas</dt>\n",
       "\t\t<dd>2</dd>\n",
       "\t<dt>California</dt>\n",
       "\t\t<dd>1</dd>\n",
       "\t<dt>Colorado</dt>\n",
       "\t\t<dd>2</dd>\n",
       "\t<dt>Connecticut</dt>\n",
       "\t\t<dd>3</dd>\n",
       "\t<dt>Delaware</dt>\n",
       "\t\t<dd>1</dd>\n",
       "\t<dt>Florida</dt>\n",
       "\t\t<dd>1</dd>\n",
       "\t<dt>Georgia</dt>\n",
       "\t\t<dd>2</dd>\n",
       "\t<dt>Hawaii</dt>\n",
       "\t\t<dd>3</dd>\n",
       "\t<dt>Idaho</dt>\n",
       "\t\t<dd>3</dd>\n",
       "\t<dt>Illinois</dt>\n",
       "\t\t<dd>1</dd>\n",
       "\t<dt>Indiana</dt>\n",
       "\t\t<dd>3</dd>\n",
       "\t<dt>Iowa</dt>\n",
       "\t\t<dd>3</dd>\n",
       "\t<dt>Kansas</dt>\n",
       "\t\t<dd>3</dd>\n",
       "\t<dt>Kentucky</dt>\n",
       "\t\t<dd>3</dd>\n",
       "\t<dt>Louisiana</dt>\n",
       "\t\t<dd>1</dd>\n",
       "\t<dt>Maine</dt>\n",
       "\t\t<dd>3</dd>\n",
       "\t<dt>Maryland</dt>\n",
       "\t\t<dd>1</dd>\n",
       "\t<dt>Massachusetts</dt>\n",
       "\t\t<dd>2</dd>\n",
       "\t<dt>Michigan</dt>\n",
       "\t\t<dd>1</dd>\n",
       "\t<dt>Minnesota</dt>\n",
       "\t\t<dd>3</dd>\n",
       "\t<dt>Mississippi</dt>\n",
       "\t\t<dd>1</dd>\n",
       "\t<dt>Missouri</dt>\n",
       "\t\t<dd>2</dd>\n",
       "\t<dt>Montana</dt>\n",
       "\t\t<dd>3</dd>\n",
       "\t<dt>Nebraska</dt>\n",
       "\t\t<dd>3</dd>\n",
       "\t<dt>Nevada</dt>\n",
       "\t\t<dd>1</dd>\n",
       "\t<dt>New Hampshire</dt>\n",
       "\t\t<dd>3</dd>\n",
       "\t<dt>New Jersey</dt>\n",
       "\t\t<dd>2</dd>\n",
       "\t<dt>New Mexico</dt>\n",
       "\t\t<dd>1</dd>\n",
       "\t<dt>New York</dt>\n",
       "\t\t<dd>1</dd>\n",
       "\t<dt>North Carolina</dt>\n",
       "\t\t<dd>1</dd>\n",
       "\t<dt>North Dakota</dt>\n",
       "\t\t<dd>3</dd>\n",
       "\t<dt>Ohio</dt>\n",
       "\t\t<dd>3</dd>\n",
       "\t<dt>Oklahoma</dt>\n",
       "\t\t<dd>2</dd>\n",
       "\t<dt>Oregon</dt>\n",
       "\t\t<dd>2</dd>\n",
       "\t<dt>Pennsylvania</dt>\n",
       "\t\t<dd>3</dd>\n",
       "\t<dt>Rhode Island</dt>\n",
       "\t\t<dd>2</dd>\n",
       "\t<dt>South Carolina</dt>\n",
       "\t\t<dd>1</dd>\n",
       "\t<dt>South Dakota</dt>\n",
       "\t\t<dd>3</dd>\n",
       "\t<dt>Tennessee</dt>\n",
       "\t\t<dd>2</dd>\n",
       "\t<dt>Texas</dt>\n",
       "\t\t<dd>2</dd>\n",
       "\t<dt>Utah</dt>\n",
       "\t\t<dd>3</dd>\n",
       "\t<dt>Vermont</dt>\n",
       "\t\t<dd>3</dd>\n",
       "\t<dt>Virginia</dt>\n",
       "\t\t<dd>2</dd>\n",
       "\t<dt>Washington</dt>\n",
       "\t\t<dd>2</dd>\n",
       "\t<dt>West Virginia</dt>\n",
       "\t\t<dd>3</dd>\n",
       "\t<dt>Wisconsin</dt>\n",
       "\t\t<dd>3</dd>\n",
       "\t<dt>Wyoming</dt>\n",
       "\t\t<dd>2</dd>\n",
       "</dl>\n"
      ],
      "text/latex": [
       "\\begin{description*}\n",
       "\\item[Alabama] 1\n",
       "\\item[Alaska] 1\n",
       "\\item[Arizona] 1\n",
       "\\item[Arkansas] 2\n",
       "\\item[California] 1\n",
       "\\item[Colorado] 2\n",
       "\\item[Connecticut] 3\n",
       "\\item[Delaware] 1\n",
       "\\item[Florida] 1\n",
       "\\item[Georgia] 2\n",
       "\\item[Hawaii] 3\n",
       "\\item[Idaho] 3\n",
       "\\item[Illinois] 1\n",
       "\\item[Indiana] 3\n",
       "\\item[Iowa] 3\n",
       "\\item[Kansas] 3\n",
       "\\item[Kentucky] 3\n",
       "\\item[Louisiana] 1\n",
       "\\item[Maine] 3\n",
       "\\item[Maryland] 1\n",
       "\\item[Massachusetts] 2\n",
       "\\item[Michigan] 1\n",
       "\\item[Minnesota] 3\n",
       "\\item[Mississippi] 1\n",
       "\\item[Missouri] 2\n",
       "\\item[Montana] 3\n",
       "\\item[Nebraska] 3\n",
       "\\item[Nevada] 1\n",
       "\\item[New Hampshire] 3\n",
       "\\item[New Jersey] 2\n",
       "\\item[New Mexico] 1\n",
       "\\item[New York] 1\n",
       "\\item[North Carolina] 1\n",
       "\\item[North Dakota] 3\n",
       "\\item[Ohio] 3\n",
       "\\item[Oklahoma] 2\n",
       "\\item[Oregon] 2\n",
       "\\item[Pennsylvania] 3\n",
       "\\item[Rhode Island] 2\n",
       "\\item[South Carolina] 1\n",
       "\\item[South Dakota] 3\n",
       "\\item[Tennessee] 2\n",
       "\\item[Texas] 2\n",
       "\\item[Utah] 3\n",
       "\\item[Vermont] 3\n",
       "\\item[Virginia] 2\n",
       "\\item[Washington] 2\n",
       "\\item[West Virginia] 3\n",
       "\\item[Wisconsin] 3\n",
       "\\item[Wyoming] 2\n",
       "\\end{description*}\n"
      ],
      "text/markdown": [
       "Alabama\n",
       ":   1Alaska\n",
       ":   1Arizona\n",
       ":   1Arkansas\n",
       ":   2California\n",
       ":   1Colorado\n",
       ":   2Connecticut\n",
       ":   3Delaware\n",
       ":   1Florida\n",
       ":   1Georgia\n",
       ":   2Hawaii\n",
       ":   3Idaho\n",
       ":   3Illinois\n",
       ":   1Indiana\n",
       ":   3Iowa\n",
       ":   3Kansas\n",
       ":   3Kentucky\n",
       ":   3Louisiana\n",
       ":   1Maine\n",
       ":   3Maryland\n",
       ":   1Massachusetts\n",
       ":   2Michigan\n",
       ":   1Minnesota\n",
       ":   3Mississippi\n",
       ":   1Missouri\n",
       ":   2Montana\n",
       ":   3Nebraska\n",
       ":   3Nevada\n",
       ":   1New Hampshire\n",
       ":   3New Jersey\n",
       ":   2New Mexico\n",
       ":   1New York\n",
       ":   1North Carolina\n",
       ":   1North Dakota\n",
       ":   3Ohio\n",
       ":   3Oklahoma\n",
       ":   2Oregon\n",
       ":   2Pennsylvania\n",
       ":   3Rhode Island\n",
       ":   2South Carolina\n",
       ":   1South Dakota\n",
       ":   3Tennessee\n",
       ":   2Texas\n",
       ":   2Utah\n",
       ":   3Vermont\n",
       ":   3Virginia\n",
       ":   2Washington\n",
       ":   2West Virginia\n",
       ":   3Wisconsin\n",
       ":   3Wyoming\n",
       ":   2\n",
       "\n"
      ],
      "text/plain": [
       "       Alabama         Alaska        Arizona       Arkansas     California \n",
       "             1              1              1              2              1 \n",
       "      Colorado    Connecticut       Delaware        Florida        Georgia \n",
       "             2              3              1              1              2 \n",
       "        Hawaii          Idaho       Illinois        Indiana           Iowa \n",
       "             3              3              1              3              3 \n",
       "        Kansas       Kentucky      Louisiana          Maine       Maryland \n",
       "             3              3              1              3              1 \n",
       " Massachusetts       Michigan      Minnesota    Mississippi       Missouri \n",
       "             2              1              3              1              2 \n",
       "       Montana       Nebraska         Nevada  New Hampshire     New Jersey \n",
       "             3              3              1              3              2 \n",
       "    New Mexico       New York North Carolina   North Dakota           Ohio \n",
       "             1              1              1              3              3 \n",
       "      Oklahoma         Oregon   Pennsylvania   Rhode Island South Carolina \n",
       "             2              2              3              2              1 \n",
       "  South Dakota      Tennessee          Texas           Utah        Vermont \n",
       "             3              2              2              3              3 \n",
       "      Virginia     Washington  West Virginia      Wisconsin        Wyoming \n",
       "             2              2              3              3              2 "
      ]
     },
     "metadata": {},
     "output_type": "display_data"
    }
   ],
   "source": [
    "#b.\n",
    "cutree(hc_compl, 3)"
   ]
  },
  {
   "cell_type": "code",
   "execution_count": 62,
   "id": "dbeb32e1",
   "metadata": {},
   "outputs": [
    {
     "data": {
      "image/png": "[encoded data removed]",
      "text/plain": [
       "Plot with title \"Cluster Dendrogram\""
      ]
     },
     "metadata": {},
     "output_type": "display_data"
    }
   ],
   "source": [
    "scaled <- scale(USArrests)\n",
    "hc_comp_scale <- hclust(dist(scaled), method = \"complete\")\n",
    "plot(hc_comp_scale)"
   ]
  },
  {
   "cell_type": "markdown",
   "id": "044c1f26",
   "metadata": {},
   "source": [
    "### d.The results are different when scaling the data, some unit measures are different and for this reason the scaling should be applied before"
   ]
  },
  {
   "cell_type": "markdown",
   "id": "0bc00fa9",
   "metadata": {},
   "source": [
    "# Excercise 10"
   ]
  },
  {
   "cell_type": "markdown",
   "id": "708a0fc9",
   "metadata": {},
   "source": [
    "In this problem, you will generate simulated data, and then perform PCA and K-means clustering on the data\n",
    "\n",
    "(a) Generate a simulated data set with 20 observations in each of three classes (i.e. 60 observations total), and 50 variables.\n",
    "Hint: There are a number of functions in R that you can use to generate data. One example is the rnorm() function; runif() is\n",
    "another option. Be sure to add a mean shift to the observations in each class so that there are three distinct classes.\n",
    "\n",
    "(b) Perform PCA on the 60 observations and plot the first two principal component score vectors. Use a different color to indicate the observations in each of the three classes. If the three classes appear separated in this plot, then continue on to part (c). If not, then return to part (a) and modify the simulation so that there is greater separation between the three classes. Do not continue to part (c) until the three classes show at least some separation in the first two principal component score vectors.\n",
    "\n",
    "(c) Perform K-means clustering of the observations with K = 3. How well do the clusters that you obtained in K-means cluster\u0002ing compare to the true class labels?\n",
    "\n",
    "Hint: You can use the table() function in R to compare the true class labels to the class labels obtained by clustering. Be careful  how you interpret the results: K-means clustering will arbitrarily number the clusters, so you cannot simply check whether the true class labels and clustering labels are the same.\n",
    "\n",
    "(d) Perform K-means clustering with K = 2. Describe your results.\n",
    "\n",
    "(e) Now perform K-means clustering with K = 4, and describe your results\n",
    "\n",
    "(f) Now perform K-means clustering with K = 3 on the first two principal component score vectors, rather than on the raw data.\n",
    "That is, perform K-means clustering on the 60 × 2 matrix of which the first column is the first principal component score\n",
    "vector, and the second column is the second principal component score vector. Comment on the results.\n",
    "\n",
    "(g) Using the scale() function, perform K-means clustering with K = 3 on the data after scaling each variable to have standard\n",
    "deviation one. How do these results compare to those obtained in (b)? Explain."
   ]
  },
  {
   "cell_type": "code",
   "execution_count": 67,
   "id": "bcdeeb64",
   "metadata": {},
   "outputs": [],
   "source": [
    "#a.\n",
    "set.seed(42)\n",
    "data_s <- matrix(rnorm(20 * 3 * 50, mean = 0, sd = 0.001), ncol = 50)\n",
    "data_s[1:20, 2] <- 1\n",
    "data_s[21:40, 1] <- 2\n",
    "data_s[21:40, 2] <- 2\n",
    "data_s[41:60, 1] <- 1\n",
    "true.labels <- c(rep(1, 20), rep(2, 20), rep(3, 20))"
   ]
  },
  {
   "cell_type": "code",
   "execution_count": 68,
   "id": "66f27eb3",
   "metadata": {},
   "outputs": [
    {
     "data": {
      "text/html": [
       "<table>\n",
       "<tbody>\n",
       "\t<tr><td> 0.0013709584</td><td>1            </td><td>-1.493625e-03</td><td> 0.0001514559</td><td>-0.0007292173</td><td>-4.620768e-06</td><td>-0.0008488157</td><td> 7.959559e-04</td><td>-0.0002256037</td><td>-0.0002284335</td><td>...          </td><td> 1.327505e-03</td><td>-0.0001812685</td><td>0.0020668175 </td><td>-0.0007925241</td><td>-2.097057e-05</td><td>-0.0005446893</td><td>-0.0004593519</td><td> 0.0002759643</td><td> 0.0008222644</td><td> 0.0001246441</td></tr>\n",
       "\t<tr><td>-0.0005646982</td><td>1            </td><td>-1.470436e-03</td><td>-0.0005841090</td><td> 0.0009980689</td><td> 7.602422e-04</td><td>-0.0010885199</td><td>-1.453530e-03</td><td>-0.0019249504</td><td>-0.0003478281</td><td>...          </td><td>-6.008358e-04</td><td>-0.0001490629</td><td>0.0007698663 </td><td> 0.0016972805</td><td> 2.356471e-04</td><td>-0.0004345330</td><td> 0.0013316661</td><td> 0.0012927799</td><td>-0.0010664480</td><td>-0.0003499972</td></tr>\n",
       "\t<tr><td> 0.0003631284</td><td>1            </td><td> 1.247024e-04</td><td> 0.0003688067</td><td> 0.0012584817</td><td> 3.899091e-05</td><td>-0.0004842906</td><td> 9.839542e-05</td><td>-0.0014392293</td><td> 0.0005321286</td><td>...          </td><td> 5.650686e-05</td><td>-0.0013927147</td><td>0.0020019979 </td><td> 0.0009389248</td><td>-5.953448e-04</td><td>-0.0001408452</td><td> 0.0004097763</td><td> 0.0004240107</td><td> 0.0010943067</td><td>-0.0019034993</td></tr>\n",
       "\t<tr><td> 0.0006328626</td><td>1            </td><td>-9.966391e-04</td><td> 0.0002946543</td><td> 0.0012488637</td><td> 7.350721e-04</td><td>-0.0003363112</td><td>-5.937710e-04</td><td>-0.0014696578</td><td> 0.0016072346</td><td>...          </td><td>-5.310763e-04</td><td>-0.0006793592</td><td>0.0012716209 </td><td> 0.0020352950</td><td>-3.199558e-03</td><td> 0.0017581413</td><td> 0.0004723365</td><td> 0.0005277653</td><td> 0.0002205962</td><td>-0.0011540443</td></tr>\n",
       "\t<tr><td> 0.0004042683</td><td>1            </td><td>-1.822614e-06</td><td>-0.0002792594</td><td>-0.0013806370</td><td>-1.464726e-04</td><td>-0.0001533579</td><td> 8.882812e-04</td><td> 0.0007618634</td><td> 0.0005138145</td><td>...          </td><td>-8.089878e-05</td><td>-0.0018191180</td><td>0.0003335202 </td><td> 0.0007316264</td><td> 1.511278e-03</td><td>-0.0008301414</td><td>-0.0007496986</td><td>-0.0006538300</td><td>-0.0002832396</td><td>-0.0007891835</td></tr>\n",
       "\t<tr><td>-0.0001061245</td><td>1            </td><td>-4.282589e-04</td><td>-0.0013362367</td><td> 0.0020499607</td><td>-5.788734e-05</td><td>-0.0002432472</td><td> 5.307042e-05</td><td>-0.0002436150</td><td> 0.0013823732</td><td>...          </td><td> 1.607556e-04</td><td> 0.0026389822</td><td>0.0002540727 </td><td>-0.0004198473</td><td>-3.435870e-04</td><td> 0.0005144278</td><td>-0.0016016916</td><td> 0.0001216756</td><td> 0.0007100508</td><td> 0.0008994023</td></tr>\n",
       "</tbody>\n",
       "</table>\n"
      ],
      "text/latex": [
       "\\begin{tabular}{llllllllllllllllllllllllllllllllllllllllllllllllll}\n",
       "\t  0.0013709584 & 1             & -1.493625e-03 &  0.0001514559 & -0.0007292173 & -4.620768e-06 & -0.0008488157 &  7.959559e-04 & -0.0002256037 & -0.0002284335 & ...           &  1.327505e-03 & -0.0001812685 & 0.0020668175  & -0.0007925241 & -2.097057e-05 & -0.0005446893 & -0.0004593519 &  0.0002759643 &  0.0008222644 &  0.0001246441\\\\\n",
       "\t -0.0005646982 & 1             & -1.470436e-03 & -0.0005841090 &  0.0009980689 &  7.602422e-04 & -0.0010885199 & -1.453530e-03 & -0.0019249504 & -0.0003478281 & ...           & -6.008358e-04 & -0.0001490629 & 0.0007698663  &  0.0016972805 &  2.356471e-04 & -0.0004345330 &  0.0013316661 &  0.0012927799 & -0.0010664480 & -0.0003499972\\\\\n",
       "\t  0.0003631284 & 1             &  1.247024e-04 &  0.0003688067 &  0.0012584817 &  3.899091e-05 & -0.0004842906 &  9.839542e-05 & -0.0014392293 &  0.0005321286 & ...           &  5.650686e-05 & -0.0013927147 & 0.0020019979  &  0.0009389248 & -5.953448e-04 & -0.0001408452 &  0.0004097763 &  0.0004240107 &  0.0010943067 & -0.0019034993\\\\\n",
       "\t  0.0006328626 & 1             & -9.966391e-04 &  0.0002946543 &  0.0012488637 &  7.350721e-04 & -0.0003363112 & -5.937710e-04 & -0.0014696578 &  0.0016072346 & ...           & -5.310763e-04 & -0.0006793592 & 0.0012716209  &  0.0020352950 & -3.199558e-03 &  0.0017581413 &  0.0004723365 &  0.0005277653 &  0.0002205962 & -0.0011540443\\\\\n",
       "\t  0.0004042683 & 1             & -1.822614e-06 & -0.0002792594 & -0.0013806370 & -1.464726e-04 & -0.0001533579 &  8.882812e-04 &  0.0007618634 &  0.0005138145 & ...           & -8.089878e-05 & -0.0018191180 & 0.0003335202  &  0.0007316264 &  1.511278e-03 & -0.0008301414 & -0.0007496986 & -0.0006538300 & -0.0002832396 & -0.0007891835\\\\\n",
       "\t -0.0001061245 & 1             & -4.282589e-04 & -0.0013362367 &  0.0020499607 & -5.788734e-05 & -0.0002432472 &  5.307042e-05 & -0.0002436150 &  0.0013823732 & ...           &  1.607556e-04 &  0.0026389822 & 0.0002540727  & -0.0004198473 & -3.435870e-04 &  0.0005144278 & -0.0016016916 &  0.0001216756 &  0.0007100508 &  0.0008994023\\\\\n",
       "\\end{tabular}\n"
      ],
      "text/markdown": [
       "\n",
       "|  0.0013709584 | 1             | -1.493625e-03 |  0.0001514559 | -0.0007292173 | -4.620768e-06 | -0.0008488157 |  7.959559e-04 | -0.0002256037 | -0.0002284335 | ...           |  1.327505e-03 | -0.0001812685 | 0.0020668175  | -0.0007925241 | -2.097057e-05 | -0.0005446893 | -0.0004593519 |  0.0002759643 |  0.0008222644 |  0.0001246441 |\n",
       "| -0.0005646982 | 1             | -1.470436e-03 | -0.0005841090 |  0.0009980689 |  7.602422e-04 | -0.0010885199 | -1.453530e-03 | -0.0019249504 | -0.0003478281 | ...           | -6.008358e-04 | -0.0001490629 | 0.0007698663  |  0.0016972805 |  2.356471e-04 | -0.0004345330 |  0.0013316661 |  0.0012927799 | -0.0010664480 | -0.0003499972 |\n",
       "|  0.0003631284 | 1             |  1.247024e-04 |  0.0003688067 |  0.0012584817 |  3.899091e-05 | -0.0004842906 |  9.839542e-05 | -0.0014392293 |  0.0005321286 | ...           |  5.650686e-05 | -0.0013927147 | 0.0020019979  |  0.0009389248 | -5.953448e-04 | -0.0001408452 |  0.0004097763 |  0.0004240107 |  0.0010943067 | -0.0019034993 |\n",
       "|  0.0006328626 | 1             | -9.966391e-04 |  0.0002946543 |  0.0012488637 |  7.350721e-04 | -0.0003363112 | -5.937710e-04 | -0.0014696578 |  0.0016072346 | ...           | -5.310763e-04 | -0.0006793592 | 0.0012716209  |  0.0020352950 | -3.199558e-03 |  0.0017581413 |  0.0004723365 |  0.0005277653 |  0.0002205962 | -0.0011540443 |\n",
       "|  0.0004042683 | 1             | -1.822614e-06 | -0.0002792594 | -0.0013806370 | -1.464726e-04 | -0.0001533579 |  8.882812e-04 |  0.0007618634 |  0.0005138145 | ...           | -8.089878e-05 | -0.0018191180 | 0.0003335202  |  0.0007316264 |  1.511278e-03 | -0.0008301414 | -0.0007496986 | -0.0006538300 | -0.0002832396 | -0.0007891835 |\n",
       "| -0.0001061245 | 1             | -4.282589e-04 | -0.0013362367 |  0.0020499607 | -5.788734e-05 | -0.0002432472 |  5.307042e-05 | -0.0002436150 |  0.0013823732 | ...           |  1.607556e-04 |  0.0026389822 | 0.0002540727  | -0.0004198473 | -3.435870e-04 |  0.0005144278 | -0.0016016916 |  0.0001216756 |  0.0007100508 |  0.0008994023 |\n",
       "\n"
      ],
      "text/plain": [
       "     [,1]          [,2] [,3]          [,4]          [,5]          [,6]         \n",
       "[1,]  0.0013709584 1    -1.493625e-03  0.0001514559 -0.0007292173 -4.620768e-06\n",
       "[2,] -0.0005646982 1    -1.470436e-03 -0.0005841090  0.0009980689  7.602422e-04\n",
       "[3,]  0.0003631284 1     1.247024e-04  0.0003688067  0.0012584817  3.899091e-05\n",
       "[4,]  0.0006328626 1    -9.966391e-04  0.0002946543  0.0012488637  7.350721e-04\n",
       "[5,]  0.0004042683 1    -1.822614e-06 -0.0002792594 -0.0013806370 -1.464726e-04\n",
       "[6,] -0.0001061245 1    -4.282589e-04 -0.0013362367  0.0020499607 -5.788734e-05\n",
       "     [,7]          [,8]          [,9]          [,10]         [,11]\n",
       "[1,] -0.0008488157  7.959559e-04 -0.0002256037 -0.0002284335 ...  \n",
       "[2,] -0.0010885199 -1.453530e-03 -0.0019249504 -0.0003478281 ...  \n",
       "[3,] -0.0004842906  9.839542e-05 -0.0014392293  0.0005321286 ...  \n",
       "[4,] -0.0003363112 -5.937710e-04 -0.0014696578  0.0016072346 ...  \n",
       "[5,] -0.0001533579  8.882812e-04  0.0007618634  0.0005138145 ...  \n",
       "[6,] -0.0002432472  5.307042e-05 -0.0002436150  0.0013823732 ...  \n",
       "     [,12]         [,13]         [,14]        [,15]         [,16]        \n",
       "[1,]  1.327505e-03 -0.0001812685 0.0020668175 -0.0007925241 -2.097057e-05\n",
       "[2,] -6.008358e-04 -0.0001490629 0.0007698663  0.0016972805  2.356471e-04\n",
       "[3,]  5.650686e-05 -0.0013927147 0.0020019979  0.0009389248 -5.953448e-04\n",
       "[4,] -5.310763e-04 -0.0006793592 0.0012716209  0.0020352950 -3.199558e-03\n",
       "[5,] -8.089878e-05 -0.0018191180 0.0003335202  0.0007316264  1.511278e-03\n",
       "[6,]  1.607556e-04  0.0026389822 0.0002540727 -0.0004198473 -3.435870e-04\n",
       "     [,17]         [,18]         [,19]         [,20]         [,21]        \n",
       "[1,] -0.0005446893 -0.0004593519  0.0002759643  0.0008222644  0.0001246441\n",
       "[2,] -0.0004345330  0.0013316661  0.0012927799 -0.0010664480 -0.0003499972\n",
       "[3,] -0.0001408452  0.0004097763  0.0004240107  0.0010943067 -0.0019034993\n",
       "[4,]  0.0017581413  0.0004723365  0.0005277653  0.0002205962 -0.0011540443\n",
       "[5,] -0.0008301414 -0.0007496986 -0.0006538300 -0.0002832396 -0.0007891835\n",
       "[6,]  0.0005144278 -0.0016016916  0.0001216756  0.0007100508  0.0008994023"
      ]
     },
     "metadata": {},
     "output_type": "display_data"
    }
   ],
   "source": [
    "head(data_s)"
   ]
  },
  {
   "cell_type": "code",
   "execution_count": 72,
   "id": "625d0ea8",
   "metadata": {},
   "outputs": [
    {
     "data": {
      "image/png": "[encoded data removed]",
      "text/plain": [
       "plot without title"
      ]
     },
     "metadata": {},
     "output_type": "display_data"
    }
   ],
   "source": [
    "#b.\n",
    "pc <- prcomp(data_s)\n",
    "plot(pc$x[, 1:2], col = 1:3, xlab = \"Z1\", ylab = \"Z2\", pch = 19)"
   ]
  },
  {
   "cell_type": "code",
   "execution_count": 75,
   "id": "21e683ed",
   "metadata": {},
   "outputs": [
    {
     "data": {
      "text/plain": [
       "           \n",
       "true.labels  1  2  3\n",
       "          1  0 20  0\n",
       "          2 20  0  0\n",
       "          3  0  0 20"
      ]
     },
     "metadata": {},
     "output_type": "display_data"
    }
   ],
   "source": [
    "#c.\n",
    "k_means <- kmeans(data_s, 3, nstart = 20)\n",
    "table(true.labels, k_means$cluster)"
   ]
  },
  {
   "cell_type": "code",
   "execution_count": 76,
   "id": "2c608ed1",
   "metadata": {},
   "outputs": [
    {
     "data": {
      "text/plain": [
       "           \n",
       "true.labels  1  2\n",
       "          1  0 20\n",
       "          2 20  0\n",
       "          3  0 20"
      ]
     },
     "metadata": {},
     "output_type": "display_data"
    }
   ],
   "source": [
    "#d.\n",
    "k_means2 <- kmeans(data_s, 2, nstart = 20)\n",
    "table(true.labels, k_means2$cluster)"
   ]
  },
  {
   "cell_type": "code",
   "execution_count": 77,
   "id": "c66be717",
   "metadata": {},
   "outputs": [
    {
     "data": {
      "text/plain": [
       "           \n",
       "true.labels  1  2  3  4\n",
       "          1  0  0  0 20\n",
       "          2 20  0  0  0\n",
       "          3  0  9 11  0"
      ]
     },
     "metadata": {},
     "output_type": "display_data"
    }
   ],
   "source": [
    "#e.\n",
    "k_means4 <- kmeans(data_s, 4, nstart = 20)\n",
    "table(true.labels, k_means4$cluster)"
   ]
  },
  {
   "cell_type": "code",
   "execution_count": 79,
   "id": "d2ef9b95",
   "metadata": {},
   "outputs": [
    {
     "data": {
      "text/plain": [
       "           \n",
       "true.labels  1  2  3\n",
       "          1  0 20  0\n",
       "          2  0  0 20\n",
       "          3 20  0  0"
      ]
     },
     "metadata": {},
     "output_type": "display_data"
    }
   ],
   "source": [
    "#f\n",
    "km_f <- kmeans(pc$x[, 1:2], 3, nstart = 20)\n",
    "table(true.labels, km_f$cluster)"
   ]
  },
  {
   "cell_type": "code",
   "execution_count": 81,
   "id": "fd11b331",
   "metadata": {},
   "outputs": [
    {
     "data": {
      "text/plain": [
       "           \n",
       "true.labels  1  2  3\n",
       "          1  8  4  8\n",
       "          2  4  4 12\n",
       "          3  9  8  3"
      ]
     },
     "metadata": {},
     "output_type": "display_data"
    }
   ],
   "source": [
    "#g\n",
    "km_g <- kmeans(scale(data_s), 3, nstart = 20)\n",
    "table(true.labels, km_g$cluster)"
   ]
  },
  {
   "cell_type": "markdown",
   "id": "3e4389f7",
   "metadata": {},
   "source": [
    "The results obtained are worst because the observations of a same cluster asre assigned to different clusters"
   ]
  },
  {
   "cell_type": "code",
   "execution_count": null,
   "id": "f87807fa",
   "metadata": {},
   "outputs": [],
   "source": []
  }
 ],
 "metadata": {
  "kernelspec": {
   "display_name": "R",
   "language": "R",
   "name": "ir"
  },
  "language_info": {
   "codemirror_mode": "r",
   "file_extension": ".r",
   "mimetype": "text/x-r-source",
   "name": "R",
   "pygments_lexer": "r",
   "version": "3.6.1"
  }
 },
 "nbformat": 4,
 "nbformat_minor": 5
}
