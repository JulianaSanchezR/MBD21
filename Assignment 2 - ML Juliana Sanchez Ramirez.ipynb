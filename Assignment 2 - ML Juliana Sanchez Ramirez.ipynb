{
 "cells": [
  {
   "cell_type": "code",
   "execution_count": null,
   "id": "004bd96b",
   "metadata": {},
   "outputs": [],
   "source": [
    "#Exercise 6 (p.170, Chap.4), 8 (p.170, Chap.4), 9 (p.170, Chap.4), 10 (p.171, Chap.4) and 11 (p.171, Chap.4)."
   ]
  },
  {
   "cell_type": "markdown",
   "id": "cb6b1e80",
   "metadata": {},
   "source": [
    "# Homework 2 \n",
    "## Statistical & Machine Learning Approaches for Marketing\n",
    "### Juliana Sanchez Ramirez#"
   ]
  },
  {
   "cell_type": "markdown",
   "id": "07d1a11d",
   "metadata": {},
   "source": [
    "## Chapter 4\n",
    "#### Excercise 6\n",
    "Suppose we collect data for a group of students in a statistics class with variables X1 = hours studied, X2 = undergrad GPA, and Y = receive an A. We fit a logistic regression and produce estimated coefficient, βˆ0 = −6, βˆ1 = 0.05, βˆ2 = 1\n",
    "\n",
    "a. Estimate the probability that a student who studies for 40 h and has an undergrad GPA of 3.5 gets an A in the class."
   ]
  },
  {
   "cell_type": "code",
   "execution_count": 13,
   "id": "23343a01",
   "metadata": {},
   "outputs": [
    {
     "data": {
      "text/html": [
       "'The probability of receiving an A is: 0.377540668798145'"
      ],
      "text/latex": [
       "'The probability of receiving an A is: 0.377540668798145'"
      ],
      "text/markdown": [
       "'The probability of receiving an A is: 0.377540668798145'"
      ],
      "text/plain": [
       "[1] \"The probability of receiving an A is: 0.377540668798145\""
      ]
     },
     "metadata": {},
     "output_type": "display_data"
    }
   ],
   "source": [
    "B0 =-6\n",
    "B1 = 0.05\n",
    "B2 = 1\n",
    "Prob = 1 / (1 + exp(-1*(B0 + B1*40 + B2*3.5)))\n",
    "paste0(\"The probability of receiving an A is: \" , Prob)\n"
   ]
  },
  {
   "cell_type": "markdown",
   "id": "d7329e63",
   "metadata": {},
   "source": [
    "b. How many hours would the student in part (a) need to study to have a 50 % chance of getting an A in the class?"
   ]
  },
  {
   "cell_type": "markdown",
   "id": "7105e2a1",
   "metadata": {},
   "source": [
    "0.5 = 1/(1+expˆ-(-6+(0.05*X1)+(1 * 3.5)))\n",
    "\n",
    "expˆ(-6+(0.05*X1)+(1 * 3.5)) = 1\n",
    "\n",
    "-6+(0.05*X1)+(1 * 3.5) = Ln (1) = 0\n",
    "X1 = (6-3.5)*20\n",
    "\n",
    "X1 = 2.5*20\n",
    "\n",
    "X1 = 50\n",
    "\n",
    "#### Answer: The student needs to study 50 hours to have a 50% chance of getting an A in class"
   ]
  },
  {
   "cell_type": "markdown",
   "id": "8c7033fc",
   "metadata": {},
   "source": [
    "### Excercise 8\n",
    "\n",
    "Suppose that we take a data set, divide it into equally-sized training and test sets, and then try out two different classification procedures. First we use logistic regression and get an error rate of 20 % on the training data and 30 % on the test data. Next we use 1-nearest neighbors (i.e. K = 1) and get an average error rate (averaged over both test and training data sets) of 18 %. Based on these results, which method should we prefer to use for classification of new observations? Why?"
   ]
  },
  {
   "cell_type": "markdown",
   "id": "ea293fd4",
   "metadata": {},
   "source": [
    "#### Answer: \n",
    "In this case the model using 1-nearest neighbors  is taking the closest neighbor in the training data to classify. As a result the error in the training set for this model is 0% (each observation is predicted with the value of the same observation) and the error in the test set has to be 36%. \n",
    "According to this analysis the logistic regression is the prefered method to use for classification of new observations."
   ]
  },
  {
   "cell_type": "markdown",
   "id": "de210b68",
   "metadata": {},
   "source": [
    "### Excercise 9\n",
    "\n",
    "This problem has to do with odds.\n",
    "\n",
    "(a) On average, what fraction of people with an odds of 0.37 of defaulting on their credit card payment will in fact default?\n",
    "\n",
    "The definition of odds in this case is the propability of not paying the credit card divided by the probability of paying the credit card.\n",
    "\n",
    "0.37 = p(x) / (1 - p(x))\n",
    "\n",
    "0.37 * (1-p(x)) = p(x)\n",
    "\n",
    "0.37 = p(x) + 0.37p(x)\n",
    "\n",
    "p(x) = 0.37 / 1.37 \n",
    "\n",
    "p(x) = 0.27\n",
    "\n",
    "#### Answer: \n",
    "On average the people with odds of 0.37 have a probability of default equal to 27%"
   ]
  },
  {
   "cell_type": "markdown",
   "id": "b21249f0",
   "metadata": {},
   "source": [
    "(b) Suppose that an individual has a 16 % chance of defaulting on her credit card payment. What are the odds that she will default?\n",
    "\n",
    " p(x) / (1 - p(x)) = odds\n",
    " \n",
    " 0.16 / (1 - 0.16) = 0.1904\n",
    " \n",
    " #### Answer:\n",
    " The odds that she defaults are 0.19"
   ]
  },
  {
   "cell_type": "markdown",
   "id": "8f568333",
   "metadata": {},
   "source": [
    "### Excercise 10\n",
    "\n",
    "This question should be answered using the Weekly data set, which is part of the ISLR package. This data is similar in nature to the Smarket data from this chapter’s lab, except that it contains 1, 089 weekly returns for 21 years, from the beginning of 1990 to the end of 2010.\n"
   ]
  },
  {
   "cell_type": "markdown",
   "id": "64dc2e29",
   "metadata": {},
   "source": [
    "(a) Produce some numerical and graphical summaries of the Weekly data. Do there appear to be any patterns?\n"
   ]
  },
  {
   "cell_type": "code",
   "execution_count": 1,
   "id": "dec68f88",
   "metadata": {},
   "outputs": [
    {
     "name": "stderr",
     "output_type": "stream",
     "text": [
      "Warning message:\n",
      "\"package 'dplyr' was built under R version 3.6.3\"\n",
      "Attaching package: 'dplyr'\n",
      "\n",
      "The following objects are masked from 'package:stats':\n",
      "\n",
      "    filter, lag\n",
      "\n",
      "The following objects are masked from 'package:base':\n",
      "\n",
      "    intersect, setdiff, setequal, union\n",
      "\n"
     ]
    },
    {
     "data": {
      "text/html": [
       "<table>\n",
       "<thead><tr><th scope=col>Year</th><th scope=col>Lag1</th><th scope=col>Lag2</th><th scope=col>Lag3</th><th scope=col>Lag4</th><th scope=col>Lag5</th><th scope=col>Volume</th><th scope=col>Today</th><th scope=col>Direction</th></tr></thead>\n",
       "<tbody>\n",
       "\t<tr><td>1990     </td><td> 0.816   </td><td> 1.572   </td><td>-3.936   </td><td>-0.229   </td><td>-3.484   </td><td>0.1549760</td><td>-0.270   </td><td>Down     </td></tr>\n",
       "\t<tr><td>1990     </td><td>-0.270   </td><td> 0.816   </td><td> 1.572   </td><td>-3.936   </td><td>-0.229   </td><td>0.1485740</td><td>-2.576   </td><td>Down     </td></tr>\n",
       "\t<tr><td>1990     </td><td>-2.576   </td><td>-0.270   </td><td> 0.816   </td><td> 1.572   </td><td>-3.936   </td><td>0.1598375</td><td> 3.514   </td><td>Up       </td></tr>\n",
       "\t<tr><td>1990     </td><td> 3.514   </td><td>-2.576   </td><td>-0.270   </td><td> 0.816   </td><td> 1.572   </td><td>0.1616300</td><td> 0.712   </td><td>Up       </td></tr>\n",
       "\t<tr><td>1990     </td><td> 0.712   </td><td> 3.514   </td><td>-2.576   </td><td>-0.270   </td><td> 0.816   </td><td>0.1537280</td><td> 1.178   </td><td>Up       </td></tr>\n",
       "\t<tr><td>1990     </td><td> 1.178   </td><td> 0.712   </td><td> 3.514   </td><td>-2.576   </td><td>-0.270   </td><td>0.1544440</td><td>-1.372   </td><td>Down     </td></tr>\n",
       "</tbody>\n",
       "</table>\n"
      ],
      "text/latex": [
       "\\begin{tabular}{r|lllllllll}\n",
       " Year & Lag1 & Lag2 & Lag3 & Lag4 & Lag5 & Volume & Today & Direction\\\\\n",
       "\\hline\n",
       "\t 1990      &  0.816    &  1.572    & -3.936    & -0.229    & -3.484    & 0.1549760 & -0.270    & Down     \\\\\n",
       "\t 1990      & -0.270    &  0.816    &  1.572    & -3.936    & -0.229    & 0.1485740 & -2.576    & Down     \\\\\n",
       "\t 1990      & -2.576    & -0.270    &  0.816    &  1.572    & -3.936    & 0.1598375 &  3.514    & Up       \\\\\n",
       "\t 1990      &  3.514    & -2.576    & -0.270    &  0.816    &  1.572    & 0.1616300 &  0.712    & Up       \\\\\n",
       "\t 1990      &  0.712    &  3.514    & -2.576    & -0.270    &  0.816    & 0.1537280 &  1.178    & Up       \\\\\n",
       "\t 1990      &  1.178    &  0.712    &  3.514    & -2.576    & -0.270    & 0.1544440 & -1.372    & Down     \\\\\n",
       "\\end{tabular}\n"
      ],
      "text/markdown": [
       "\n",
       "| Year | Lag1 | Lag2 | Lag3 | Lag4 | Lag5 | Volume | Today | Direction |\n",
       "|---|---|---|---|---|---|---|---|---|\n",
       "| 1990      |  0.816    |  1.572    | -3.936    | -0.229    | -3.484    | 0.1549760 | -0.270    | Down      |\n",
       "| 1990      | -0.270    |  0.816    |  1.572    | -3.936    | -0.229    | 0.1485740 | -2.576    | Down      |\n",
       "| 1990      | -2.576    | -0.270    |  0.816    |  1.572    | -3.936    | 0.1598375 |  3.514    | Up        |\n",
       "| 1990      |  3.514    | -2.576    | -0.270    |  0.816    |  1.572    | 0.1616300 |  0.712    | Up        |\n",
       "| 1990      |  0.712    |  3.514    | -2.576    | -0.270    |  0.816    | 0.1537280 |  1.178    | Up        |\n",
       "| 1990      |  1.178    |  0.712    |  3.514    | -2.576    | -0.270    | 0.1544440 | -1.372    | Down      |\n",
       "\n"
      ],
      "text/plain": [
       "  Year Lag1   Lag2   Lag3   Lag4   Lag5   Volume    Today  Direction\n",
       "1 1990  0.816  1.572 -3.936 -0.229 -3.484 0.1549760 -0.270 Down     \n",
       "2 1990 -0.270  0.816  1.572 -3.936 -0.229 0.1485740 -2.576 Down     \n",
       "3 1990 -2.576 -0.270  0.816  1.572 -3.936 0.1598375  3.514 Up       \n",
       "4 1990  3.514 -2.576 -0.270  0.816  1.572 0.1616300  0.712 Up       \n",
       "5 1990  0.712  3.514 -2.576 -0.270  0.816 0.1537280  1.178 Up       \n",
       "6 1990  1.178  0.712  3.514 -2.576 -0.270 0.1544440 -1.372 Down     "
      ]
     },
     "metadata": {},
     "output_type": "display_data"
    }
   ],
   "source": [
    "library(ISLR)\n",
    "library(dplyr)\n",
    "#library(\"recipes\")\n",
    "#library(\"caret\")\n",
    "head(Weekly)"
   ]
  },
  {
   "cell_type": "code",
   "execution_count": 18,
   "id": "fb44c829",
   "metadata": {},
   "outputs": [
    {
     "name": "stdout",
     "output_type": "stream",
     "text": [
      "'data.frame':\t1089 obs. of  9 variables:\n",
      " $ Year     : num  1990 1990 1990 1990 1990 1990 1990 1990 1990 1990 ...\n",
      " $ Lag1     : num  0.816 -0.27 -2.576 3.514 0.712 ...\n",
      " $ Lag2     : num  1.572 0.816 -0.27 -2.576 3.514 ...\n",
      " $ Lag3     : num  -3.936 1.572 0.816 -0.27 -2.576 ...\n",
      " $ Lag4     : num  -0.229 -3.936 1.572 0.816 -0.27 ...\n",
      " $ Lag5     : num  -3.484 -0.229 -3.936 1.572 0.816 ...\n",
      " $ Volume   : num  0.155 0.149 0.16 0.162 0.154 ...\n",
      " $ Today    : num  -0.27 -2.576 3.514 0.712 1.178 ...\n",
      " $ Direction: Factor w/ 2 levels \"Down\",\"Up\": 1 1 2 2 2 1 2 2 2 1 ...\n"
     ]
    }
   ],
   "source": [
    "str(Weekly)"
   ]
  },
  {
   "cell_type": "code",
   "execution_count": 19,
   "id": "191d4b42",
   "metadata": {},
   "outputs": [
    {
     "data": {
      "text/plain": [
       "      Year           Lag1               Lag2               Lag3         \n",
       " Min.   :1990   Min.   :-18.1950   Min.   :-18.1950   Min.   :-18.1950  \n",
       " 1st Qu.:1995   1st Qu.: -1.1540   1st Qu.: -1.1540   1st Qu.: -1.1580  \n",
       " Median :2000   Median :  0.2410   Median :  0.2410   Median :  0.2410  \n",
       " Mean   :2000   Mean   :  0.1506   Mean   :  0.1511   Mean   :  0.1472  \n",
       " 3rd Qu.:2005   3rd Qu.:  1.4050   3rd Qu.:  1.4090   3rd Qu.:  1.4090  \n",
       " Max.   :2010   Max.   : 12.0260   Max.   : 12.0260   Max.   : 12.0260  \n",
       "      Lag4               Lag5              Volume            Today         \n",
       " Min.   :-18.1950   Min.   :-18.1950   Min.   :0.08747   Min.   :-18.1950  \n",
       " 1st Qu.: -1.1580   1st Qu.: -1.1660   1st Qu.:0.33202   1st Qu.: -1.1540  \n",
       " Median :  0.2380   Median :  0.2340   Median :1.00268   Median :  0.2410  \n",
       " Mean   :  0.1458   Mean   :  0.1399   Mean   :1.57462   Mean   :  0.1499  \n",
       " 3rd Qu.:  1.4090   3rd Qu.:  1.4050   3rd Qu.:2.05373   3rd Qu.:  1.4050  \n",
       " Max.   : 12.0260   Max.   : 12.0260   Max.   :9.32821   Max.   : 12.0260  \n",
       " Direction \n",
       " Down:484  \n",
       " Up  :605  \n",
       "           \n",
       "           \n",
       "           \n",
       "           "
      ]
     },
     "metadata": {},
     "output_type": "display_data"
    }
   ],
   "source": [
    "summary(Weekly)"
   ]
  },
  {
   "cell_type": "code",
   "execution_count": 21,
   "id": "a54a2024",
   "metadata": {},
   "outputs": [
    {
     "data": {
      "image/png": "[encoded data removed]",
      "text/plain": [
       "plot without title"
      ]
     },
     "metadata": {},
     "output_type": "display_data"
    }
   ],
   "source": [
    "plot(Weekly$Year,Weekly$Today)"
   ]
  },
  {
   "cell_type": "markdown",
   "id": "f49c868d",
   "metadata": {},
   "source": [
    "It is possible to observe in the dataset that the values of the variable Today correspond to the Percentage return for each week and the lags represent the previous weeks according to the number of lag.\n",
    "In the plot it is possible to observe that the variance in some years is smaller, i.e. 1995 and 2005 where the percentage of return has values between -4 and 4. "
   ]
  },
  {
   "cell_type": "code",
   "execution_count": 34,
   "id": "6c4de4f4",
   "metadata": {},
   "outputs": [
    {
     "data": {
      "image/png": "[encoded data removed]",
      "text/plain": [
       "plot without title"
      ]
     },
     "metadata": {},
     "output_type": "display_data"
    }
   ],
   "source": [
    "plot(Weekly$Year,Weekly$Volume)"
   ]
  },
  {
   "cell_type": "markdown",
   "id": "9fe1fd5b",
   "metadata": {},
   "source": [
    "For the variable Volume. It is possible to observe that the average number of daily shares traded increases over the years and also the variance of the volume over the years."
   ]
  },
  {
   "cell_type": "markdown",
   "id": "84ea9d19",
   "metadata": {},
   "source": [
    "(b) Use the full data set to perform a logistic regression with Direction as the response and the five lag variables plus Volume\n",
    "as predictors. Use the summary function to print the results. Do any of the predictors appear to be statistically significant? If so, which ones?\n"
   ]
  },
  {
   "cell_type": "code",
   "execution_count": 4,
   "id": "a171eb96",
   "metadata": {},
   "outputs": [
    {
     "data": {
      "text/plain": [
       "\n",
       "Call:\n",
       "lm(formula = Direction ~ Volume + Lag1 + Lag2 + Lag3 + Lag4 + \n",
       "    Lag5, data = train_lr)\n",
       "\n",
       "Residuals:\n",
       "    Min      1Q  Median      3Q     Max \n",
       "-0.7112 -0.5385  0.3982  0.4567  0.6309 \n",
       "\n",
       "Coefficients:\n",
       "             Estimate Std. Error t value Pr(>|t|)    \n",
       "(Intercept)  0.558430   0.025603  21.811   <2e-16 ***\n",
       "Volume      -0.007773   0.010890  -0.714   0.4756    \n",
       "Lag1        -0.008217   0.007473  -1.099   0.2719    \n",
       "Lag2         0.012623   0.007492   1.685   0.0924 .  \n",
       "Lag3        -0.003206   0.007613  -0.421   0.6738    \n",
       "Lag4        -0.005895   0.007516  -0.784   0.4331    \n",
       "Lag5        -0.001917   0.007459  -0.257   0.7973    \n",
       "---\n",
       "Signif. codes:  0 '***' 0.001 '**' 0.01 '*' 0.05 '.' 0.1 ' ' 1\n",
       "\n",
       "Residual standard error: 0.4984 on 755 degrees of freedom\n",
       "Multiple R-squared:  0.007797,\tAdjusted R-squared:  -8.854e-05 \n",
       "F-statistic: 0.9888 on 6 and 755 DF,  p-value: 0.4316\n"
      ]
     },
     "metadata": {},
     "output_type": "display_data"
    }
   ],
   "source": [
    "# Train test separate with stratified\n",
    "set.seed(123)\n",
    "sample <- sample.int(n = nrow(Weekly), size = floor(.7*nrow(Weekly)), replace = F)\n",
    "train <- Weekly[sample, ]\n",
    "test  <- Weekly[-sample, ]\n",
    "\n",
    "# Encode the response before fiting to Linear Regression model\n",
    "train_lr <- train\n",
    "test_lr <- test\n",
    "train_lr$Direction <- as.numeric(train_lr$Direction) - 1\n",
    "test_lr$Direction <- as.numeric(test_lr$Direction) - 1\n",
    "\n",
    "# Fit Linear Regression model\n",
    "md_lr <- lm(Direction ~ Volume + Lag1+Lag2+Lag3+Lag4+Lag5, data=train_lr)\n",
    "summary(md_lr)"
   ]
  },
  {
   "cell_type": "markdown",
   "id": "99edf140",
   "metadata": {},
   "source": [
    "According to the results with a significance of 0.1 the Lag2 is significant for the model"
   ]
  },
  {
   "cell_type": "markdown",
   "id": "a04c0bc1",
   "metadata": {},
   "source": [
    "(c) Compute the confusion matrix and overall fraction of correct predictions. Explain what the confusion matrix is telling you\n",
    "about the types of mistakes made by logistic regression.\n"
   ]
  },
  {
   "cell_type": "code",
   "execution_count": 5,
   "id": "497aa1ea",
   "metadata": {},
   "outputs": [
    {
     "data": {
      "text/html": [
       "<dl class=dl-horizontal>\n",
       "\t<dt>1</dt>\n",
       "\t\t<dd>0.591012074479342</dd>\n",
       "\t<dt>3</dt>\n",
       "\t\t<dd>0.570608207535738</dd>\n",
       "\t<dt>7</dt>\n",
       "\t\t<dd>0.56533507064446</dd>\n",
       "\t<dt>9</dt>\n",
       "\t\t<dd>0.563250824594198</dd>\n",
       "\t<dt>12</dt>\n",
       "\t\t<dd>0.532497425486578</dd>\n",
       "\t<dt>14</dt>\n",
       "\t\t<dd>0.578834081235278</dd>\n",
       "</dl>\n"
      ],
      "text/latex": [
       "\\begin{description*}\n",
       "\\item[1] 0.591012074479342\n",
       "\\item[3] 0.570608207535738\n",
       "\\item[7] 0.56533507064446\n",
       "\\item[9] 0.563250824594198\n",
       "\\item[12] 0.532497425486578\n",
       "\\item[14] 0.578834081235278\n",
       "\\end{description*}\n"
      ],
      "text/markdown": [
       "1\n",
       ":   0.5910120744793423\n",
       ":   0.5706082075357387\n",
       ":   0.565335070644469\n",
       ":   0.56325082459419812\n",
       ":   0.53249742548657814\n",
       ":   0.578834081235278\n",
       "\n"
      ],
      "text/plain": [
       "        1         3         7         9        12        14 \n",
       "0.5910121 0.5706082 0.5653351 0.5632508 0.5324974 0.5788341 "
      ]
     },
     "metadata": {},
     "output_type": "display_data"
    },
    {
     "data": {
      "text/plain": [
       "   Min. 1st Qu.  Median    Mean 3rd Qu.    Max. \n",
       " 0.4521  0.5209  0.5491  0.5468  0.5691  0.6587 "
      ]
     },
     "metadata": {},
     "output_type": "display_data"
    }
   ],
   "source": [
    "# Predict and evaluate\n",
    "pred <- predict(md_lr, newdata=test_lr)\n",
    "head(pred)\n",
    "summary(pred)"
   ]
  },
  {
   "cell_type": "code",
   "execution_count": 19,
   "id": "91ae1912",
   "metadata": {},
   "outputs": [
    {
     "name": "stdout",
     "output_type": "stream",
     "text": [
      "[1] \"Decision threshold=0.555555555555556\"\n"
     ]
    }
   ],
   "source": [
    "# Convert probability to class\n",
    "threshold <- (table(Weekly$Direction) / nrow(Weekly))[2]\n",
    "# threshold <- 0.1\n",
    "print(paste0('Decision threshold=', threshold))\n",
    "pred_lb <- as.numeric(pred >= threshold)"
   ]
  },
  {
   "cell_type": "code",
   "execution_count": 26,
   "id": "248d7a02",
   "metadata": {},
   "outputs": [
    {
     "data": {
      "text/plain": [
       "      \n",
       "label  Down  Up\n",
       "  Down   89 103\n",
       "  Up     48  87"
      ]
     },
     "metadata": {},
     "output_type": "display_data"
    }
   ],
   "source": [
    "# Confusion matrix\n",
    "label = ifelse(pred_lb == 1, \"Up\",\"Down\")\n",
    "confusion_matrix = table(label,test$Direction)\n",
    "confusion_matrix"
   ]
  },
  {
   "cell_type": "code",
   "execution_count": 36,
   "id": "c010e9d1",
   "metadata": {},
   "outputs": [
    {
     "data": {
      "text/html": [
       "0.53822629969419"
      ],
      "text/latex": [
       "0.53822629969419"
      ],
      "text/markdown": [
       "0.53822629969419"
      ],
      "text/plain": [
       "[1] 0.5382263"
      ]
     },
     "metadata": {},
     "output_type": "display_data"
    }
   ],
   "source": [
    "#Accuracy\n",
    "(confusion_matrix[1,1]+confusion_matrix[2,2])/sum(confusion_matrix)"
   ]
  },
  {
   "cell_type": "markdown",
   "id": "c3eedf34",
   "metadata": {},
   "source": [
    "(d) Now fit the logistic regression model using a training data period from 1990 to 2008, with Lag2 as the only predictor. Compute the confusion matrix and the overall fraction of correct predictions for the held out data (that is, the data from 2009 and 2010).\n"
   ]
  },
  {
   "cell_type": "code",
   "execution_count": 11,
   "id": "2805bae2",
   "metadata": {},
   "outputs": [],
   "source": [
    "train_v2 = Weekly[Weekly$Year <= 2008,]\n",
    "test_v2 = Weekly[Weekly$Year > 2008,]"
   ]
  },
  {
   "cell_type": "code",
   "execution_count": 16,
   "id": "d9ed6821",
   "metadata": {},
   "outputs": [
    {
     "data": {
      "text/plain": [
       "\n",
       "Call:\n",
       "lm(formula = Direction ~ Lag2, data = test_lr2)\n",
       "\n",
       "Residuals:\n",
       "    Min      1Q  Median      3Q     Max \n",
       "-0.7164 -0.5723  0.3484  0.4202  0.5640 \n",
       "\n",
       "Coefficients:\n",
       "            Estimate Std. Error t value Pr(>|t|)    \n",
       "(Intercept)  0.57899    0.04872  11.883   <2e-16 ***\n",
       "Lag2         0.02033    0.01581   1.286    0.201    \n",
       "---\n",
       "Signif. codes:  0 '***' 0.001 '**' 0.01 '*' 0.05 '.' 0.1 ' ' 1\n",
       "\n",
       "Residual standard error: 0.4933 on 102 degrees of freedom\n",
       "Multiple R-squared:  0.01596,\tAdjusted R-squared:  0.006312 \n",
       "F-statistic: 1.654 on 1 and 102 DF,  p-value: 0.2013\n"
      ]
     },
     "metadata": {},
     "output_type": "display_data"
    }
   ],
   "source": [
    "# Encode the response before fiting to Linear Regression model\n",
    "train_lr2 <- train_v2\n",
    "test_lr2 <- test_v2\n",
    "train_lr2$Direction <- as.numeric(train_lr2$Direction) - 1\n",
    "test_lr2$Direction <- as.numeric(test_lr2$Direction) - 1\n",
    "\n",
    "# Fit Linear Regression model\n",
    "md_lr_2 <- lm(Direction ~ Lag2, data=test_lr2)\n",
    "summary(md_lr_2)"
   ]
  },
  {
   "cell_type": "code",
   "execution_count": 27,
   "id": "4b4baccc",
   "metadata": {},
   "outputs": [
    {
     "data": {
      "text/html": [
       "<dl class=dl-horizontal>\n",
       "\t<dt>986</dt>\n",
       "\t\t<dd>0.544465579318991</dd>\n",
       "\t<dt>987</dt>\n",
       "\t\t<dd>0.716427689276882</dd>\n",
       "\t<dt>988</dt>\n",
       "\t\t<dd>0.488554512591135</dd>\n",
       "\t<dt>989</dt>\n",
       "\t\t<dd>0.487131321801699</dd>\n",
       "\t<dt>990</dt>\n",
       "\t\t<dd>0.535540139939526</dd>\n",
       "\t<dt>991</dt>\n",
       "\t\t<dd>0.564146274807196</dd>\n",
       "</dl>\n"
      ],
      "text/latex": [
       "\\begin{description*}\n",
       "\\item[986] 0.544465579318991\n",
       "\\item[987] 0.716427689276882\n",
       "\\item[988] 0.488554512591135\n",
       "\\item[989] 0.487131321801699\n",
       "\\item[990] 0.535540139939526\n",
       "\\item[991] 0.564146274807196\n",
       "\\end{description*}\n"
      ],
      "text/markdown": [
       "986\n",
       ":   0.544465579318991987\n",
       ":   0.716427689276882988\n",
       ":   0.488554512591135989\n",
       ":   0.487131321801699990\n",
       ":   0.535540139939526991\n",
       ":   0.564146274807196\n",
       "\n"
      ],
      "text/plain": [
       "      986       987       988       989       990       991 \n",
       "0.5444656 0.7164277 0.4885545 0.4871313 0.5355401 0.5641463 "
      ]
     },
     "metadata": {},
     "output_type": "display_data"
    },
    {
     "data": {
      "text/plain": [
       "   Min. 1st Qu.  Median    Mean 3rd Qu.    Max. \n",
       " 0.4360  0.5543  0.5884  0.5865  0.6245  0.7967 "
      ]
     },
     "metadata": {},
     "output_type": "display_data"
    }
   ],
   "source": [
    "# Predict and evaluate\n",
    "pred_2 <- predict(md_lr_2, newdata=test_lr2)\n",
    "head(pred_2)\n",
    "summary(pred_2)"
   ]
  },
  {
   "cell_type": "code",
   "execution_count": 28,
   "id": "ee0e5b88",
   "metadata": {},
   "outputs": [
    {
     "name": "stdout",
     "output_type": "stream",
     "text": [
      "[1] \"Decision threshold=0.555555555555556\"\n"
     ]
    }
   ],
   "source": [
    "# Convert probability to class\n",
    "threshold <- (table(Weekly$Direction) / nrow(Weekly))[2]\n",
    "# threshold <- 0.1\n",
    "print(paste0('Decision threshold=', threshold))\n",
    "pred_lb2 <- as.numeric(pred_2 >= threshold)"
   ]
  },
  {
   "cell_type": "code",
   "execution_count": 35,
   "id": "43eaf9b6",
   "metadata": {},
   "outputs": [
    {
     "data": {
      "text/plain": [
       "      \n",
       "label2 Down Up\n",
       "  Down   13 14\n",
       "  Up     30 47"
      ]
     },
     "metadata": {},
     "output_type": "display_data"
    }
   ],
   "source": [
    "# Confusion matrix\n",
    "label2 = ifelse(pred_lb2 == 1, \"Up\",\"Down\")\n",
    "confusion_matrix2 = table(label2,test_v2$Direction)\n",
    "confusion_matrix2"
   ]
  },
  {
   "cell_type": "code",
   "execution_count": 37,
   "id": "09e89cf8",
   "metadata": {},
   "outputs": [
    {
     "data": {
      "text/html": [
       "0.576923076923077"
      ],
      "text/latex": [
       "0.576923076923077"
      ],
      "text/markdown": [
       "0.576923076923077"
      ],
      "text/plain": [
       "[1] 0.5769231"
      ]
     },
     "metadata": {},
     "output_type": "display_data"
    }
   ],
   "source": [
    "#Accuracy\n",
    "(confusion_matrix2[1,1]+confusion_matrix2[2,2])/sum(confusion_matrix2)"
   ]
  },
  {
   "cell_type": "markdown",
   "id": "803af34b",
   "metadata": {},
   "source": [
    "The accuracy of the model increased from 53% to 57% changing the train and test split and using Lag2 as the only predictor"
   ]
  },
  {
   "cell_type": "markdown",
   "id": "d5d017ad",
   "metadata": {},
   "source": [
    "(e) Repeat (d) using LDA.\n"
   ]
  },
  {
   "cell_type": "code",
   "execution_count": 40,
   "id": "cfb9023b",
   "metadata": {},
   "outputs": [
    {
     "data": {
      "text/plain": [
       "        Length Class  Mode     \n",
       "prior   2      -none- numeric  \n",
       "counts  2      -none- numeric  \n",
       "means   2      -none- numeric  \n",
       "scaling 1      -none- numeric  \n",
       "lev     2      -none- character\n",
       "svd     1      -none- numeric  \n",
       "N       1      -none- numeric  \n",
       "call    3      -none- call     \n",
       "terms   3      terms  call     \n",
       "xlevels 0      -none- list     "
      ]
     },
     "metadata": {},
     "output_type": "display_data"
    }
   ],
   "source": [
    "library(MASS)\n",
    "md_lda <- lda(Direction ~ Lag2, data=train_lr2)\n",
    "summary(md_lda)"
   ]
  },
  {
   "cell_type": "code",
   "execution_count": 41,
   "id": "7d4b5039",
   "metadata": {},
   "outputs": [
    {
     "data": {
      "text/plain": [
       "Call:\n",
       "lda(Direction ~ Lag2, data = train_lr2)\n",
       "\n",
       "Prior probabilities of groups:\n",
       "        0         1 \n",
       "0.4477157 0.5522843 \n",
       "\n",
       "Group means:\n",
       "         Lag2\n",
       "0 -0.03568254\n",
       "1  0.26036581\n",
       "\n",
       "Coefficients of linear discriminants:\n",
       "           LD1\n",
       "Lag2 0.4414162"
      ]
     },
     "metadata": {},
     "output_type": "display_data"
    }
   ],
   "source": [
    "md_lda"
   ]
  },
  {
   "cell_type": "code",
   "execution_count": 57,
   "id": "f5ee9eca",
   "metadata": {},
   "outputs": [
    {
     "name": "stdout",
     "output_type": "stream",
     "text": [
      "[1] \"Decision threshold=0.555555555555556\"\n"
     ]
    },
    {
     "data": {
      "text/plain": [
       "         \n",
       "pred_lda2 Down Up\n",
       "        0    9  5\n",
       "        1   34 56"
      ]
     },
     "metadata": {},
     "output_type": "display_data"
    }
   ],
   "source": [
    "# Predict and evaluate\n",
    "pred_lda <- predict(md_lda, newdata=test_lr2)\n",
    "\n",
    "# Convert probability to class\n",
    "threshold <- (table(Weekly$Direction) / nrow(Weekly))[2]\n",
    "# threshold <- 0.1\n",
    "print(paste0('Decision threshold=', threshold))\n",
    "\n",
    "pred_lda2 <- pred_lda$class\n",
    "\n",
    "# Confusion matrix\n",
    "label_lda = ifelse(pred_lda2 == 1, \"Up\",\"Down\")\n",
    "confusion_matrix_lda = table(pred_lda2,test_v2$Direction)\n",
    "confusion_matrix_lda"
   ]
  },
  {
   "cell_type": "code",
   "execution_count": 58,
   "id": "621d282f",
   "metadata": {},
   "outputs": [
    {
     "data": {
      "text/html": [
       "0.625"
      ],
      "text/latex": [
       "0.625"
      ],
      "text/markdown": [
       "0.625"
      ],
      "text/plain": [
       "[1] 0.625"
      ]
     },
     "metadata": {},
     "output_type": "display_data"
    }
   ],
   "source": [
    "#Accuracy\n",
    "(confusion_matrix_lda[1,1]+confusion_matrix_lda[2,2])/sum(confusion_matrix_lda)"
   ]
  },
  {
   "cell_type": "markdown",
   "id": "c7a9c523",
   "metadata": {},
   "source": [
    "(f) Repeat (d) using QDA.\n"
   ]
  },
  {
   "cell_type": "code",
   "execution_count": 62,
   "id": "ac35c021",
   "metadata": {},
   "outputs": [
    {
     "data": {
      "text/plain": [
       "Call:\n",
       "qda(Direction ~ Lag2, data = train_lr2)\n",
       "\n",
       "Prior probabilities of groups:\n",
       "        0         1 \n",
       "0.4477157 0.5522843 \n",
       "\n",
       "Group means:\n",
       "         Lag2\n",
       "0 -0.03568254\n",
       "1  0.26036581"
      ]
     },
     "metadata": {},
     "output_type": "display_data"
    }
   ],
   "source": [
    "md_qda <- qda(Direction ~ Lag2, data=train_lr2)\n",
    "md_qda"
   ]
  },
  {
   "cell_type": "code",
   "execution_count": 63,
   "id": "8758f5af",
   "metadata": {},
   "outputs": [
    {
     "data": {
      "text/plain": [
       "         \n",
       "pred_qda2 Down Up\n",
       "        0    0  0\n",
       "        1   43 61"
      ]
     },
     "metadata": {},
     "output_type": "display_data"
    }
   ],
   "source": [
    "# Predict and evaluate\n",
    "pred_qda <- predict(md_qda, newdata=test_lr2)\n",
    "\n",
    "# Convert probability to class\n",
    "pred_qda2 <- pred_qda$class\n",
    "\n",
    "# Confusion matrix\n",
    "label_qda = ifelse(pred_qda2 == 1, \"Up\",\"Down\")\n",
    "confusion_matrix_qda = table(pred_qda2,test_v2$Direction)\n",
    "confusion_matrix_qda"
   ]
  },
  {
   "cell_type": "code",
   "execution_count": 64,
   "id": "c17f7a6d",
   "metadata": {},
   "outputs": [
    {
     "data": {
      "text/html": [
       "0.586538461538462"
      ],
      "text/latex": [
       "0.586538461538462"
      ],
      "text/markdown": [
       "0.586538461538462"
      ],
      "text/plain": [
       "[1] 0.5865385"
      ]
     },
     "metadata": {},
     "output_type": "display_data"
    }
   ],
   "source": [
    "#Accuracy\n",
    "(confusion_matrix_qda[1,1]+confusion_matrix_qda[2,2])/sum(confusion_matrix_qda)"
   ]
  },
  {
   "cell_type": "markdown",
   "id": "f14d8520",
   "metadata": {},
   "source": [
    "(g) Repeat (d) using KNN with K = 1.\n"
   ]
  },
  {
   "cell_type": "code",
   "execution_count": 70,
   "id": "dce79526",
   "metadata": {},
   "outputs": [
    {
     "name": "stdout",
     "output_type": "stream",
     "text": [
      "[1] \"Confusion matrix:\"\n"
     ]
    },
    {
     "data": {
      "text/plain": [
       "         \n",
       "knn1_pred Down Up\n",
       "     Down   21 29\n",
       "     Up     22 32"
      ]
     },
     "metadata": {},
     "output_type": "display_data"
    },
    {
     "name": "stdout",
     "output_type": "stream",
     "text": [
      "[1] \"Accuracy = 0.51 %\"\n"
     ]
    }
   ],
   "source": [
    "# Fit the KNN model with the train set using 2 best predictors\n",
    "library(class)\n",
    "\n",
    "# k = 1\n",
    "set.seed(123)\n",
    "knn1_pred <- knn(train=as.matrix(train_v2[, c('Lag2')]),\n",
    "                 test=as.matrix(test_v2[, c('Lag2')]),\n",
    "                 cl=train_v2$Direction,\n",
    "                 k=1)\n",
    "\n",
    "# Confusion matrix\n",
    "print('Confusion matrix:')\n",
    "table(knn1_pred, test_v2$Direction)\n",
    "\n",
    "# Accuracy\n",
    "acc <- mean(knn1_pred == test_v2$Direction)\n",
    "print(paste('Accuracy =', round(acc, 2), '%'))"
   ]
  },
  {
   "cell_type": "markdown",
   "id": "fa8a0e21",
   "metadata": {},
   "source": [
    "(h) Which of these methods appears to provide the best results on this data?\n"
   ]
  },
  {
   "cell_type": "markdown",
   "id": "1fdfbec1",
   "metadata": {},
   "source": [
    "For this data the model with best accuracy is the LDA with a 62% of accuracy"
   ]
  },
  {
   "cell_type": "markdown",
   "id": "9d28835c",
   "metadata": {},
   "source": [
    "### Excercise 11\n",
    "In this problem, you will develop a model to predict whether a given car gets high or low gas mileage based on the Auto data set. \n",
    "\n",
    "(a) Create a binary variable, mpg01, that contains a 1 if mpg contains a value above its median, and a 0 if mpg contains a value below its median. You can compute the median using the median() function. Note you may find it helpful to use the data.frame()\n",
    "function to create a single data set containing both mpg01 and the other Auto variables"
   ]
  },
  {
   "cell_type": "code",
   "execution_count": 73,
   "id": "7d221983",
   "metadata": {},
   "outputs": [],
   "source": [
    "df = Auto"
   ]
  },
  {
   "cell_type": "code",
   "execution_count": 75,
   "id": "8cc52d06",
   "metadata": {},
   "outputs": [
    {
     "data": {
      "text/html": [
       "22.75"
      ],
      "text/latex": [
       "22.75"
      ],
      "text/markdown": [
       "22.75"
      ],
      "text/plain": [
       "[1] 22.75"
      ]
     },
     "metadata": {},
     "output_type": "display_data"
    }
   ],
   "source": [
    "median = median(df$mpg)\n",
    "median"
   ]
  },
  {
   "cell_type": "code",
   "execution_count": 77,
   "id": "4ffb829a",
   "metadata": {},
   "outputs": [],
   "source": [
    "df$mpg01 = ifelse(df$mpg>median,1,0)"
   ]
  },
  {
   "cell_type": "markdown",
   "id": "83802ee9",
   "metadata": {},
   "source": [
    "(b) Explore the data graphically in order to investigate the associ\u0002ation between mpg01 and the other features. Which of the other features seem most likely to be useful in predicting mpg01? Scat\u0002terplots and boxplots may be useful tools to answer this question. Describe your findings.\n"
   ]
  },
  {
   "cell_type": "code",
   "execution_count": 86,
   "id": "1c2c4656",
   "metadata": {},
   "outputs": [
    {
     "data": {
      "image/png": "[encoded data removed]",
      "text/plain": [
       "plot without title"
      ]
     },
     "metadata": {},
     "output_type": "display_data"
    }
   ],
   "source": [
    "pairs(df, pch = 19)"
   ]
  },
  {
   "cell_type": "markdown",
   "id": "2d06cd87",
   "metadata": {},
   "source": [
    "(c) Split the data into a training set and a test set.\n"
   ]
  },
  {
   "cell_type": "code",
   "execution_count": 87,
   "id": "020a7356",
   "metadata": {},
   "outputs": [],
   "source": [
    "# Train test separate with stratified\n",
    "set.seed(123)\n",
    "sample <- sample.int(n = nrow(df), size = floor(.7*nrow(df)), replace = F)\n",
    "train_auto <- df[sample, ]\n",
    "test_auto  <- df[-sample, ]\n"
   ]
  },
  {
   "cell_type": "markdown",
   "id": "7d09f9d7",
   "metadata": {},
   "source": [
    "(d) Perform LDA on the training data in order to predict mpg01 using the variables that seemed most associated with mpg01 in\n"
   ]
  },
  {
   "cell_type": "code",
   "execution_count": 96,
   "id": "4b2c088a",
   "metadata": {},
   "outputs": [
    {
     "data": {
      "text/plain": [
       "Call:\n",
       "lda(mpg01 ~ origin + displacement, data = train_auto)\n",
       "\n",
       "Prior probabilities of groups:\n",
       "        0         1 \n",
       "0.4963504 0.5036496 \n",
       "\n",
       "Group means:\n",
       "    origin displacement\n",
       "0 1.139706     275.2941\n",
       "1 1.956522     114.5290\n",
       "\n",
       "Coefficients of linear discriminants:\n",
       "                    LD1\n",
       "origin        0.2218213\n",
       "displacement -0.0136110"
      ]
     },
     "metadata": {},
     "output_type": "display_data"
    }
   ],
   "source": [
    "# Fit LDA model\n",
    "md_lda <- lda(mpg01 ~ origin+displacement, data=train_auto)\n",
    "md_lda"
   ]
  },
  {
   "cell_type": "markdown",
   "id": "fe29b85a",
   "metadata": {},
   "source": [
    "(b). What is the test error of the model obtained?\n"
   ]
  },
  {
   "cell_type": "markdown",
   "id": "6bddf239",
   "metadata": {},
   "source": [
    "(e) Perform QDA on the training data in order to predict mpg01 using the variables that seemed most associated with mpg01 in\n",
    "(b). What is the test error of the model obtained?\n"
   ]
  },
  {
   "cell_type": "markdown",
   "id": "ea2718dc",
   "metadata": {},
   "source": [
    "(f) Perform logistic regression on the training data in order to pre\u0002dict mpg01 using the variables that seemed most associated with mpg01 in (b). What is the test error of the model obtained?\n"
   ]
  },
  {
   "cell_type": "markdown",
   "id": "7327b631",
   "metadata": {},
   "source": [
    "(g) Perform KNN on the training data, with several values of K, in order to predict mpg01. Use only the variables that seemed most associated with mpg01 in (b). What test errors do you obtain? Which value of K seems to perform the best on this data set?"
   ]
  },
  {
   "cell_type": "code",
   "execution_count": null,
   "id": "17bc45d1",
   "metadata": {},
   "outputs": [],
   "source": []
  }
 ],
 "metadata": {
  "kernelspec": {
   "display_name": "R",
   "language": "R",
   "name": "ir"
  },
  "language_info": {
   "codemirror_mode": "r",
   "file_extension": ".r",
   "mimetype": "text/x-r-source",
   "name": "R",
   "pygments_lexer": "r",
   "version": "3.6.1"
  }
 },
 "nbformat": 4,
 "nbformat_minor": 5
}
