{
 "cells": [
  {
   "cell_type": "markdown",
   "id": "35ddb106",
   "metadata": {},
   "source": [
    "# Homework 1  \n",
    "## Statistical & Machine Learning Approaches for Marketing\n",
    "### Juliana Sanchez Ramirez"
   ]
  },
  {
   "cell_type": "markdown",
   "id": "98e724a3",
   "metadata": {},
   "source": [
    "### Chapter 2\n",
    "### Excercise 2\n",
    "Explain whether each scenario is a classification or regression problem, and indicate whether we are most interested in inference or prediction. Finally, provide n and p.\n",
    "\n",
    " A. We collect a set of data on the top 500 firms in the US. For each firm we record profit, number of employees, industry and the CEO salary. We are interested in understanding which factors affect CEO salary \n",
    " #### REGRESSION\n",
    "\n",
    " B.We are considering launching a new product and wish to know whether it will be a success or a failure. We collect data on 20\n",
    "similar products that were previously launched. For each product we have recorded whether it was a success or failure, price\n",
    "charged for the product, marketing budget, competition price, and ten other variables.\n",
    "#### CLASSIFICATION\n",
    "\n",
    " C. We are interest in predicting the % change in the USD/Euro exchange rate in relation to the weekly changes in the world\n",
    "stock markets. Hence we collect weekly data for all of 2012. For each week we record the % change in the USD/Euro, the %\n",
    "change in the US market, the % change in the British market, and the % change in the German market.\n",
    "#### REGRESSION"
   ]
  },
  {
   "cell_type": "markdown",
   "id": "910c0d9c",
   "metadata": {},
   "source": [
    "### Excercise 10\n",
    "10. This exercise involves the Boston housing data set.\n",
    "(a) To begin, load in the Boston data set. The Boston data set is part of the MASS library in R.\n",
    "How many rows are in this data set? How many columns? \n",
    "What do the rows and columns represent?"
   ]
  },
  {
   "cell_type": "code",
   "execution_count": 2,
   "id": "f35a7c19",
   "metadata": {},
   "outputs": [
    {
     "name": "stderr",
     "output_type": "stream",
     "text": [
      "Warning message:\n",
      "\"package 'dplyr' was built under R version 3.6.3\"\n",
      "Attaching package: 'dplyr'\n",
      "\n",
      "The following objects are masked from 'package:stats':\n",
      "\n",
      "    filter, lag\n",
      "\n",
      "The following objects are masked from 'package:base':\n",
      "\n",
      "    intersect, setdiff, setequal, union\n",
      "\n"
     ]
    }
   ],
   "source": [
    "library(dplyr)"
   ]
  },
  {
   "cell_type": "code",
   "execution_count": 3,
   "id": "5b089aeb",
   "metadata": {},
   "outputs": [
    {
     "name": "stderr",
     "output_type": "stream",
     "text": [
      "Warning message:\n",
      "\"package 'MASS' was built under R version 3.6.3\"\n",
      "Attaching package: 'MASS'\n",
      "\n",
      "The following object is masked from 'package:dplyr':\n",
      "\n",
      "    select\n",
      "\n"
     ]
    },
    {
     "data": {
      "text/html": [
       "<table>\n",
       "<thead><tr><th scope=col>crim</th><th scope=col>zn</th><th scope=col>indus</th><th scope=col>chas</th><th scope=col>nox</th><th scope=col>rm</th><th scope=col>age</th><th scope=col>dis</th><th scope=col>rad</th><th scope=col>tax</th><th scope=col>ptratio</th><th scope=col>black</th><th scope=col>lstat</th><th scope=col>medv</th></tr></thead>\n",
       "<tbody>\n",
       "\t<tr><td>0.00632</td><td>18     </td><td>2.31   </td><td>0      </td><td>0.538  </td><td>6.575  </td><td>65.2   </td><td>4.0900 </td><td>1      </td><td>296    </td><td>15.3   </td><td>396.90 </td><td>4.98   </td><td>24.0   </td></tr>\n",
       "\t<tr><td>0.02731</td><td> 0     </td><td>7.07   </td><td>0      </td><td>0.469  </td><td>6.421  </td><td>78.9   </td><td>4.9671 </td><td>2      </td><td>242    </td><td>17.8   </td><td>396.90 </td><td>9.14   </td><td>21.6   </td></tr>\n",
       "\t<tr><td>0.02729</td><td> 0     </td><td>7.07   </td><td>0      </td><td>0.469  </td><td>7.185  </td><td>61.1   </td><td>4.9671 </td><td>2      </td><td>242    </td><td>17.8   </td><td>392.83 </td><td>4.03   </td><td>34.7   </td></tr>\n",
       "\t<tr><td>0.03237</td><td> 0     </td><td>2.18   </td><td>0      </td><td>0.458  </td><td>6.998  </td><td>45.8   </td><td>6.0622 </td><td>3      </td><td>222    </td><td>18.7   </td><td>394.63 </td><td>2.94   </td><td>33.4   </td></tr>\n",
       "\t<tr><td>0.06905</td><td> 0     </td><td>2.18   </td><td>0      </td><td>0.458  </td><td>7.147  </td><td>54.2   </td><td>6.0622 </td><td>3      </td><td>222    </td><td>18.7   </td><td>396.90 </td><td>5.33   </td><td>36.2   </td></tr>\n",
       "\t<tr><td>0.02985</td><td> 0     </td><td>2.18   </td><td>0      </td><td>0.458  </td><td>6.430  </td><td>58.7   </td><td>6.0622 </td><td>3      </td><td>222    </td><td>18.7   </td><td>394.12 </td><td>5.21   </td><td>28.7   </td></tr>\n",
       "</tbody>\n",
       "</table>\n"
      ],
      "text/latex": [
       "\\begin{tabular}{r|llllllllllllll}\n",
       " crim & zn & indus & chas & nox & rm & age & dis & rad & tax & ptratio & black & lstat & medv\\\\\n",
       "\\hline\n",
       "\t 0.00632 & 18      & 2.31    & 0       & 0.538   & 6.575   & 65.2    & 4.0900  & 1       & 296     & 15.3    & 396.90  & 4.98    & 24.0   \\\\\n",
       "\t 0.02731 &  0      & 7.07    & 0       & 0.469   & 6.421   & 78.9    & 4.9671  & 2       & 242     & 17.8    & 396.90  & 9.14    & 21.6   \\\\\n",
       "\t 0.02729 &  0      & 7.07    & 0       & 0.469   & 7.185   & 61.1    & 4.9671  & 2       & 242     & 17.8    & 392.83  & 4.03    & 34.7   \\\\\n",
       "\t 0.03237 &  0      & 2.18    & 0       & 0.458   & 6.998   & 45.8    & 6.0622  & 3       & 222     & 18.7    & 394.63  & 2.94    & 33.4   \\\\\n",
       "\t 0.06905 &  0      & 2.18    & 0       & 0.458   & 7.147   & 54.2    & 6.0622  & 3       & 222     & 18.7    & 396.90  & 5.33    & 36.2   \\\\\n",
       "\t 0.02985 &  0      & 2.18    & 0       & 0.458   & 6.430   & 58.7    & 6.0622  & 3       & 222     & 18.7    & 394.12  & 5.21    & 28.7   \\\\\n",
       "\\end{tabular}\n"
      ],
      "text/markdown": [
       "\n",
       "| crim | zn | indus | chas | nox | rm | age | dis | rad | tax | ptratio | black | lstat | medv |\n",
       "|---|---|---|---|---|---|---|---|---|---|---|---|---|---|\n",
       "| 0.00632 | 18      | 2.31    | 0       | 0.538   | 6.575   | 65.2    | 4.0900  | 1       | 296     | 15.3    | 396.90  | 4.98    | 24.0    |\n",
       "| 0.02731 |  0      | 7.07    | 0       | 0.469   | 6.421   | 78.9    | 4.9671  | 2       | 242     | 17.8    | 396.90  | 9.14    | 21.6    |\n",
       "| 0.02729 |  0      | 7.07    | 0       | 0.469   | 7.185   | 61.1    | 4.9671  | 2       | 242     | 17.8    | 392.83  | 4.03    | 34.7    |\n",
       "| 0.03237 |  0      | 2.18    | 0       | 0.458   | 6.998   | 45.8    | 6.0622  | 3       | 222     | 18.7    | 394.63  | 2.94    | 33.4    |\n",
       "| 0.06905 |  0      | 2.18    | 0       | 0.458   | 7.147   | 54.2    | 6.0622  | 3       | 222     | 18.7    | 396.90  | 5.33    | 36.2    |\n",
       "| 0.02985 |  0      | 2.18    | 0       | 0.458   | 6.430   | 58.7    | 6.0622  | 3       | 222     | 18.7    | 394.12  | 5.21    | 28.7    |\n",
       "\n"
      ],
      "text/plain": [
       "  crim    zn indus chas nox   rm    age  dis    rad tax ptratio black  lstat\n",
       "1 0.00632 18 2.31  0    0.538 6.575 65.2 4.0900 1   296 15.3    396.90 4.98 \n",
       "2 0.02731  0 7.07  0    0.469 6.421 78.9 4.9671 2   242 17.8    396.90 9.14 \n",
       "3 0.02729  0 7.07  0    0.469 7.185 61.1 4.9671 2   242 17.8    392.83 4.03 \n",
       "4 0.03237  0 2.18  0    0.458 6.998 45.8 6.0622 3   222 18.7    394.63 2.94 \n",
       "5 0.06905  0 2.18  0    0.458 7.147 54.2 6.0622 3   222 18.7    396.90 5.33 \n",
       "6 0.02985  0 2.18  0    0.458 6.430 58.7 6.0622 3   222 18.7    394.12 5.21 \n",
       "  medv\n",
       "1 24.0\n",
       "2 21.6\n",
       "3 34.7\n",
       "4 33.4\n",
       "5 36.2\n",
       "6 28.7"
      ]
     },
     "metadata": {},
     "output_type": "display_data"
    }
   ],
   "source": [
    "#install.packages(\"psych\")\n",
    "library(MASS)\n",
    "head(Boston)\n",
    "?Boston"
   ]
  },
  {
   "cell_type": "markdown",
   "id": "11551219",
   "metadata": {},
   "source": [
    "The Boston data frame has 506 rows and 14 columns.\n",
    "Each row represents a suburb in Boston and each column a variable "
   ]
  },
  {
   "cell_type": "markdown",
   "id": "234deecd",
   "metadata": {},
   "source": [
    "(b) Make some pairwise scatterplots of the predictors (columns) in\n",
    "this data set. Describe your findings.\n"
   ]
  },
  {
   "cell_type": "code",
   "execution_count": 9,
   "id": "c091fdbf",
   "metadata": {},
   "outputs": [
    {
     "data": {
      "image/png": "[encoded data removed]",
      "text/plain": [
       "plot without title"
      ]
     },
     "metadata": {},
     "output_type": "display_data"
    }
   ],
   "source": [
    "pairs(Boston, pch = 19)"
   ]
  },
  {
   "cell_type": "markdown",
   "id": "189ea0b3",
   "metadata": {},
   "source": [
    "1.There is a positive relation between the variables Prop. of non.retail business acres per town and full-value property-tax rate per 10.000\n",
    "2.There is a negative relation between the variables Prop. of non.retail business acres per town and weighted mean of distances to five Boston employment centres\n",
    "3.There is a negative relation between the variables average number of rooms per dwelling and lower status of the population. This one doe not look as linear.\n",
    "3.There is a positive relation between the variables average number of rooms per dwelling and median value of owner-occupied homes in 1.000. This relation is stronger when the no. of rooms per dwelling is more than 7"
   ]
  },
  {
   "cell_type": "markdown",
   "id": "6332231d",
   "metadata": {},
   "source": [
    "(c) Are any of the predictors associated with per capita crime rate?\n",
    "If so, explain the relationship.\n"
   ]
  },
  {
   "cell_type": "code",
   "execution_count": 22,
   "id": "acdc0db0",
   "metadata": {},
   "outputs": [
    {
     "data": {
      "image/png": "[encoded data removed]",
      "text/plain": [
       "plot without title"
      ]
     },
     "metadata": {},
     "output_type": "display_data"
    }
   ],
   "source": [
    "library(psych)\n",
    "pairs.panels(Boston, \n",
    "             method = \"pearson\", # correlation method\n",
    "             hist.col = \"#00AFBB\",\n",
    "             density = TRUE,  # show density plots\n",
    "             ellipses = TRUE # show correlation ellipses\n",
    "             )\n",
    "#http://www.sthda.com/english/wiki/scatter-plot-matrices-r-base-graphs"
   ]
  },
  {
   "cell_type": "markdown",
   "id": "3d7c9baa",
   "metadata": {},
   "source": [
    "There is a high correlation between crime ND index of accessibility to radial highways as it is possible to observe that crime is lower for low indexes of accesibility.\n",
    "A similar effect can be observed with the vriable full-value property-tax rate per 10,000, Where the crime is lower for suburbs with low tax rates\n",
    "There is a negative relation between the crime and median value of owner-occupied homes in 1000s."
   ]
  },
  {
   "cell_type": "markdown",
   "id": "fd9efbb6",
   "metadata": {},
   "source": [
    "(d) Do any of the suburbs of Boston appear to have particularly\n",
    "high crime rates? Tax rates? Pupil-teacher ratios? Comment on\n",
    "the range of each predictor.\n"
   ]
  },
  {
   "cell_type": "code",
   "execution_count": 24,
   "id": "2e818795",
   "metadata": {},
   "outputs": [
    {
     "data": {
      "text/html": [
       "<table>\n",
       "<thead><tr><th scope=col>crim</th><th scope=col>zn</th><th scope=col>indus</th><th scope=col>chas</th><th scope=col>nox</th><th scope=col>rm</th><th scope=col>age</th><th scope=col>dis</th><th scope=col>rad</th><th scope=col>tax</th><th scope=col>ptratio</th><th scope=col>black</th><th scope=col>lstat</th><th scope=col>medv</th></tr></thead>\n",
       "<tbody>\n",
       "\t<tr><td> 0.00632</td><td>  0     </td><td> 0.46   </td><td>0       </td><td>0.385   </td><td>3.561   </td><td>  2.9   </td><td> 1.1296 </td><td> 1      </td><td>187     </td><td>12.6    </td><td>  0.32  </td><td> 1.73   </td><td> 5      </td></tr>\n",
       "\t<tr><td>88.97620</td><td>100     </td><td>27.74   </td><td>1       </td><td>0.871   </td><td>8.780   </td><td>100.0   </td><td>12.1265 </td><td>24      </td><td>711     </td><td>22.0    </td><td>396.90  </td><td>37.97   </td><td>50      </td></tr>\n",
       "</tbody>\n",
       "</table>\n"
      ],
      "text/latex": [
       "\\begin{tabular}{llllllllllllll}\n",
       " crim & zn & indus & chas & nox & rm & age & dis & rad & tax & ptratio & black & lstat & medv\\\\\n",
       "\\hline\n",
       "\t  0.00632 &   0      &  0.46    & 0        & 0.385    & 3.561    &   2.9    &  1.1296  &  1       & 187      & 12.6     &   0.32   &  1.73    &  5      \\\\\n",
       "\t 88.97620 & 100      & 27.74    & 1        & 0.871    & 8.780    & 100.0    & 12.1265  & 24       & 711      & 22.0     & 396.90   & 37.97    & 50      \\\\\n",
       "\\end{tabular}\n"
      ],
      "text/markdown": [
       "\n",
       "| crim | zn | indus | chas | nox | rm | age | dis | rad | tax | ptratio | black | lstat | medv |\n",
       "|---|---|---|---|---|---|---|---|---|---|---|---|---|---|\n",
       "|  0.00632 |   0      |  0.46    | 0        | 0.385    | 3.561    |   2.9    |  1.1296  |  1       | 187      | 12.6     |   0.32   |  1.73    |  5       |\n",
       "| 88.97620 | 100      | 27.74    | 1        | 0.871    | 8.780    | 100.0    | 12.1265  | 24       | 711      | 22.0     | 396.90   | 37.97    | 50       |\n",
       "\n"
      ],
      "text/plain": [
       "     crim     zn  indus chas nox   rm    age   dis     rad tax ptratio black \n",
       "[1,]  0.00632   0  0.46 0    0.385 3.561   2.9  1.1296  1  187 12.6      0.32\n",
       "[2,] 88.97620 100 27.74 1    0.871 8.780 100.0 12.1265 24  711 22.0    396.90\n",
       "     lstat medv\n",
       "[1,]  1.73  5  \n",
       "[2,] 37.97 50  "
      ]
     },
     "metadata": {},
     "output_type": "display_data"
    }
   ],
   "source": [
    "sapply(Boston, range)"
   ]
  },
  {
   "cell_type": "code",
   "execution_count": 32,
   "id": "237cb400",
   "metadata": {},
   "outputs": [
    {
     "data": {
      "text/html": [
       "<dl class=dl-horizontal>\n",
       "\t<dt>crim</dt>\n",
       "\t\t<dd>41.37033</dd>\n",
       "\t<dt>zn</dt>\n",
       "\t\t<dd>90</dd>\n",
       "\t<dt>indus</dt>\n",
       "\t\t<dd>25.65</dd>\n",
       "\t<dt>chas</dt>\n",
       "\t\t<dd>1</dd>\n",
       "\t<dt>nox</dt>\n",
       "\t\t<dd>0.871</dd>\n",
       "\t<dt>rm</dt>\n",
       "\t\t<dd>8.335</dd>\n",
       "\t<dt>age</dt>\n",
       "\t\t<dd>100</dd>\n",
       "\t<dt>dis</dt>\n",
       "\t\t<dd>9.22277</dd>\n",
       "\t<dt>rad</dt>\n",
       "\t\t<dd>24</dd>\n",
       "\t<dt>tax</dt>\n",
       "\t\t<dd>666</dd>\n",
       "\t<dt>ptratio</dt>\n",
       "\t\t<dd>21.2</dd>\n",
       "\t<dt>black</dt>\n",
       "\t\t<dd>396.9</dd>\n",
       "\t<dt>lstat</dt>\n",
       "\t\t<dd>33.9185</dd>\n",
       "\t<dt>medv</dt>\n",
       "\t\t<dd>50</dd>\n",
       "</dl>\n"
      ],
      "text/latex": [
       "\\begin{description*}\n",
       "\\item[crim] 41.37033\n",
       "\\item[zn] 90\n",
       "\\item[indus] 25.65\n",
       "\\item[chas] 1\n",
       "\\item[nox] 0.871\n",
       "\\item[rm] 8.335\n",
       "\\item[age] 100\n",
       "\\item[dis] 9.22277\n",
       "\\item[rad] 24\n",
       "\\item[tax] 666\n",
       "\\item[ptratio] 21.2\n",
       "\\item[black] 396.9\n",
       "\\item[lstat] 33.9185\n",
       "\\item[medv] 50\n",
       "\\end{description*}\n"
      ],
      "text/markdown": [
       "crim\n",
       ":   41.37033zn\n",
       ":   90indus\n",
       ":   25.65chas\n",
       ":   1nox\n",
       ":   0.871rm\n",
       ":   8.335age\n",
       ":   100dis\n",
       ":   9.22277rad\n",
       ":   24tax\n",
       ":   666ptratio\n",
       ":   21.2black\n",
       ":   396.9lstat\n",
       ":   33.9185medv\n",
       ":   50\n",
       "\n"
      ],
      "text/plain": [
       "     crim        zn     indus      chas       nox        rm       age       dis \n",
       " 41.37033  90.00000  25.65000   1.00000   0.87100   8.33500 100.00000   9.22277 \n",
       "      rad       tax   ptratio     black     lstat      medv \n",
       " 24.00000 666.00000  21.20000 396.90000  33.91850  50.00000 "
      ]
     },
     "metadata": {},
     "output_type": "display_data"
    }
   ],
   "source": [
    "apply( Boston , 2 , quantile , probs = 0.99 , na.rm = TRUE )"
   ]
  },
  {
   "cell_type": "markdown",
   "id": "f3ede212",
   "metadata": {},
   "source": [
    "-crim: the max value is 88.9, but 99% of the suburbs have values under 42\n",
    "\n",
    "-zn: Max value is 100 but 99% of the suburbs have values under 90\n",
    "\n",
    "-indus: Max value is 27.7 and this value is close to the percentile 99\n",
    "\n",
    "-chas: binary variable 0 or 1\n",
    "\n",
    "-nox: The max value equals the percentile 99 = 0.871\n",
    "\n",
    "-rm: Max value is 8.78 and this value is close to the percentile 99\n",
    "\n",
    "-age: The max value equals the percentile 99 = 100\n",
    "\n",
    "-dis: The max value is 12.12 and the percentile 99 is 9.22\n",
    "\n",
    "-rad:  The max value equals the percentile 99 = 24\n",
    "\n",
    "-tax: the max value is 711, but 99% of the suburbs have values under 666\n",
    "\n",
    "-ptratio: Max value is 22 and this value is close to the percentile 99\n",
    "\n",
    "-black: The max value equals the percentile 99 = 396.9\n",
    "\n",
    "-lstat: the max value is 37.97, but 99% of the suburbs have values under 33.9\n",
    "\n",
    "-medv: The max value equals the percentile 99 = 50"
   ]
  },
  {
   "cell_type": "markdown",
   "id": "5a6b9ff0",
   "metadata": {},
   "source": [
    "(e) How many of the suburbs in this data set bound the Charles\n",
    "river?\n"
   ]
  },
  {
   "cell_type": "code",
   "execution_count": 34,
   "id": "178ce0a1",
   "metadata": {},
   "outputs": [
    {
     "data": {
      "text/html": [
       "<table>\n",
       "<thead><tr><th scope=col>n</th></tr></thead>\n",
       "<tbody>\n",
       "\t<tr><td>35</td></tr>\n",
       "</tbody>\n",
       "</table>\n"
      ],
      "text/latex": [
       "\\begin{tabular}{r|l}\n",
       " n\\\\\n",
       "\\hline\n",
       "\t 35\\\\\n",
       "\\end{tabular}\n"
      ],
      "text/markdown": [
       "\n",
       "| n |\n",
       "|---|\n",
       "| 35 |\n",
       "\n"
      ],
      "text/plain": [
       "  n \n",
       "1 35"
      ]
     },
     "metadata": {},
     "output_type": "display_data"
    }
   ],
   "source": [
    "count(Boston %>% filter(chas == 1))"
   ]
  },
  {
   "cell_type": "markdown",
   "id": "384e430f",
   "metadata": {},
   "source": [
    "35 suburbs bound the Charles river"
   ]
  },
  {
   "cell_type": "markdown",
   "id": "c0953c43",
   "metadata": {},
   "source": [
    "(f) What is the median pupil-teacher ratio among the towns in this\n",
    "data set?\n"
   ]
  },
  {
   "cell_type": "code",
   "execution_count": 36,
   "id": "b78b983f",
   "metadata": {},
   "outputs": [
    {
     "data": {
      "text/html": [
       "19.05"
      ],
      "text/latex": [
       "19.05"
      ],
      "text/markdown": [
       "19.05"
      ],
      "text/plain": [
       "[1] 19.05"
      ]
     },
     "metadata": {},
     "output_type": "display_data"
    }
   ],
   "source": [
    "median(Boston$ptratio)"
   ]
  },
  {
   "cell_type": "markdown",
   "id": "bb38594c",
   "metadata": {},
   "source": [
    "the median pupil-teacher ratio among the towns is 19.05"
   ]
  },
  {
   "cell_type": "markdown",
   "id": "a8039cfd",
   "metadata": {},
   "source": [
    "(g) Which suburb of Boston has lowest median value of owneroccupied homes? What are the values of the other predictors\n",
    "for that suburb, and how do those values compare to the overall\n",
    "ranges for those predictors? Comment on your findings.\n"
   ]
  },
  {
   "cell_type": "code",
   "execution_count": 38,
   "id": "e81bcccd",
   "metadata": {},
   "outputs": [
    {
     "data": {
      "text/html": [
       "<table>\n",
       "<thead><tr><th scope=col>crim</th><th scope=col>zn</th><th scope=col>indus</th><th scope=col>chas</th><th scope=col>nox</th><th scope=col>rm</th><th scope=col>age</th><th scope=col>dis</th><th scope=col>rad</th><th scope=col>tax</th><th scope=col>ptratio</th><th scope=col>black</th><th scope=col>lstat</th><th scope=col>medv</th></tr></thead>\n",
       "<tbody>\n",
       "\t<tr><td>38.3518</td><td>0      </td><td>18.1   </td><td>0      </td><td>0.693  </td><td>5.453  </td><td>100    </td><td>1.4896 </td><td>24     </td><td>666    </td><td>20.2   </td><td>396.90 </td><td>30.59  </td><td>5      </td></tr>\n",
       "\t<tr><td>67.9208</td><td>0      </td><td>18.1   </td><td>0      </td><td>0.693  </td><td>5.683  </td><td>100    </td><td>1.4254 </td><td>24     </td><td>666    </td><td>20.2   </td><td>384.97 </td><td>22.98  </td><td>5      </td></tr>\n",
       "</tbody>\n",
       "</table>\n"
      ],
      "text/latex": [
       "\\begin{tabular}{r|llllllllllllll}\n",
       " crim & zn & indus & chas & nox & rm & age & dis & rad & tax & ptratio & black & lstat & medv\\\\\n",
       "\\hline\n",
       "\t 38.3518 & 0       & 18.1    & 0       & 0.693   & 5.453   & 100     & 1.4896  & 24      & 666     & 20.2    & 396.90  & 30.59   & 5      \\\\\n",
       "\t 67.9208 & 0       & 18.1    & 0       & 0.693   & 5.683   & 100     & 1.4254  & 24      & 666     & 20.2    & 384.97  & 22.98   & 5      \\\\\n",
       "\\end{tabular}\n"
      ],
      "text/markdown": [
       "\n",
       "| crim | zn | indus | chas | nox | rm | age | dis | rad | tax | ptratio | black | lstat | medv |\n",
       "|---|---|---|---|---|---|---|---|---|---|---|---|---|---|\n",
       "| 38.3518 | 0       | 18.1    | 0       | 0.693   | 5.453   | 100     | 1.4896  | 24      | 666     | 20.2    | 396.90  | 30.59   | 5       |\n",
       "| 67.9208 | 0       | 18.1    | 0       | 0.693   | 5.683   | 100     | 1.4254  | 24      | 666     | 20.2    | 384.97  | 22.98   | 5       |\n",
       "\n"
      ],
      "text/plain": [
       "  crim    zn indus chas nox   rm    age dis    rad tax ptratio black  lstat\n",
       "1 38.3518 0  18.1  0    0.693 5.453 100 1.4896 24  666 20.2    396.90 30.59\n",
       "2 67.9208 0  18.1  0    0.693 5.683 100 1.4254 24  666 20.2    384.97 22.98\n",
       "  medv\n",
       "1 5   \n",
       "2 5   "
      ]
     },
     "metadata": {},
     "output_type": "display_data"
    }
   ],
   "source": [
    "Boston %>% filter(medv == min(medv))"
   ]
  },
  {
   "cell_type": "code",
   "execution_count": 8,
   "id": "7667fb4a",
   "metadata": {},
   "outputs": [
    {
     "data": {
      "text/plain": [
       "      crim                zn             indus            chas        \n",
       " Min.   : 0.00632   Min.   :  0.00   Min.   : 0.46   Min.   :0.00000  \n",
       " 1st Qu.: 0.08204   1st Qu.:  0.00   1st Qu.: 5.19   1st Qu.:0.00000  \n",
       " Median : 0.25651   Median :  0.00   Median : 9.69   Median :0.00000  \n",
       " Mean   : 3.61352   Mean   : 11.36   Mean   :11.14   Mean   :0.06917  \n",
       " 3rd Qu.: 3.67708   3rd Qu.: 12.50   3rd Qu.:18.10   3rd Qu.:0.00000  \n",
       " Max.   :88.97620   Max.   :100.00   Max.   :27.74   Max.   :1.00000  \n",
       "      nox               rm             age              dis        \n",
       " Min.   :0.3850   Min.   :3.561   Min.   :  2.90   Min.   : 1.130  \n",
       " 1st Qu.:0.4490   1st Qu.:5.886   1st Qu.: 45.02   1st Qu.: 2.100  \n",
       " Median :0.5380   Median :6.208   Median : 77.50   Median : 3.207  \n",
       " Mean   :0.5547   Mean   :6.285   Mean   : 68.57   Mean   : 3.795  \n",
       " 3rd Qu.:0.6240   3rd Qu.:6.623   3rd Qu.: 94.08   3rd Qu.: 5.188  \n",
       " Max.   :0.8710   Max.   :8.780   Max.   :100.00   Max.   :12.127  \n",
       "      rad              tax           ptratio          black       \n",
       " Min.   : 1.000   Min.   :187.0   Min.   :12.60   Min.   :  0.32  \n",
       " 1st Qu.: 4.000   1st Qu.:279.0   1st Qu.:17.40   1st Qu.:375.38  \n",
       " Median : 5.000   Median :330.0   Median :19.05   Median :391.44  \n",
       " Mean   : 9.549   Mean   :408.2   Mean   :18.46   Mean   :356.67  \n",
       " 3rd Qu.:24.000   3rd Qu.:666.0   3rd Qu.:20.20   3rd Qu.:396.23  \n",
       " Max.   :24.000   Max.   :711.0   Max.   :22.00   Max.   :396.90  \n",
       "     lstat            medv      \n",
       " Min.   : 1.73   Min.   : 5.00  \n",
       " 1st Qu.: 6.95   1st Qu.:17.02  \n",
       " Median :11.36   Median :21.20  \n",
       " Mean   :12.65   Mean   :22.53  \n",
       " 3rd Qu.:16.95   3rd Qu.:25.00  \n",
       " Max.   :37.97   Max.   :50.00  "
      ]
     },
     "metadata": {},
     "output_type": "display_data"
    }
   ],
   "source": [
    "summary(Boston)"
   ]
  },
  {
   "cell_type": "markdown",
   "id": "28bf8615",
   "metadata": {},
   "source": [
    "#### For the first observation\n",
    "* crim has a high value, this one is in the 4th quartile.\n",
    "* zn is below the mean which is 11.36\n",
    "* indus is in the third quartile = 18.1\n",
    "* chas is equal to the median = 0\n",
    "* nox is in the 4th quartile\n",
    "* rm is in the1st quartile\n",
    "* age is the maximum value in the 4th quartile\n",
    "* dis is in the 1st quartile\n",
    "* rad is equal to the 3rd quartile\n",
    "* tax is equal to the 3rd quartile\n",
    "* ptratio is equal to the 3rd quartile\n",
    "* black is the maximum value 396.9\n",
    "* lstat is in the 4th quartile\n",
    "* medv is the minimum value\n",
    "\n"
   ]
  },
  {
   "cell_type": "markdown",
   "id": "8d5709dc",
   "metadata": {},
   "source": [
    "#### For the second observation\n",
    "* crim has a high value, this one is in the 4th quartile.\n",
    "* zn is below the mean which is 11.36\n",
    "* indus is in the third quartile = 18.1\n",
    "* chas is equal to the median = 0\n",
    "* nox is in the 4th quartile\n",
    "* rm is in the1st quartile\n",
    "* age is the maximum value in the 4th quartile\n",
    "* dis is in the 1st quartile\n",
    "* rad is equal to the 3rd quartile\n",
    "* tax is equal to the 3rd quartile\n",
    "* ptratio is equal to the 3rd quartile\n",
    "* black is the maximum value 396.9\n",
    "* lstat is in the 4th quartile\n",
    "* medv is the minimum value"
   ]
  },
  {
   "cell_type": "markdown",
   "id": "fd798a97",
   "metadata": {},
   "source": [
    "(h) In this data set, how many of the suburbs average more than\n",
    "seven rooms per dwelling? More than eight rooms per dwelling?\n",
    "Comment on the suburbs that average more than eight rooms\n",
    "per dwelling."
   ]
  },
  {
   "cell_type": "code",
   "execution_count": 4,
   "id": "70a7d658",
   "metadata": {},
   "outputs": [
    {
     "data": {
      "text/html": [
       "<table>\n",
       "<thead><tr><th scope=col>n</th></tr></thead>\n",
       "<tbody>\n",
       "\t<tr><td>64</td></tr>\n",
       "</tbody>\n",
       "</table>\n"
      ],
      "text/latex": [
       "\\begin{tabular}{r|l}\n",
       " n\\\\\n",
       "\\hline\n",
       "\t 64\\\\\n",
       "\\end{tabular}\n"
      ],
      "text/markdown": [
       "\n",
       "| n |\n",
       "|---|\n",
       "| 64 |\n",
       "\n"
      ],
      "text/plain": [
       "  n \n",
       "1 64"
      ]
     },
     "metadata": {},
     "output_type": "display_data"
    }
   ],
   "source": [
    "count(Boston %>% filter(rm > 7))"
   ]
  },
  {
   "cell_type": "code",
   "execution_count": 41,
   "id": "15df9dc9",
   "metadata": {},
   "outputs": [
    {
     "data": {
      "text/html": [
       "<table>\n",
       "<thead><tr><th scope=col>crim</th><th scope=col>zn</th><th scope=col>indus</th><th scope=col>chas</th><th scope=col>nox</th><th scope=col>rm</th><th scope=col>age</th><th scope=col>dis</th><th scope=col>rad</th><th scope=col>tax</th><th scope=col>ptratio</th><th scope=col>black</th><th scope=col>lstat</th><th scope=col>medv</th></tr></thead>\n",
       "<tbody>\n",
       "\t<tr><td>0.12083</td><td> 0     </td><td> 2.89  </td><td>0      </td><td>0.4450 </td><td>8.069  </td><td>76.0   </td><td>3.4952 </td><td> 2     </td><td>276    </td><td>18.0   </td><td>396.90 </td><td>4.21   </td><td>38.7   </td></tr>\n",
       "\t<tr><td>1.51902</td><td> 0     </td><td>19.58  </td><td>1      </td><td>0.6050 </td><td>8.375  </td><td>93.9   </td><td>2.1620 </td><td> 5     </td><td>403    </td><td>14.7   </td><td>388.45 </td><td>3.32   </td><td>50.0   </td></tr>\n",
       "\t<tr><td>0.02009</td><td>95     </td><td> 2.68  </td><td>0      </td><td>0.4161 </td><td>8.034  </td><td>31.9   </td><td>5.1180 </td><td> 4     </td><td>224    </td><td>14.7   </td><td>390.55 </td><td>2.88   </td><td>50.0   </td></tr>\n",
       "\t<tr><td>0.31533</td><td> 0     </td><td> 6.20  </td><td>0      </td><td>0.5040 </td><td>8.266  </td><td>78.3   </td><td>2.8944 </td><td> 8     </td><td>307    </td><td>17.4   </td><td>385.05 </td><td>4.14   </td><td>44.8   </td></tr>\n",
       "\t<tr><td>0.52693</td><td> 0     </td><td> 6.20  </td><td>0      </td><td>0.5040 </td><td>8.725  </td><td>83.0   </td><td>2.8944 </td><td> 8     </td><td>307    </td><td>17.4   </td><td>382.00 </td><td>4.63   </td><td>50.0   </td></tr>\n",
       "\t<tr><td>0.38214</td><td> 0     </td><td> 6.20  </td><td>0      </td><td>0.5040 </td><td>8.040  </td><td>86.5   </td><td>3.2157 </td><td> 8     </td><td>307    </td><td>17.4   </td><td>387.38 </td><td>3.13   </td><td>37.6   </td></tr>\n",
       "\t<tr><td>0.57529</td><td> 0     </td><td> 6.20  </td><td>0      </td><td>0.5070 </td><td>8.337  </td><td>73.3   </td><td>3.8384 </td><td> 8     </td><td>307    </td><td>17.4   </td><td>385.91 </td><td>2.47   </td><td>41.7   </td></tr>\n",
       "\t<tr><td>0.33147</td><td> 0     </td><td> 6.20  </td><td>0      </td><td>0.5070 </td><td>8.247  </td><td>70.4   </td><td>3.6519 </td><td> 8     </td><td>307    </td><td>17.4   </td><td>378.95 </td><td>3.95   </td><td>48.3   </td></tr>\n",
       "\t<tr><td>0.36894</td><td>22     </td><td> 5.86  </td><td>0      </td><td>0.4310 </td><td>8.259  </td><td> 8.4   </td><td>8.9067 </td><td> 7     </td><td>330    </td><td>19.1   </td><td>396.90 </td><td>3.54   </td><td>42.8   </td></tr>\n",
       "\t<tr><td>0.61154</td><td>20     </td><td> 3.97  </td><td>0      </td><td>0.6470 </td><td>8.704  </td><td>86.9   </td><td>1.8010 </td><td> 5     </td><td>264    </td><td>13.0   </td><td>389.70 </td><td>5.12   </td><td>50.0   </td></tr>\n",
       "\t<tr><td>0.52014</td><td>20     </td><td> 3.97  </td><td>0      </td><td>0.6470 </td><td>8.398  </td><td>91.5   </td><td>2.2885 </td><td> 5     </td><td>264    </td><td>13.0   </td><td>386.86 </td><td>5.91   </td><td>48.8   </td></tr>\n",
       "\t<tr><td>0.57834</td><td>20     </td><td> 3.97  </td><td>0      </td><td>0.5750 </td><td>8.297  </td><td>67.0   </td><td>2.4216 </td><td> 5     </td><td>264    </td><td>13.0   </td><td>384.54 </td><td>7.44   </td><td>50.0   </td></tr>\n",
       "\t<tr><td>3.47428</td><td> 0     </td><td>18.10  </td><td>1      </td><td>0.7180 </td><td>8.780  </td><td>82.9   </td><td>1.9047 </td><td>24     </td><td>666    </td><td>20.2   </td><td>354.55 </td><td>5.29   </td><td>21.9   </td></tr>\n",
       "</tbody>\n",
       "</table>\n"
      ],
      "text/latex": [
       "\\begin{tabular}{r|llllllllllllll}\n",
       " crim & zn & indus & chas & nox & rm & age & dis & rad & tax & ptratio & black & lstat & medv\\\\\n",
       "\\hline\n",
       "\t 0.12083 &  0      &  2.89   & 0       & 0.4450  & 8.069   & 76.0    & 3.4952  &  2      & 276     & 18.0    & 396.90  & 4.21    & 38.7   \\\\\n",
       "\t 1.51902 &  0      & 19.58   & 1       & 0.6050  & 8.375   & 93.9    & 2.1620  &  5      & 403     & 14.7    & 388.45  & 3.32    & 50.0   \\\\\n",
       "\t 0.02009 & 95      &  2.68   & 0       & 0.4161  & 8.034   & 31.9    & 5.1180  &  4      & 224     & 14.7    & 390.55  & 2.88    & 50.0   \\\\\n",
       "\t 0.31533 &  0      &  6.20   & 0       & 0.5040  & 8.266   & 78.3    & 2.8944  &  8      & 307     & 17.4    & 385.05  & 4.14    & 44.8   \\\\\n",
       "\t 0.52693 &  0      &  6.20   & 0       & 0.5040  & 8.725   & 83.0    & 2.8944  &  8      & 307     & 17.4    & 382.00  & 4.63    & 50.0   \\\\\n",
       "\t 0.38214 &  0      &  6.20   & 0       & 0.5040  & 8.040   & 86.5    & 3.2157  &  8      & 307     & 17.4    & 387.38  & 3.13    & 37.6   \\\\\n",
       "\t 0.57529 &  0      &  6.20   & 0       & 0.5070  & 8.337   & 73.3    & 3.8384  &  8      & 307     & 17.4    & 385.91  & 2.47    & 41.7   \\\\\n",
       "\t 0.33147 &  0      &  6.20   & 0       & 0.5070  & 8.247   & 70.4    & 3.6519  &  8      & 307     & 17.4    & 378.95  & 3.95    & 48.3   \\\\\n",
       "\t 0.36894 & 22      &  5.86   & 0       & 0.4310  & 8.259   &  8.4    & 8.9067  &  7      & 330     & 19.1    & 396.90  & 3.54    & 42.8   \\\\\n",
       "\t 0.61154 & 20      &  3.97   & 0       & 0.6470  & 8.704   & 86.9    & 1.8010  &  5      & 264     & 13.0    & 389.70  & 5.12    & 50.0   \\\\\n",
       "\t 0.52014 & 20      &  3.97   & 0       & 0.6470  & 8.398   & 91.5    & 2.2885  &  5      & 264     & 13.0    & 386.86  & 5.91    & 48.8   \\\\\n",
       "\t 0.57834 & 20      &  3.97   & 0       & 0.5750  & 8.297   & 67.0    & 2.4216  &  5      & 264     & 13.0    & 384.54  & 7.44    & 50.0   \\\\\n",
       "\t 3.47428 &  0      & 18.10   & 1       & 0.7180  & 8.780   & 82.9    & 1.9047  & 24      & 666     & 20.2    & 354.55  & 5.29    & 21.9   \\\\\n",
       "\\end{tabular}\n"
      ],
      "text/markdown": [
       "\n",
       "| crim | zn | indus | chas | nox | rm | age | dis | rad | tax | ptratio | black | lstat | medv |\n",
       "|---|---|---|---|---|---|---|---|---|---|---|---|---|---|\n",
       "| 0.12083 |  0      |  2.89   | 0       | 0.4450  | 8.069   | 76.0    | 3.4952  |  2      | 276     | 18.0    | 396.90  | 4.21    | 38.7    |\n",
       "| 1.51902 |  0      | 19.58   | 1       | 0.6050  | 8.375   | 93.9    | 2.1620  |  5      | 403     | 14.7    | 388.45  | 3.32    | 50.0    |\n",
       "| 0.02009 | 95      |  2.68   | 0       | 0.4161  | 8.034   | 31.9    | 5.1180  |  4      | 224     | 14.7    | 390.55  | 2.88    | 50.0    |\n",
       "| 0.31533 |  0      |  6.20   | 0       | 0.5040  | 8.266   | 78.3    | 2.8944  |  8      | 307     | 17.4    | 385.05  | 4.14    | 44.8    |\n",
       "| 0.52693 |  0      |  6.20   | 0       | 0.5040  | 8.725   | 83.0    | 2.8944  |  8      | 307     | 17.4    | 382.00  | 4.63    | 50.0    |\n",
       "| 0.38214 |  0      |  6.20   | 0       | 0.5040  | 8.040   | 86.5    | 3.2157  |  8      | 307     | 17.4    | 387.38  | 3.13    | 37.6    |\n",
       "| 0.57529 |  0      |  6.20   | 0       | 0.5070  | 8.337   | 73.3    | 3.8384  |  8      | 307     | 17.4    | 385.91  | 2.47    | 41.7    |\n",
       "| 0.33147 |  0      |  6.20   | 0       | 0.5070  | 8.247   | 70.4    | 3.6519  |  8      | 307     | 17.4    | 378.95  | 3.95    | 48.3    |\n",
       "| 0.36894 | 22      |  5.86   | 0       | 0.4310  | 8.259   |  8.4    | 8.9067  |  7      | 330     | 19.1    | 396.90  | 3.54    | 42.8    |\n",
       "| 0.61154 | 20      |  3.97   | 0       | 0.6470  | 8.704   | 86.9    | 1.8010  |  5      | 264     | 13.0    | 389.70  | 5.12    | 50.0    |\n",
       "| 0.52014 | 20      |  3.97   | 0       | 0.6470  | 8.398   | 91.5    | 2.2885  |  5      | 264     | 13.0    | 386.86  | 5.91    | 48.8    |\n",
       "| 0.57834 | 20      |  3.97   | 0       | 0.5750  | 8.297   | 67.0    | 2.4216  |  5      | 264     | 13.0    | 384.54  | 7.44    | 50.0    |\n",
       "| 3.47428 |  0      | 18.10   | 1       | 0.7180  | 8.780   | 82.9    | 1.9047  | 24      | 666     | 20.2    | 354.55  | 5.29    | 21.9    |\n",
       "\n"
      ],
      "text/plain": [
       "   crim    zn indus chas nox    rm    age  dis    rad tax ptratio black  lstat\n",
       "1  0.12083  0  2.89 0    0.4450 8.069 76.0 3.4952  2  276 18.0    396.90 4.21 \n",
       "2  1.51902  0 19.58 1    0.6050 8.375 93.9 2.1620  5  403 14.7    388.45 3.32 \n",
       "3  0.02009 95  2.68 0    0.4161 8.034 31.9 5.1180  4  224 14.7    390.55 2.88 \n",
       "4  0.31533  0  6.20 0    0.5040 8.266 78.3 2.8944  8  307 17.4    385.05 4.14 \n",
       "5  0.52693  0  6.20 0    0.5040 8.725 83.0 2.8944  8  307 17.4    382.00 4.63 \n",
       "6  0.38214  0  6.20 0    0.5040 8.040 86.5 3.2157  8  307 17.4    387.38 3.13 \n",
       "7  0.57529  0  6.20 0    0.5070 8.337 73.3 3.8384  8  307 17.4    385.91 2.47 \n",
       "8  0.33147  0  6.20 0    0.5070 8.247 70.4 3.6519  8  307 17.4    378.95 3.95 \n",
       "9  0.36894 22  5.86 0    0.4310 8.259  8.4 8.9067  7  330 19.1    396.90 3.54 \n",
       "10 0.61154 20  3.97 0    0.6470 8.704 86.9 1.8010  5  264 13.0    389.70 5.12 \n",
       "11 0.52014 20  3.97 0    0.6470 8.398 91.5 2.2885  5  264 13.0    386.86 5.91 \n",
       "12 0.57834 20  3.97 0    0.5750 8.297 67.0 2.4216  5  264 13.0    384.54 7.44 \n",
       "13 3.47428  0 18.10 1    0.7180 8.780 82.9 1.9047 24  666 20.2    354.55 5.29 \n",
       "   medv\n",
       "1  38.7\n",
       "2  50.0\n",
       "3  50.0\n",
       "4  44.8\n",
       "5  50.0\n",
       "6  37.6\n",
       "7  41.7\n",
       "8  48.3\n",
       "9  42.8\n",
       "10 50.0\n",
       "11 48.8\n",
       "12 50.0\n",
       "13 21.9"
      ]
     },
     "metadata": {},
     "output_type": "display_data"
    }
   ],
   "source": [
    "Boston %>% filter(rm > 8)"
   ]
  },
  {
   "cell_type": "markdown",
   "id": "f8ce6ec7",
   "metadata": {},
   "source": [
    "## Chapter 3\n",
    "### Excercise 3"
   ]
  },
  {
   "cell_type": "markdown",
   "id": "b2a6d33b",
   "metadata": {},
   "source": [
    "3 - Suppose we have a data set with five predictors, X1 = GPA, X2 = IQ, X3 = Gender (1 for Female and 0 for Male), X4 = Interaction between GPA and IQ, and X5 = Interaction between GPA and Gender. The response is starting salary after graduation (in thousands of dollars). Suppose we use least squares to fit the model, and get βˆ0 = 50, βˆ1 = 20, βˆ2 = 0.07, βˆ3 = 35, βˆ4 = 0.01, βˆ5 = −10.\n",
    "\n",
    "(a) Which answer is correct, and why?\n",
    "\n",
    "    i. For a fixed value of IQ and GPA, males earn more on average than females.\n",
    "    ii. For a fixed value of IQ and GPA, females earn more on average than males.\n",
    "    iii. For a fixed value of IQ and GPA, males earn more on average than females provided that the GPA is high enough.\n",
    "    iv. For a fixed value of IQ and GPA, females earn more on average than males provided that the GPA is high enough.\n",
    " \n",
    "#### Answer: \n",
    "iii Is correct because the coefficient of Gender is 35 when the gender is 1 (Female) the value increases in 35 but the value of GPA is also important because the interaction between GPA and gender is negative, with a high gpa the value decreases for females but for males there is no decrease\n"
   ]
  },
  {
   "cell_type": "markdown",
   "id": "c94c9a57",
   "metadata": {},
   "source": [
    "(b) Predict the salary of a female with IQ of 110 and a GPA of 4.0.\n",
    "\n",
    "50 +20*(4.0)+0.07*(110)+35*(1)+0.01*(4*110)-10*(4*1)\n",
    "#### 137.1"
   ]
  },
  {
   "cell_type": "markdown",
   "id": "2207e70b",
   "metadata": {},
   "source": [
    "(c) True or false: Since the coefficient for the GPA/IQ interaction term is very small, there is very little evidence of an interaction effect. Justify your answer.\n",
    "#### False: To conclude that it is necessary to check the p value of the t-test to conclude whether the interaction is significative or not"
   ]
  },
  {
   "cell_type": "markdown",
   "id": "12815306",
   "metadata": {},
   "source": [
    "### Excercise 10"
   ]
  },
  {
   "cell_type": "markdown",
   "id": "e40d87f0",
   "metadata": {},
   "source": [
    "10- This question should be answered using the Carseats data set.\n",
    "\n",
    "(a) Fit a multiple regression model to predict Sales using Price, Urban, and US."
   ]
  },
  {
   "cell_type": "code",
   "execution_count": 11,
   "id": "ed63e6b7",
   "metadata": {},
   "outputs": [],
   "source": [
    "library(ISLR)"
   ]
  },
  {
   "cell_type": "code",
   "execution_count": 18,
   "id": "49a5172d",
   "metadata": {},
   "outputs": [
    {
     "data": {
      "text/html": [
       "<table>\n",
       "<thead><tr><th scope=col>Sales</th><th scope=col>CompPrice</th><th scope=col>Income</th><th scope=col>Advertising</th><th scope=col>Population</th><th scope=col>Price</th><th scope=col>ShelveLoc</th><th scope=col>Age</th><th scope=col>Education</th><th scope=col>Urban</th><th scope=col>US</th></tr></thead>\n",
       "<tbody>\n",
       "\t<tr><td> 9.50 </td><td>138   </td><td> 73   </td><td>11    </td><td>276   </td><td>120   </td><td>Bad   </td><td>42    </td><td>17    </td><td>Yes   </td><td>Yes   </td></tr>\n",
       "\t<tr><td>11.22 </td><td>111   </td><td> 48   </td><td>16    </td><td>260   </td><td> 83   </td><td>Good  </td><td>65    </td><td>10    </td><td>Yes   </td><td>Yes   </td></tr>\n",
       "\t<tr><td>10.06 </td><td>113   </td><td> 35   </td><td>10    </td><td>269   </td><td> 80   </td><td>Medium</td><td>59    </td><td>12    </td><td>Yes   </td><td>Yes   </td></tr>\n",
       "\t<tr><td> 7.40 </td><td>117   </td><td>100   </td><td> 4    </td><td>466   </td><td> 97   </td><td>Medium</td><td>55    </td><td>14    </td><td>Yes   </td><td>Yes   </td></tr>\n",
       "\t<tr><td> 4.15 </td><td>141   </td><td> 64   </td><td> 3    </td><td>340   </td><td>128   </td><td>Bad   </td><td>38    </td><td>13    </td><td>Yes   </td><td>No    </td></tr>\n",
       "\t<tr><td>10.81 </td><td>124   </td><td>113   </td><td>13    </td><td>501   </td><td> 72   </td><td>Bad   </td><td>78    </td><td>16    </td><td>No    </td><td>Yes   </td></tr>\n",
       "</tbody>\n",
       "</table>\n"
      ],
      "text/latex": [
       "\\begin{tabular}{r|lllllllllll}\n",
       " Sales & CompPrice & Income & Advertising & Population & Price & ShelveLoc & Age & Education & Urban & US\\\\\n",
       "\\hline\n",
       "\t  9.50  & 138    &  73    & 11     & 276    & 120    & Bad    & 42     & 17     & Yes    & Yes   \\\\\n",
       "\t 11.22  & 111    &  48    & 16     & 260    &  83    & Good   & 65     & 10     & Yes    & Yes   \\\\\n",
       "\t 10.06  & 113    &  35    & 10     & 269    &  80    & Medium & 59     & 12     & Yes    & Yes   \\\\\n",
       "\t  7.40  & 117    & 100    &  4     & 466    &  97    & Medium & 55     & 14     & Yes    & Yes   \\\\\n",
       "\t  4.15  & 141    &  64    &  3     & 340    & 128    & Bad    & 38     & 13     & Yes    & No    \\\\\n",
       "\t 10.81  & 124    & 113    & 13     & 501    &  72    & Bad    & 78     & 16     & No     & Yes   \\\\\n",
       "\\end{tabular}\n"
      ],
      "text/markdown": [
       "\n",
       "| Sales | CompPrice | Income | Advertising | Population | Price | ShelveLoc | Age | Education | Urban | US |\n",
       "|---|---|---|---|---|---|---|---|---|---|---|\n",
       "|  9.50  | 138    |  73    | 11     | 276    | 120    | Bad    | 42     | 17     | Yes    | Yes    |\n",
       "| 11.22  | 111    |  48    | 16     | 260    |  83    | Good   | 65     | 10     | Yes    | Yes    |\n",
       "| 10.06  | 113    |  35    | 10     | 269    |  80    | Medium | 59     | 12     | Yes    | Yes    |\n",
       "|  7.40  | 117    | 100    |  4     | 466    |  97    | Medium | 55     | 14     | Yes    | Yes    |\n",
       "|  4.15  | 141    |  64    |  3     | 340    | 128    | Bad    | 38     | 13     | Yes    | No     |\n",
       "| 10.81  | 124    | 113    | 13     | 501    |  72    | Bad    | 78     | 16     | No     | Yes    |\n",
       "\n"
      ],
      "text/plain": [
       "  Sales CompPrice Income Advertising Population Price ShelveLoc Age Education\n",
       "1  9.50 138        73    11          276        120   Bad       42  17       \n",
       "2 11.22 111        48    16          260         83   Good      65  10       \n",
       "3 10.06 113        35    10          269         80   Medium    59  12       \n",
       "4  7.40 117       100     4          466         97   Medium    55  14       \n",
       "5  4.15 141        64     3          340        128   Bad       38  13       \n",
       "6 10.81 124       113    13          501         72   Bad       78  16       \n",
       "  Urban US \n",
       "1 Yes   Yes\n",
       "2 Yes   Yes\n",
       "3 Yes   Yes\n",
       "4 Yes   Yes\n",
       "5 Yes   No \n",
       "6 No    Yes"
      ]
     },
     "metadata": {},
     "output_type": "display_data"
    }
   ],
   "source": [
    "head(Carseats)\n",
    "?Carseats"
   ]
  },
  {
   "cell_type": "code",
   "execution_count": 17,
   "id": "359bb648",
   "metadata": {},
   "outputs": [
    {
     "data": {
      "text/plain": [
       "\n",
       "Call:\n",
       "lm(formula = Sales ~ Price + Urban + US, data = Carseats)\n",
       "\n",
       "Residuals:\n",
       "    Min      1Q  Median      3Q     Max \n",
       "-6.9206 -1.6220 -0.0564  1.5786  7.0581 \n",
       "\n",
       "Coefficients:\n",
       "             Estimate Std. Error t value Pr(>|t|)    \n",
       "(Intercept) 13.043469   0.651012  20.036  < 2e-16 ***\n",
       "Price       -0.054459   0.005242 -10.389  < 2e-16 ***\n",
       "UrbanYes    -0.021916   0.271650  -0.081    0.936    \n",
       "USYes        1.200573   0.259042   4.635 4.86e-06 ***\n",
       "---\n",
       "Signif. codes:  0 '***' 0.001 '**' 0.01 '*' 0.05 '.' 0.1 ' ' 1\n",
       "\n",
       "Residual standard error: 2.472 on 396 degrees of freedom\n",
       "Multiple R-squared:  0.2393,\tAdjusted R-squared:  0.2335 \n",
       "F-statistic: 41.52 on 3 and 396 DF,  p-value: < 2.2e-16\n"
      ]
     },
     "metadata": {},
     "output_type": "display_data"
    }
   ],
   "source": [
    "linear_reg = lm(Sales~ Price + Urban + US, data=Carseats)\n",
    "summary(linear_reg)"
   ]
  },
  {
   "cell_type": "markdown",
   "id": "cc58d18c",
   "metadata": {},
   "source": [
    "(b) Provide an interpretation of each coefficient in the model. Be careful—some of the variables in the model are qualitative!\n",
    "#### Price:\n",
    "The negative coefficient indicates that per each increase in Price company charges for car seats at each site the sales decrease by 0.05\n",
    "\n",
    "#### Urban\n",
    "For stores located in urban location the sales decrease by 0.02. Neverthless this coefficient is not significative\n",
    "\n",
    "#### US\n",
    "For stores located in the US the sales increase is 1.2\n",
    "\n",
    "#### Intercept\n",
    "The sales base is 13"
   ]
  },
  {
   "cell_type": "markdown",
   "id": "0a88cafa",
   "metadata": {},
   "source": [
    "(c) Write out the model in equation form, being careful to handle the qualitative variables properly.\n",
    "\n",
    "Sales = 13 - 0.05*(Price) - 0.02*(1:Urban, 0*Rural) + 1.2*(1:US, 0: Non US)"
   ]
  },
  {
   "cell_type": "markdown",
   "id": "03066328",
   "metadata": {},
   "source": [
    "(d) For which of the predictors can you reject the null hypothesis H0 : βj = 0?\n",
    "\n",
    "#### Answer: For USYes and Price because the p-value is less than 0.05  "
   ]
  },
  {
   "cell_type": "markdown",
   "id": "f75d1ed1",
   "metadata": {},
   "source": [
    "(e) On the basis of your response to the previous question, fit a smaller model that only uses the predictors for which there is evidence of association with the outcome.\n"
   ]
  },
  {
   "cell_type": "code",
   "execution_count": 19,
   "id": "93043e09",
   "metadata": {},
   "outputs": [
    {
     "data": {
      "text/plain": [
       "\n",
       "Call:\n",
       "lm(formula = Sales ~ Price + US, data = Carseats)\n",
       "\n",
       "Residuals:\n",
       "    Min      1Q  Median      3Q     Max \n",
       "-6.9269 -1.6286 -0.0574  1.5766  7.0515 \n",
       "\n",
       "Coefficients:\n",
       "            Estimate Std. Error t value Pr(>|t|)    \n",
       "(Intercept) 13.03079    0.63098  20.652  < 2e-16 ***\n",
       "Price       -0.05448    0.00523 -10.416  < 2e-16 ***\n",
       "USYes        1.19964    0.25846   4.641 4.71e-06 ***\n",
       "---\n",
       "Signif. codes:  0 '***' 0.001 '**' 0.01 '*' 0.05 '.' 0.1 ' ' 1\n",
       "\n",
       "Residual standard error: 2.469 on 397 degrees of freedom\n",
       "Multiple R-squared:  0.2393,\tAdjusted R-squared:  0.2354 \n",
       "F-statistic: 62.43 on 2 and 397 DF,  p-value: < 2.2e-16\n"
      ]
     },
     "metadata": {},
     "output_type": "display_data"
    }
   ],
   "source": [
    "linear_reg2 = lm(Sales~ Price  + US, data=Carseats)\n",
    "summary(linear_reg2)"
   ]
  },
  {
   "cell_type": "markdown",
   "id": "5d520ba4",
   "metadata": {},
   "source": [
    "(f) How well do the models in (a) and (e) fit the data?\n",
    "#### The quality of the models is very poor because the adjusted R-squared is small 0.233 and 0.235"
   ]
  },
  {
   "cell_type": "markdown",
   "id": "5ef42e4e",
   "metadata": {},
   "source": [
    "(g) Using the model from (e), obtain 95 % confidence intervals for the coefficient(s)."
   ]
  },
  {
   "cell_type": "code",
   "execution_count": 21,
   "id": "a7b31786",
   "metadata": {},
   "outputs": [
    {
     "data": {
      "text/html": [
       "<table>\n",
       "<thead><tr><th></th><th scope=col>2.5 %</th><th scope=col>97.5 %</th></tr></thead>\n",
       "<tbody>\n",
       "\t<tr><th scope=row>(Intercept)</th><td>11.79032020</td><td>14.27126531</td></tr>\n",
       "\t<tr><th scope=row>Price</th><td>-0.06475984</td><td>-0.04419543</td></tr>\n",
       "\t<tr><th scope=row>USYes</th><td> 0.69151957</td><td> 1.70776632</td></tr>\n",
       "</tbody>\n",
       "</table>\n"
      ],
      "text/latex": [
       "\\begin{tabular}{r|ll}\n",
       "  & 2.5 \\% & 97.5 \\%\\\\\n",
       "\\hline\n",
       "\t(Intercept) & 11.79032020 & 14.27126531\\\\\n",
       "\tPrice & -0.06475984 & -0.04419543\\\\\n",
       "\tUSYes &  0.69151957 &  1.70776632\\\\\n",
       "\\end{tabular}\n"
      ],
      "text/markdown": [
       "\n",
       "| <!--/--> | 2.5 % | 97.5 % |\n",
       "|---|---|---|\n",
       "| (Intercept) | 11.79032020 | 14.27126531 |\n",
       "| Price | -0.06475984 | -0.04419543 |\n",
       "| USYes |  0.69151957 |  1.70776632 |\n",
       "\n"
      ],
      "text/plain": [
       "            2.5 %       97.5 %     \n",
       "(Intercept) 11.79032020 14.27126531\n",
       "Price       -0.06475984 -0.04419543\n",
       "USYes        0.69151957  1.70776632"
      ]
     },
     "metadata": {},
     "output_type": "display_data"
    }
   ],
   "source": [
    "confint(linear_reg2)"
   ]
  },
  {
   "cell_type": "markdown",
   "id": "7889074c",
   "metadata": {},
   "source": [
    "(h) Is there evidence of outliers or high leverage observations in the model from (e)?"
   ]
  },
  {
   "cell_type": "code",
   "execution_count": 22,
   "id": "8c300746",
   "metadata": {},
   "outputs": [
    {
     "data": {
      "image/png": "[encoded data removed]",
      "text/plain": [
       "plot without title"
      ]
     },
     "metadata": {},
     "output_type": "display_data"
    }
   ],
   "source": [
    "lev<-hat(model.matrix(linear_reg2))\n",
    "plot(lev)"
   ]
  },
  {
   "cell_type": "markdown",
   "id": "7441294d",
   "metadata": {},
   "source": [
    "There is no apparently appearance of outliers because in the leverage plot the values are small. That means that there is no strong effect in residuals for extreme values."
   ]
  },
  {
   "cell_type": "markdown",
   "id": "44a7f2ed",
   "metadata": {},
   "source": [
    "15- This problem involves the Boston data set, which we saw in the lab for this chapter. We will now try to predict per capita crime rate using the other variables in this data set. In other words, per capita crime rate is the response, and the other variables are the predictors.\n",
    "\n",
    "(a) For each predictor, fit a simple linear regression model to predict the response. Describe your results. In which of the models is there a statistically significant association between the predictor and the response? Create some plots to back up your assertions.\n"
   ]
  },
  {
   "cell_type": "code",
   "execution_count": 27,
   "id": "be31c841",
   "metadata": {},
   "outputs": [
    {
     "data": {
      "text/html": [
       "<ol class=list-inline>\n",
       "\t<li>'crim'</li>\n",
       "\t<li>'zn'</li>\n",
       "\t<li>'indus'</li>\n",
       "\t<li>'chas'</li>\n",
       "\t<li>'nox'</li>\n",
       "\t<li>'rm'</li>\n",
       "\t<li>'age'</li>\n",
       "\t<li>'dis'</li>\n",
       "\t<li>'rad'</li>\n",
       "\t<li>'tax'</li>\n",
       "\t<li>'ptratio'</li>\n",
       "\t<li>'black'</li>\n",
       "\t<li>'lstat'</li>\n",
       "\t<li>'medv'</li>\n",
       "</ol>\n"
      ],
      "text/latex": [
       "\\begin{enumerate*}\n",
       "\\item 'crim'\n",
       "\\item 'zn'\n",
       "\\item 'indus'\n",
       "\\item 'chas'\n",
       "\\item 'nox'\n",
       "\\item 'rm'\n",
       "\\item 'age'\n",
       "\\item 'dis'\n",
       "\\item 'rad'\n",
       "\\item 'tax'\n",
       "\\item 'ptratio'\n",
       "\\item 'black'\n",
       "\\item 'lstat'\n",
       "\\item 'medv'\n",
       "\\end{enumerate*}\n"
      ],
      "text/markdown": [
       "1. 'crim'\n",
       "2. 'zn'\n",
       "3. 'indus'\n",
       "4. 'chas'\n",
       "5. 'nox'\n",
       "6. 'rm'\n",
       "7. 'age'\n",
       "8. 'dis'\n",
       "9. 'rad'\n",
       "10. 'tax'\n",
       "11. 'ptratio'\n",
       "12. 'black'\n",
       "13. 'lstat'\n",
       "14. 'medv'\n",
       "\n",
       "\n"
      ],
      "text/plain": [
       " [1] \"crim\"    \"zn\"      \"indus\"   \"chas\"    \"nox\"     \"rm\"      \"age\"    \n",
       " [8] \"dis\"     \"rad\"     \"tax\"     \"ptratio\" \"black\"   \"lstat\"   \"medv\"   "
      ]
     },
     "metadata": {},
     "output_type": "display_data"
    }
   ],
   "source": [
    "names(Boston)"
   ]
  },
  {
   "cell_type": "code",
   "execution_count": 30,
   "id": "186b2c2c",
   "metadata": {},
   "outputs": [
    {
     "data": {
      "text/plain": [
       "\n",
       "Call:\n",
       "lm(formula = crim ~ zn, data = Boston)\n",
       "\n",
       "Residuals:\n",
       "   Min     1Q Median     3Q    Max \n",
       "-4.429 -4.222 -2.620  1.250 84.523 \n",
       "\n",
       "Coefficients:\n",
       "            Estimate Std. Error t value Pr(>|t|)    \n",
       "(Intercept)  4.45369    0.41722  10.675  < 2e-16 ***\n",
       "zn          -0.07393    0.01609  -4.594 5.51e-06 ***\n",
       "---\n",
       "Signif. codes:  0 '***' 0.001 '**' 0.01 '*' 0.05 '.' 0.1 ' ' 1\n",
       "\n",
       "Residual standard error: 8.435 on 504 degrees of freedom\n",
       "Multiple R-squared:  0.04019,\tAdjusted R-squared:  0.03828 \n",
       "F-statistic:  21.1 on 1 and 504 DF,  p-value: 5.506e-06\n"
      ]
     },
     "metadata": {},
     "output_type": "display_data"
    }
   ],
   "source": [
    "Boston1 = lm(crim ~ zn, data=Boston)\n",
    "summary(Boston1)"
   ]
  },
  {
   "cell_type": "code",
   "execution_count": 32,
   "id": "39fe67d7",
   "metadata": {},
   "outputs": [
    {
     "data": {
      "text/plain": [
       "\n",
       "Call:\n",
       "lm(formula = crim ~ indus, data = Boston)\n",
       "\n",
       "Residuals:\n",
       "    Min      1Q  Median      3Q     Max \n",
       "-11.972  -2.698  -0.736   0.712  81.813 \n",
       "\n",
       "Coefficients:\n",
       "            Estimate Std. Error t value Pr(>|t|)    \n",
       "(Intercept) -2.06374    0.66723  -3.093  0.00209 ** \n",
       "indus        0.50978    0.05102   9.991  < 2e-16 ***\n",
       "---\n",
       "Signif. codes:  0 '***' 0.001 '**' 0.01 '*' 0.05 '.' 0.1 ' ' 1\n",
       "\n",
       "Residual standard error: 7.866 on 504 degrees of freedom\n",
       "Multiple R-squared:  0.1653,\tAdjusted R-squared:  0.1637 \n",
       "F-statistic: 99.82 on 1 and 504 DF,  p-value: < 2.2e-16\n"
      ]
     },
     "metadata": {},
     "output_type": "display_data"
    }
   ],
   "source": [
    "Boston2 = lm(crim ~ indus, data=Boston)\n",
    "summary(Boston2)"
   ]
  },
  {
   "cell_type": "code",
   "execution_count": 33,
   "id": "df34ab68",
   "metadata": {},
   "outputs": [
    {
     "data": {
      "text/plain": [
       "\n",
       "Call:\n",
       "lm(formula = crim ~ chas, data = Boston)\n",
       "\n",
       "Residuals:\n",
       "   Min     1Q Median     3Q    Max \n",
       "-3.738 -3.661 -3.435  0.018 85.232 \n",
       "\n",
       "Coefficients:\n",
       "            Estimate Std. Error t value Pr(>|t|)    \n",
       "(Intercept)   3.7444     0.3961   9.453   <2e-16 ***\n",
       "chas         -1.8928     1.5061  -1.257    0.209    \n",
       "---\n",
       "Signif. codes:  0 '***' 0.001 '**' 0.01 '*' 0.05 '.' 0.1 ' ' 1\n",
       "\n",
       "Residual standard error: 8.597 on 504 degrees of freedom\n",
       "Multiple R-squared:  0.003124,\tAdjusted R-squared:  0.001146 \n",
       "F-statistic: 1.579 on 1 and 504 DF,  p-value: 0.2094\n"
      ]
     },
     "metadata": {},
     "output_type": "display_data"
    }
   ],
   "source": [
    "Boston3 = lm(crim ~ chas, data=Boston)\n",
    "summary(Boston3)"
   ]
  },
  {
   "cell_type": "code",
   "execution_count": 34,
   "id": "422d8f3e",
   "metadata": {},
   "outputs": [
    {
     "data": {
      "text/plain": [
       "\n",
       "Call:\n",
       "lm(formula = crim ~ nox, data = Boston)\n",
       "\n",
       "Residuals:\n",
       "    Min      1Q  Median      3Q     Max \n",
       "-12.371  -2.738  -0.974   0.559  81.728 \n",
       "\n",
       "Coefficients:\n",
       "            Estimate Std. Error t value Pr(>|t|)    \n",
       "(Intercept)  -13.720      1.699  -8.073 5.08e-15 ***\n",
       "nox           31.249      2.999  10.419  < 2e-16 ***\n",
       "---\n",
       "Signif. codes:  0 '***' 0.001 '**' 0.01 '*' 0.05 '.' 0.1 ' ' 1\n",
       "\n",
       "Residual standard error: 7.81 on 504 degrees of freedom\n",
       "Multiple R-squared:  0.1772,\tAdjusted R-squared:  0.1756 \n",
       "F-statistic: 108.6 on 1 and 504 DF,  p-value: < 2.2e-16\n"
      ]
     },
     "metadata": {},
     "output_type": "display_data"
    }
   ],
   "source": [
    "Boston4 = lm(crim ~ nox, data=Boston)\n",
    "summary(Boston4)"
   ]
  },
  {
   "cell_type": "code",
   "execution_count": 35,
   "id": "3772cf92",
   "metadata": {},
   "outputs": [
    {
     "data": {
      "text/plain": [
       "\n",
       "Call:\n",
       "lm(formula = crim ~ rm, data = Boston)\n",
       "\n",
       "Residuals:\n",
       "   Min     1Q Median     3Q    Max \n",
       "-6.604 -3.952 -2.654  0.989 87.197 \n",
       "\n",
       "Coefficients:\n",
       "            Estimate Std. Error t value Pr(>|t|)    \n",
       "(Intercept)   20.482      3.365   6.088 2.27e-09 ***\n",
       "rm            -2.684      0.532  -5.045 6.35e-07 ***\n",
       "---\n",
       "Signif. codes:  0 '***' 0.001 '**' 0.01 '*' 0.05 '.' 0.1 ' ' 1\n",
       "\n",
       "Residual standard error: 8.401 on 504 degrees of freedom\n",
       "Multiple R-squared:  0.04807,\tAdjusted R-squared:  0.04618 \n",
       "F-statistic: 25.45 on 1 and 504 DF,  p-value: 6.347e-07\n"
      ]
     },
     "metadata": {},
     "output_type": "display_data"
    }
   ],
   "source": [
    "Boston5 = lm(crim ~ rm, data=Boston)\n",
    "summary(Boston5)"
   ]
  },
  {
   "cell_type": "code",
   "execution_count": 36,
   "id": "1b9cf4f3",
   "metadata": {},
   "outputs": [
    {
     "data": {
      "text/plain": [
       "\n",
       "Call:\n",
       "lm(formula = crim ~ age, data = Boston)\n",
       "\n",
       "Residuals:\n",
       "   Min     1Q Median     3Q    Max \n",
       "-6.789 -4.257 -1.230  1.527 82.849 \n",
       "\n",
       "Coefficients:\n",
       "            Estimate Std. Error t value Pr(>|t|)    \n",
       "(Intercept) -3.77791    0.94398  -4.002 7.22e-05 ***\n",
       "age          0.10779    0.01274   8.463 2.85e-16 ***\n",
       "---\n",
       "Signif. codes:  0 '***' 0.001 '**' 0.01 '*' 0.05 '.' 0.1 ' ' 1\n",
       "\n",
       "Residual standard error: 8.057 on 504 degrees of freedom\n",
       "Multiple R-squared:  0.1244,\tAdjusted R-squared:  0.1227 \n",
       "F-statistic: 71.62 on 1 and 504 DF,  p-value: 2.855e-16\n"
      ]
     },
     "metadata": {},
     "output_type": "display_data"
    }
   ],
   "source": [
    "Boston6 = lm(crim ~ age, data=Boston)\n",
    "summary(Boston6)"
   ]
  },
  {
   "cell_type": "code",
   "execution_count": 37,
   "id": "4ad73be5",
   "metadata": {},
   "outputs": [
    {
     "data": {
      "text/plain": [
       "\n",
       "Call:\n",
       "lm(formula = crim ~ dis, data = Boston)\n",
       "\n",
       "Residuals:\n",
       "   Min     1Q Median     3Q    Max \n",
       "-6.708 -4.134 -1.527  1.516 81.674 \n",
       "\n",
       "Coefficients:\n",
       "            Estimate Std. Error t value Pr(>|t|)    \n",
       "(Intercept)   9.4993     0.7304  13.006   <2e-16 ***\n",
       "dis          -1.5509     0.1683  -9.213   <2e-16 ***\n",
       "---\n",
       "Signif. codes:  0 '***' 0.001 '**' 0.01 '*' 0.05 '.' 0.1 ' ' 1\n",
       "\n",
       "Residual standard error: 7.965 on 504 degrees of freedom\n",
       "Multiple R-squared:  0.1441,\tAdjusted R-squared:  0.1425 \n",
       "F-statistic: 84.89 on 1 and 504 DF,  p-value: < 2.2e-16\n"
      ]
     },
     "metadata": {},
     "output_type": "display_data"
    }
   ],
   "source": [
    "Boston7 = lm(crim ~ dis, data=Boston)\n",
    "summary(Boston7)"
   ]
  },
  {
   "cell_type": "code",
   "execution_count": 38,
   "id": "fac80215",
   "metadata": {},
   "outputs": [
    {
     "data": {
      "text/plain": [
       "\n",
       "Call:\n",
       "lm(formula = crim ~ rad, data = Boston)\n",
       "\n",
       "Residuals:\n",
       "    Min      1Q  Median      3Q     Max \n",
       "-10.164  -1.381  -0.141   0.660  76.433 \n",
       "\n",
       "Coefficients:\n",
       "            Estimate Std. Error t value Pr(>|t|)    \n",
       "(Intercept) -2.28716    0.44348  -5.157 3.61e-07 ***\n",
       "rad          0.61791    0.03433  17.998  < 2e-16 ***\n",
       "---\n",
       "Signif. codes:  0 '***' 0.001 '**' 0.01 '*' 0.05 '.' 0.1 ' ' 1\n",
       "\n",
       "Residual standard error: 6.718 on 504 degrees of freedom\n",
       "Multiple R-squared:  0.3913,\tAdjusted R-squared:   0.39 \n",
       "F-statistic: 323.9 on 1 and 504 DF,  p-value: < 2.2e-16\n"
      ]
     },
     "metadata": {},
     "output_type": "display_data"
    }
   ],
   "source": [
    "Boston8 = lm(crim ~ rad, data=Boston)\n",
    "summary(Boston8)"
   ]
  },
  {
   "cell_type": "code",
   "execution_count": 39,
   "id": "8fdaed64",
   "metadata": {},
   "outputs": [
    {
     "data": {
      "text/plain": [
       "\n",
       "Call:\n",
       "lm(formula = crim ~ tax, data = Boston)\n",
       "\n",
       "Residuals:\n",
       "    Min      1Q  Median      3Q     Max \n",
       "-12.513  -2.738  -0.194   1.065  77.696 \n",
       "\n",
       "Coefficients:\n",
       "             Estimate Std. Error t value Pr(>|t|)    \n",
       "(Intercept) -8.528369   0.815809  -10.45   <2e-16 ***\n",
       "tax          0.029742   0.001847   16.10   <2e-16 ***\n",
       "---\n",
       "Signif. codes:  0 '***' 0.001 '**' 0.01 '*' 0.05 '.' 0.1 ' ' 1\n",
       "\n",
       "Residual standard error: 6.997 on 504 degrees of freedom\n",
       "Multiple R-squared:  0.3396,\tAdjusted R-squared:  0.3383 \n",
       "F-statistic: 259.2 on 1 and 504 DF,  p-value: < 2.2e-16\n"
      ]
     },
     "metadata": {},
     "output_type": "display_data"
    }
   ],
   "source": [
    "Boston9 = lm(crim ~ tax, data=Boston)\n",
    "summary(Boston9)"
   ]
  },
  {
   "cell_type": "code",
   "execution_count": 40,
   "id": "aeb42432",
   "metadata": {},
   "outputs": [
    {
     "data": {
      "text/plain": [
       "\n",
       "Call:\n",
       "lm(formula = crim ~ ptratio, data = Boston)\n",
       "\n",
       "Residuals:\n",
       "   Min     1Q Median     3Q    Max \n",
       "-7.654 -3.985 -1.912  1.825 83.353 \n",
       "\n",
       "Coefficients:\n",
       "            Estimate Std. Error t value Pr(>|t|)    \n",
       "(Intercept) -17.6469     3.1473  -5.607 3.40e-08 ***\n",
       "ptratio       1.1520     0.1694   6.801 2.94e-11 ***\n",
       "---\n",
       "Signif. codes:  0 '***' 0.001 '**' 0.01 '*' 0.05 '.' 0.1 ' ' 1\n",
       "\n",
       "Residual standard error: 8.24 on 504 degrees of freedom\n",
       "Multiple R-squared:  0.08407,\tAdjusted R-squared:  0.08225 \n",
       "F-statistic: 46.26 on 1 and 504 DF,  p-value: 2.943e-11\n"
      ]
     },
     "metadata": {},
     "output_type": "display_data"
    }
   ],
   "source": [
    "Boston10 = lm(crim ~ ptratio, data=Boston)\n",
    "summary(Boston10)"
   ]
  },
  {
   "cell_type": "code",
   "execution_count": 41,
   "id": "976b9d1e",
   "metadata": {},
   "outputs": [
    {
     "data": {
      "text/plain": [
       "\n",
       "Call:\n",
       "lm(formula = crim ~ black, data = Boston)\n",
       "\n",
       "Residuals:\n",
       "    Min      1Q  Median      3Q     Max \n",
       "-13.756  -2.299  -2.095  -1.296  86.822 \n",
       "\n",
       "Coefficients:\n",
       "             Estimate Std. Error t value Pr(>|t|)    \n",
       "(Intercept) 16.553529   1.425903  11.609   <2e-16 ***\n",
       "black       -0.036280   0.003873  -9.367   <2e-16 ***\n",
       "---\n",
       "Signif. codes:  0 '***' 0.001 '**' 0.01 '*' 0.05 '.' 0.1 ' ' 1\n",
       "\n",
       "Residual standard error: 7.946 on 504 degrees of freedom\n",
       "Multiple R-squared:  0.1483,\tAdjusted R-squared:  0.1466 \n",
       "F-statistic: 87.74 on 1 and 504 DF,  p-value: < 2.2e-16\n"
      ]
     },
     "metadata": {},
     "output_type": "display_data"
    }
   ],
   "source": [
    "Boston11 = lm(crim ~ black, data=Boston)\n",
    "summary(Boston11)"
   ]
  },
  {
   "cell_type": "code",
   "execution_count": 42,
   "id": "a761e923",
   "metadata": {},
   "outputs": [
    {
     "data": {
      "text/plain": [
       "\n",
       "Call:\n",
       "lm(formula = crim ~ lstat, data = Boston)\n",
       "\n",
       "Residuals:\n",
       "    Min      1Q  Median      3Q     Max \n",
       "-13.925  -2.822  -0.664   1.079  82.862 \n",
       "\n",
       "Coefficients:\n",
       "            Estimate Std. Error t value Pr(>|t|)    \n",
       "(Intercept) -3.33054    0.69376  -4.801 2.09e-06 ***\n",
       "lstat        0.54880    0.04776  11.491  < 2e-16 ***\n",
       "---\n",
       "Signif. codes:  0 '***' 0.001 '**' 0.01 '*' 0.05 '.' 0.1 ' ' 1\n",
       "\n",
       "Residual standard error: 7.664 on 504 degrees of freedom\n",
       "Multiple R-squared:  0.2076,\tAdjusted R-squared:  0.206 \n",
       "F-statistic:   132 on 1 and 504 DF,  p-value: < 2.2e-16\n"
      ]
     },
     "metadata": {},
     "output_type": "display_data"
    }
   ],
   "source": [
    "Boston12 = lm(crim ~ lstat, data=Boston)\n",
    "summary(Boston12)"
   ]
  },
  {
   "cell_type": "code",
   "execution_count": 43,
   "id": "b7ed906d",
   "metadata": {},
   "outputs": [
    {
     "data": {
      "text/plain": [
       "\n",
       "Call:\n",
       "lm(formula = crim ~ medv, data = Boston)\n",
       "\n",
       "Residuals:\n",
       "   Min     1Q Median     3Q    Max \n",
       "-9.071 -4.022 -2.343  1.298 80.957 \n",
       "\n",
       "Coefficients:\n",
       "            Estimate Std. Error t value Pr(>|t|)    \n",
       "(Intercept) 11.79654    0.93419   12.63   <2e-16 ***\n",
       "medv        -0.36316    0.03839   -9.46   <2e-16 ***\n",
       "---\n",
       "Signif. codes:  0 '***' 0.001 '**' 0.01 '*' 0.05 '.' 0.1 ' ' 1\n",
       "\n",
       "Residual standard error: 7.934 on 504 degrees of freedom\n",
       "Multiple R-squared:  0.1508,\tAdjusted R-squared:  0.1491 \n",
       "F-statistic: 89.49 on 1 and 504 DF,  p-value: < 2.2e-16\n"
      ]
     },
     "metadata": {},
     "output_type": "display_data"
    }
   ],
   "source": [
    "Boston13 = lm(crim ~ medv, data=Boston)\n",
    "summary(Boston13)"
   ]
  },
  {
   "cell_type": "markdown",
   "id": "b13b0227",
   "metadata": {},
   "source": [
    "### Results:\n",
    "For all the variables there is a statistically significant association with the crime except for: chas (Boundary with Charles River)"
   ]
  },
  {
   "cell_type": "markdown",
   "id": "4b8c460e",
   "metadata": {},
   "source": [
    "(b) Fit a multiple regression model to predict the response using all of the predictors. Describe your results. For which predictors\n",
    "can we reject the null hypothesis H0 : βj = 0?"
   ]
  },
  {
   "cell_type": "code",
   "execution_count": 45,
   "id": "c65f2694",
   "metadata": {},
   "outputs": [
    {
     "data": {
      "text/plain": [
       "\n",
       "Call:\n",
       "lm(formula = crim ~ ., data = Boston)\n",
       "\n",
       "Residuals:\n",
       "   Min     1Q Median     3Q    Max \n",
       "-9.924 -2.120 -0.353  1.019 75.051 \n",
       "\n",
       "Coefficients:\n",
       "              Estimate Std. Error t value Pr(>|t|)    \n",
       "(Intercept)  17.033228   7.234903   2.354 0.018949 *  \n",
       "zn            0.044855   0.018734   2.394 0.017025 *  \n",
       "indus        -0.063855   0.083407  -0.766 0.444294    \n",
       "chas         -0.749134   1.180147  -0.635 0.525867    \n",
       "nox         -10.313535   5.275536  -1.955 0.051152 .  \n",
       "rm            0.430131   0.612830   0.702 0.483089    \n",
       "age           0.001452   0.017925   0.081 0.935488    \n",
       "dis          -0.987176   0.281817  -3.503 0.000502 ***\n",
       "rad           0.588209   0.088049   6.680 6.46e-11 ***\n",
       "tax          -0.003780   0.005156  -0.733 0.463793    \n",
       "ptratio      -0.271081   0.186450  -1.454 0.146611    \n",
       "black        -0.007538   0.003673  -2.052 0.040702 *  \n",
       "lstat         0.126211   0.075725   1.667 0.096208 .  \n",
       "medv         -0.198887   0.060516  -3.287 0.001087 ** \n",
       "---\n",
       "Signif. codes:  0 '***' 0.001 '**' 0.01 '*' 0.05 '.' 0.1 ' ' 1\n",
       "\n",
       "Residual standard error: 6.439 on 492 degrees of freedom\n",
       "Multiple R-squared:  0.454,\tAdjusted R-squared:  0.4396 \n",
       "F-statistic: 31.47 on 13 and 492 DF,  p-value: < 2.2e-16\n"
      ]
     },
     "metadata": {},
     "output_type": "display_data"
    }
   ],
   "source": [
    "Boston_lm = lm(crim ~ ., data=Boston)\n",
    "summary(Boston_lm)"
   ]
  },
  {
   "cell_type": "markdown",
   "id": "ed981038",
   "metadata": {},
   "source": [
    "In this case we can reject the null hypothesis for the variables zn, dis, rad, black and medv with an alpha of 5%\n",
    "for the variables nox and lstat we can reject the null hypothesis for an alpha of 10%\n"
   ]
  },
  {
   "cell_type": "markdown",
   "id": "8391e11b",
   "metadata": {},
   "source": [
    "(c) How do your results from (a) compare to your results from (b)? Create a plot displaying the univariate regression coefficients\n",
    "from (a) on the x-axis, and the multiple regression coefficients from (b) on the y-axis. That is, each predictor is displayed as a\n",
    "single point in the plot. Its coefficient in a simple linear regression model is shown on the x-axis, and its coefficient estimate\n",
    "in the multiple linear regression model is shown on the y-axis.\n"
   ]
  },
  {
   "cell_type": "markdown",
   "id": "1aaf1805",
   "metadata": {},
   "source": [
    "It is possible to observe that compared with the results of the previous excercise the significance of some variables changed, this can be the result of \"hidden\" effects of other variables in the simple linear regressions.\n",
    "In the multiple linear regression the coefficients tend to decrease"
   ]
  },
  {
   "cell_type": "code",
   "execution_count": 53,
   "id": "c344685a",
   "metadata": {},
   "outputs": [
    {
     "data": {
      "text/html": [
       "<dl class=dl-horizontal>\n",
       "\t<dt>zn</dt>\n",
       "\t\t<dd>-0.0739349774041235</dd>\n",
       "\t<dt>indus</dt>\n",
       "\t\t<dd>0.509776331104231</dd>\n",
       "\t<dt>chas</dt>\n",
       "\t\t<dd>-1.89277655080376</dd>\n",
       "\t<dt>nox</dt>\n",
       "\t\t<dd>31.2485312011229</dd>\n",
       "\t<dt>rm</dt>\n",
       "\t\t<dd>-2.68405122411395</dd>\n",
       "\t<dt>age</dt>\n",
       "\t\t<dd>0.107786227139533</dd>\n",
       "\t<dt>dis</dt>\n",
       "\t\t<dd>-1.5509016824101</dd>\n",
       "\t<dt>rad</dt>\n",
       "\t\t<dd>0.617910927327201</dd>\n",
       "\t<dt>tax</dt>\n",
       "\t\t<dd>0.0297422528227654</dd>\n",
       "\t<dt>ptratio</dt>\n",
       "\t\t<dd>1.15198278707058</dd>\n",
       "\t<dt>black</dt>\n",
       "\t\t<dd>-0.0362796405673307</dd>\n",
       "\t<dt>lstat</dt>\n",
       "\t\t<dd>0.548804782062398</dd>\n",
       "\t<dt>medv</dt>\n",
       "\t\t<dd>-0.363159922257603</dd>\n",
       "</dl>\n"
      ],
      "text/latex": [
       "\\begin{description*}\n",
       "\\item[zn] -0.0739349774041235\n",
       "\\item[indus] 0.509776331104231\n",
       "\\item[chas] -1.89277655080376\n",
       "\\item[nox] 31.2485312011229\n",
       "\\item[rm] -2.68405122411395\n",
       "\\item[age] 0.107786227139533\n",
       "\\item[dis] -1.5509016824101\n",
       "\\item[rad] 0.617910927327201\n",
       "\\item[tax] 0.0297422528227654\n",
       "\\item[ptratio] 1.15198278707058\n",
       "\\item[black] -0.0362796405673307\n",
       "\\item[lstat] 0.548804782062398\n",
       "\\item[medv] -0.363159922257603\n",
       "\\end{description*}\n"
      ],
      "text/markdown": [
       "zn\n",
       ":   -0.0739349774041235indus\n",
       ":   0.509776331104231chas\n",
       ":   -1.89277655080376nox\n",
       ":   31.2485312011229rm\n",
       ":   -2.68405122411395age\n",
       ":   0.107786227139533dis\n",
       ":   -1.5509016824101rad\n",
       ":   0.617910927327201tax\n",
       ":   0.0297422528227654ptratio\n",
       ":   1.15198278707058black\n",
       ":   -0.0362796405673307lstat\n",
       ":   0.548804782062398medv\n",
       ":   -0.363159922257603\n",
       "\n"
      ],
      "text/plain": [
       "         zn       indus        chas         nox          rm         age \n",
       "-0.07393498  0.50977633 -1.89277655 31.24853120 -2.68405122  0.10778623 \n",
       "        dis         rad         tax     ptratio       black       lstat \n",
       "-1.55090168  0.61791093  0.02974225  1.15198279 -0.03627964  0.54880478 \n",
       "       medv \n",
       "-0.36315992 "
      ]
     },
     "metadata": {},
     "output_type": "display_data"
    }
   ],
   "source": [
    "univariate<-vector(\"numeric\",0)\n",
    "univariate<-c(univariate,Boston1$coefficients[2])\n",
    "univariate<-c(univariate,Boston2$coefficients[2])\n",
    "univariate<-c(univariate,Boston3$coefficients[2])\n",
    "univariate<-c(univariate,Boston4$coefficients[2])\n",
    "univariate<-c(univariate,Boston5$coefficients[2])\n",
    "univariate<-c(univariate,Boston6$coefficients[2])\n",
    "univariate<-c(univariate,Boston7$coefficients[2])\n",
    "univariate<-c(univariate,Boston8$coefficients[2])\n",
    "univariate<-c(univariate,Boston9$coefficients[2])\n",
    "univariate<-c(univariate,Boston10$coefficients[2])\n",
    "univariate<-c(univariate,Boston11$coefficients[2])\n",
    "univariate<-c(univariate,Boston12$coefficients[2])\n",
    "univariate<-c(univariate,Boston13$coefficients[2])\n",
    "univariate"
   ]
  },
  {
   "cell_type": "code",
   "execution_count": 54,
   "id": "0cfc6bea",
   "metadata": {},
   "outputs": [
    {
     "data": {
      "image/png": "[encoded data removed]",
      "text/plain": [
       "plot without title"
      ]
     },
     "metadata": {},
     "output_type": "display_data"
    }
   ],
   "source": [
    "multiple<-vector(\"numeric\",0)\n",
    "multiple<-c(multiple,Boston_lm$coefficients)\n",
    "multiple<-multiple[-1]\n",
    "plot(univariate,multiple)"
   ]
  },
  {
   "cell_type": "markdown",
   "id": "bb2a63bb",
   "metadata": {},
   "source": [
    "(d) Is there evidence of non-linear association between any of the predictors and the response? To answer this question, for each predictor X, fit a model of the form\n",
    "Y = β0 + β1X + β2X2 + β3X3 + ."
   ]
  },
  {
   "cell_type": "code",
   "execution_count": 57,
   "id": "dac178c3",
   "metadata": {},
   "outputs": [
    {
     "data": {
      "text/plain": [
       "\n",
       "Call:\n",
       "lm(formula = crim ~ poly(zn, 3), data = Boston)\n",
       "\n",
       "Residuals:\n",
       "   Min     1Q Median     3Q    Max \n",
       "-4.821 -4.614 -1.294  0.473 84.130 \n",
       "\n",
       "Coefficients:\n",
       "             Estimate Std. Error t value Pr(>|t|)    \n",
       "(Intercept)    3.6135     0.3722   9.709  < 2e-16 ***\n",
       "poly(zn, 3)1 -38.7498     8.3722  -4.628  4.7e-06 ***\n",
       "poly(zn, 3)2  23.9398     8.3722   2.859  0.00442 ** \n",
       "poly(zn, 3)3 -10.0719     8.3722  -1.203  0.22954    \n",
       "---\n",
       "Signif. codes:  0 '***' 0.001 '**' 0.01 '*' 0.05 '.' 0.1 ' ' 1\n",
       "\n",
       "Residual standard error: 8.372 on 502 degrees of freedom\n",
       "Multiple R-squared:  0.05824,\tAdjusted R-squared:  0.05261 \n",
       "F-statistic: 10.35 on 3 and 502 DF,  p-value: 1.281e-06\n"
      ]
     },
     "metadata": {},
     "output_type": "display_data"
    }
   ],
   "source": [
    "Boston1_pol=lm(crim ~ poly(zn,3), data=Boston)\n",
    "summary(Boston1_pol)"
   ]
  },
  {
   "cell_type": "code",
   "execution_count": 58,
   "id": "a9598e5a",
   "metadata": {},
   "outputs": [
    {
     "data": {
      "text/plain": [
       "\n",
       "Call:\n",
       "lm(formula = crim ~ poly(indus, 3), data = Boston)\n",
       "\n",
       "Residuals:\n",
       "   Min     1Q Median     3Q    Max \n",
       "-8.278 -2.514  0.054  0.764 79.713 \n",
       "\n",
       "Coefficients:\n",
       "                Estimate Std. Error t value Pr(>|t|)    \n",
       "(Intercept)        3.614      0.330  10.950  < 2e-16 ***\n",
       "poly(indus, 3)1   78.591      7.423  10.587  < 2e-16 ***\n",
       "poly(indus, 3)2  -24.395      7.423  -3.286  0.00109 ** \n",
       "poly(indus, 3)3  -54.130      7.423  -7.292  1.2e-12 ***\n",
       "---\n",
       "Signif. codes:  0 '***' 0.001 '**' 0.01 '*' 0.05 '.' 0.1 ' ' 1\n",
       "\n",
       "Residual standard error: 7.423 on 502 degrees of freedom\n",
       "Multiple R-squared:  0.2597,\tAdjusted R-squared:  0.2552 \n",
       "F-statistic: 58.69 on 3 and 502 DF,  p-value: < 2.2e-16\n"
      ]
     },
     "metadata": {},
     "output_type": "display_data"
    }
   ],
   "source": [
    "Boston2_pol=lm(crim ~ poly(indus,3), data=Boston)\n",
    "summary(Boston2_pol)"
   ]
  },
  {
   "cell_type": "code",
   "execution_count": 60,
   "id": "4f21cfd7",
   "metadata": {},
   "outputs": [
    {
     "data": {
      "text/plain": [
       "\n",
       "Call:\n",
       "lm(formula = crim ~ poly(nox, 3), data = Boston)\n",
       "\n",
       "Residuals:\n",
       "   Min     1Q Median     3Q    Max \n",
       "-9.110 -2.068 -0.255  0.739 78.302 \n",
       "\n",
       "Coefficients:\n",
       "              Estimate Std. Error t value Pr(>|t|)    \n",
       "(Intercept)     3.6135     0.3216  11.237  < 2e-16 ***\n",
       "poly(nox, 3)1  81.3720     7.2336  11.249  < 2e-16 ***\n",
       "poly(nox, 3)2 -28.8286     7.2336  -3.985 7.74e-05 ***\n",
       "poly(nox, 3)3 -60.3619     7.2336  -8.345 6.96e-16 ***\n",
       "---\n",
       "Signif. codes:  0 '***' 0.001 '**' 0.01 '*' 0.05 '.' 0.1 ' ' 1\n",
       "\n",
       "Residual standard error: 7.234 on 502 degrees of freedom\n",
       "Multiple R-squared:  0.297,\tAdjusted R-squared:  0.2928 \n",
       "F-statistic: 70.69 on 3 and 502 DF,  p-value: < 2.2e-16\n"
      ]
     },
     "metadata": {},
     "output_type": "display_data"
    }
   ],
   "source": [
    "Boston4_pol=lm(crim ~ poly(nox,3), data=Boston)\n",
    "summary(Boston4_pol)"
   ]
  },
  {
   "cell_type": "code",
   "execution_count": 61,
   "id": "164db02b",
   "metadata": {},
   "outputs": [
    {
     "data": {
      "text/plain": [
       "\n",
       "Call:\n",
       "lm(formula = crim ~ poly(rm, 3), data = Boston)\n",
       "\n",
       "Residuals:\n",
       "    Min      1Q  Median      3Q     Max \n",
       "-18.485  -3.468  -2.221  -0.015  87.219 \n",
       "\n",
       "Coefficients:\n",
       "             Estimate Std. Error t value Pr(>|t|)    \n",
       "(Intercept)    3.6135     0.3703   9.758  < 2e-16 ***\n",
       "poly(rm, 3)1 -42.3794     8.3297  -5.088 5.13e-07 ***\n",
       "poly(rm, 3)2  26.5768     8.3297   3.191  0.00151 ** \n",
       "poly(rm, 3)3  -5.5103     8.3297  -0.662  0.50858    \n",
       "---\n",
       "Signif. codes:  0 '***' 0.001 '**' 0.01 '*' 0.05 '.' 0.1 ' ' 1\n",
       "\n",
       "Residual standard error: 8.33 on 502 degrees of freedom\n",
       "Multiple R-squared:  0.06779,\tAdjusted R-squared:  0.06222 \n",
       "F-statistic: 12.17 on 3 and 502 DF,  p-value: 1.067e-07\n"
      ]
     },
     "metadata": {},
     "output_type": "display_data"
    }
   ],
   "source": [
    "Boston5_pol=lm(crim ~ poly(rm,3), data=Boston)\n",
    "summary(Boston5_pol)"
   ]
  },
  {
   "cell_type": "code",
   "execution_count": 62,
   "id": "30d63c11",
   "metadata": {},
   "outputs": [
    {
     "data": {
      "text/plain": [
       "\n",
       "Call:\n",
       "lm(formula = crim ~ poly(age, 3), data = Boston)\n",
       "\n",
       "Residuals:\n",
       "   Min     1Q Median     3Q    Max \n",
       "-9.762 -2.673 -0.516  0.019 82.842 \n",
       "\n",
       "Coefficients:\n",
       "              Estimate Std. Error t value Pr(>|t|)    \n",
       "(Intercept)     3.6135     0.3485  10.368  < 2e-16 ***\n",
       "poly(age, 3)1  68.1820     7.8397   8.697  < 2e-16 ***\n",
       "poly(age, 3)2  37.4845     7.8397   4.781 2.29e-06 ***\n",
       "poly(age, 3)3  21.3532     7.8397   2.724  0.00668 ** \n",
       "---\n",
       "Signif. codes:  0 '***' 0.001 '**' 0.01 '*' 0.05 '.' 0.1 ' ' 1\n",
       "\n",
       "Residual standard error: 7.84 on 502 degrees of freedom\n",
       "Multiple R-squared:  0.1742,\tAdjusted R-squared:  0.1693 \n",
       "F-statistic: 35.31 on 3 and 502 DF,  p-value: < 2.2e-16\n"
      ]
     },
     "metadata": {},
     "output_type": "display_data"
    }
   ],
   "source": [
    "Boston6_pol=lm(crim ~ poly(age,3), data=Boston)\n",
    "summary(Boston6_pol)"
   ]
  },
  {
   "cell_type": "code",
   "execution_count": 63,
   "id": "b6e3a9ad",
   "metadata": {},
   "outputs": [
    {
     "data": {
      "text/plain": [
       "\n",
       "Call:\n",
       "lm(formula = crim ~ poly(dis, 3), data = Boston)\n",
       "\n",
       "Residuals:\n",
       "    Min      1Q  Median      3Q     Max \n",
       "-10.757  -2.588   0.031   1.267  76.378 \n",
       "\n",
       "Coefficients:\n",
       "              Estimate Std. Error t value Pr(>|t|)    \n",
       "(Intercept)     3.6135     0.3259  11.087  < 2e-16 ***\n",
       "poly(dis, 3)1 -73.3886     7.3315 -10.010  < 2e-16 ***\n",
       "poly(dis, 3)2  56.3730     7.3315   7.689 7.87e-14 ***\n",
       "poly(dis, 3)3 -42.6219     7.3315  -5.814 1.09e-08 ***\n",
       "---\n",
       "Signif. codes:  0 '***' 0.001 '**' 0.01 '*' 0.05 '.' 0.1 ' ' 1\n",
       "\n",
       "Residual standard error: 7.331 on 502 degrees of freedom\n",
       "Multiple R-squared:  0.2778,\tAdjusted R-squared:  0.2735 \n",
       "F-statistic: 64.37 on 3 and 502 DF,  p-value: < 2.2e-16\n"
      ]
     },
     "metadata": {},
     "output_type": "display_data"
    }
   ],
   "source": [
    "Boston7_pol=lm(crim ~ poly(dis,3), data=Boston)\n",
    "summary(Boston7_pol)"
   ]
  },
  {
   "cell_type": "code",
   "execution_count": 64,
   "id": "2ae325a8",
   "metadata": {},
   "outputs": [
    {
     "data": {
      "text/plain": [
       "\n",
       "Call:\n",
       "lm(formula = crim ~ poly(rad, 3), data = Boston)\n",
       "\n",
       "Residuals:\n",
       "    Min      1Q  Median      3Q     Max \n",
       "-10.381  -0.412  -0.269   0.179  76.217 \n",
       "\n",
       "Coefficients:\n",
       "              Estimate Std. Error t value Pr(>|t|)    \n",
       "(Intercept)     3.6135     0.2971  12.164  < 2e-16 ***\n",
       "poly(rad, 3)1 120.9074     6.6824  18.093  < 2e-16 ***\n",
       "poly(rad, 3)2  17.4923     6.6824   2.618  0.00912 ** \n",
       "poly(rad, 3)3   4.6985     6.6824   0.703  0.48231    \n",
       "---\n",
       "Signif. codes:  0 '***' 0.001 '**' 0.01 '*' 0.05 '.' 0.1 ' ' 1\n",
       "\n",
       "Residual standard error: 6.682 on 502 degrees of freedom\n",
       "Multiple R-squared:    0.4,\tAdjusted R-squared:  0.3965 \n",
       "F-statistic: 111.6 on 3 and 502 DF,  p-value: < 2.2e-16\n"
      ]
     },
     "metadata": {},
     "output_type": "display_data"
    }
   ],
   "source": [
    "Boston8_pol=lm(crim ~ poly(rad,3), data=Boston)\n",
    "summary(Boston8_pol)"
   ]
  },
  {
   "cell_type": "code",
   "execution_count": 65,
   "id": "0e0afeaa",
   "metadata": {},
   "outputs": [
    {
     "data": {
      "text/plain": [
       "\n",
       "Call:\n",
       "lm(formula = crim ~ poly(tax, 3), data = Boston)\n",
       "\n",
       "Residuals:\n",
       "    Min      1Q  Median      3Q     Max \n",
       "-13.273  -1.389   0.046   0.536  76.950 \n",
       "\n",
       "Coefficients:\n",
       "              Estimate Std. Error t value Pr(>|t|)    \n",
       "(Intercept)     3.6135     0.3047  11.860  < 2e-16 ***\n",
       "poly(tax, 3)1 112.6458     6.8537  16.436  < 2e-16 ***\n",
       "poly(tax, 3)2  32.0873     6.8537   4.682 3.67e-06 ***\n",
       "poly(tax, 3)3  -7.9968     6.8537  -1.167    0.244    \n",
       "---\n",
       "Signif. codes:  0 '***' 0.001 '**' 0.01 '*' 0.05 '.' 0.1 ' ' 1\n",
       "\n",
       "Residual standard error: 6.854 on 502 degrees of freedom\n",
       "Multiple R-squared:  0.3689,\tAdjusted R-squared:  0.3651 \n",
       "F-statistic:  97.8 on 3 and 502 DF,  p-value: < 2.2e-16\n"
      ]
     },
     "metadata": {},
     "output_type": "display_data"
    }
   ],
   "source": [
    "Boston9_pol=lm(crim ~ poly(tax,3), data=Boston)\n",
    "summary(Boston9_pol)"
   ]
  },
  {
   "cell_type": "code",
   "execution_count": 66,
   "id": "552cd82c",
   "metadata": {},
   "outputs": [
    {
     "data": {
      "text/plain": [
       "\n",
       "Call:\n",
       "lm(formula = crim ~ poly(ptratio, 3), data = Boston)\n",
       "\n",
       "Residuals:\n",
       "   Min     1Q Median     3Q    Max \n",
       "-6.833 -4.146 -1.655  1.408 82.697 \n",
       "\n",
       "Coefficients:\n",
       "                  Estimate Std. Error t value Pr(>|t|)    \n",
       "(Intercept)          3.614      0.361  10.008  < 2e-16 ***\n",
       "poly(ptratio, 3)1   56.045      8.122   6.901 1.57e-11 ***\n",
       "poly(ptratio, 3)2   24.775      8.122   3.050  0.00241 ** \n",
       "poly(ptratio, 3)3  -22.280      8.122  -2.743  0.00630 ** \n",
       "---\n",
       "Signif. codes:  0 '***' 0.001 '**' 0.01 '*' 0.05 '.' 0.1 ' ' 1\n",
       "\n",
       "Residual standard error: 8.122 on 502 degrees of freedom\n",
       "Multiple R-squared:  0.1138,\tAdjusted R-squared:  0.1085 \n",
       "F-statistic: 21.48 on 3 and 502 DF,  p-value: 4.171e-13\n"
      ]
     },
     "metadata": {},
     "output_type": "display_data"
    }
   ],
   "source": [
    "Boston10_pol=lm(crim ~ poly(ptratio,3), data=Boston)\n",
    "summary(Boston10_pol)"
   ]
  },
  {
   "cell_type": "code",
   "execution_count": 67,
   "id": "deb80cdf",
   "metadata": {},
   "outputs": [
    {
     "data": {
      "text/plain": [
       "\n",
       "Call:\n",
       "lm(formula = crim ~ poly(black, 3), data = Boston)\n",
       "\n",
       "Residuals:\n",
       "    Min      1Q  Median      3Q     Max \n",
       "-13.096  -2.343  -2.128  -1.439  86.790 \n",
       "\n",
       "Coefficients:\n",
       "                Estimate Std. Error t value Pr(>|t|)    \n",
       "(Intercept)       3.6135     0.3536  10.218   <2e-16 ***\n",
       "poly(black, 3)1 -74.4312     7.9546  -9.357   <2e-16 ***\n",
       "poly(black, 3)2   5.9264     7.9546   0.745    0.457    \n",
       "poly(black, 3)3  -4.8346     7.9546  -0.608    0.544    \n",
       "---\n",
       "Signif. codes:  0 '***' 0.001 '**' 0.01 '*' 0.05 '.' 0.1 ' ' 1\n",
       "\n",
       "Residual standard error: 7.955 on 502 degrees of freedom\n",
       "Multiple R-squared:  0.1498,\tAdjusted R-squared:  0.1448 \n",
       "F-statistic: 29.49 on 3 and 502 DF,  p-value: < 2.2e-16\n"
      ]
     },
     "metadata": {},
     "output_type": "display_data"
    }
   ],
   "source": [
    "Boston11_pol=lm(crim ~ poly(black,3), data=Boston)\n",
    "summary(Boston11_pol)"
   ]
  },
  {
   "cell_type": "code",
   "execution_count": 68,
   "id": "d14def80",
   "metadata": {},
   "outputs": [
    {
     "data": {
      "text/plain": [
       "\n",
       "Call:\n",
       "lm(formula = crim ~ poly(lstat, 3), data = Boston)\n",
       "\n",
       "Residuals:\n",
       "    Min      1Q  Median      3Q     Max \n",
       "-15.234  -2.151  -0.486   0.066  83.353 \n",
       "\n",
       "Coefficients:\n",
       "                Estimate Std. Error t value Pr(>|t|)    \n",
       "(Intercept)       3.6135     0.3392  10.654   <2e-16 ***\n",
       "poly(lstat, 3)1  88.0697     7.6294  11.543   <2e-16 ***\n",
       "poly(lstat, 3)2  15.8882     7.6294   2.082   0.0378 *  \n",
       "poly(lstat, 3)3 -11.5740     7.6294  -1.517   0.1299    \n",
       "---\n",
       "Signif. codes:  0 '***' 0.001 '**' 0.01 '*' 0.05 '.' 0.1 ' ' 1\n",
       "\n",
       "Residual standard error: 7.629 on 502 degrees of freedom\n",
       "Multiple R-squared:  0.2179,\tAdjusted R-squared:  0.2133 \n",
       "F-statistic: 46.63 on 3 and 502 DF,  p-value: < 2.2e-16\n"
      ]
     },
     "metadata": {},
     "output_type": "display_data"
    }
   ],
   "source": [
    "Boston12_pol=lm(crim ~ poly(lstat,3), data=Boston)\n",
    "summary(Boston12_pol)"
   ]
  },
  {
   "cell_type": "code",
   "execution_count": 69,
   "id": "f6c6be47",
   "metadata": {},
   "outputs": [
    {
     "data": {
      "text/plain": [
       "\n",
       "Call:\n",
       "lm(formula = crim ~ poly(medv, 3), data = Boston)\n",
       "\n",
       "Residuals:\n",
       "    Min      1Q  Median      3Q     Max \n",
       "-24.427  -1.976  -0.437   0.439  73.655 \n",
       "\n",
       "Coefficients:\n",
       "               Estimate Std. Error t value Pr(>|t|)    \n",
       "(Intercept)       3.614      0.292  12.374  < 2e-16 ***\n",
       "poly(medv, 3)1  -75.058      6.569 -11.426  < 2e-16 ***\n",
       "poly(medv, 3)2   88.086      6.569  13.409  < 2e-16 ***\n",
       "poly(medv, 3)3  -48.033      6.569  -7.312 1.05e-12 ***\n",
       "---\n",
       "Signif. codes:  0 '***' 0.001 '**' 0.01 '*' 0.05 '.' 0.1 ' ' 1\n",
       "\n",
       "Residual standard error: 6.569 on 502 degrees of freedom\n",
       "Multiple R-squared:  0.4202,\tAdjusted R-squared:  0.4167 \n",
       "F-statistic: 121.3 on 3 and 502 DF,  p-value: < 2.2e-16\n"
      ]
     },
     "metadata": {},
     "output_type": "display_data"
    }
   ],
   "source": [
    "Boston13_pol=lm(crim ~ poly(medv,3), data=Boston)\n",
    "summary(Boston13_pol)"
   ]
  },
  {
   "cell_type": "markdown",
   "id": "46f2c799",
   "metadata": {},
   "source": [
    "The models with the variables rad, tax and medv have R-squared close to 0.4 which can represent the existence of polinomial associations.\n",
    "\n",
    "For the variables medv, ptratio, dis age, nox and indus the 3 coefficients are significative with an alpha of 5%"
   ]
  }
 ],
 "metadata": {
  "kernelspec": {
   "display_name": "R",
   "language": "R",
   "name": "ir"
  },
  "language_info": {
   "codemirror_mode": "r",
   "file_extension": ".r",
   "mimetype": "text/x-r-source",
   "name": "R",
   "pygments_lexer": "r",
   "version": "3.6.1"
  }
 },
 "nbformat": 4,
 "nbformat_minor": 5
}
